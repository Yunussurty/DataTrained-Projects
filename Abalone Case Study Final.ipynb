{
 "cells": [
  {
   "cell_type": "markdown",
   "metadata": {
    "id": "qb89fEkMpSgi"
   },
   "source": [
    "# Abalone Case Study Project"
   ]
  },
  {
   "cell_type": "markdown",
   "metadata": {
    "id": "MNz6dyEepSgk"
   },
   "source": [
    "### The idea of the project is to predict the rings of each abalone which will lead us to the age of that abalone"
   ]
  },
  {
   "cell_type": "markdown",
   "metadata": {
    "id": "6FrEe0C7pSgm"
   },
   "source": [
    "### Since our target variable is continuous we will have to apply Regression model to solve the problem statement"
   ]
  },
  {
   "cell_type": "code",
   "execution_count": 1,
   "metadata": {
    "executionInfo": {
     "elapsed": 1053,
     "status": "ok",
     "timestamp": 1621763659735,
     "user": {
      "displayName": "Yunus Surty",
      "photoUrl": "",
      "userId": "12841903714310226526"
     },
     "user_tz": -330
    },
    "id": "Verpy-RRpSgn"
   },
   "outputs": [],
   "source": [
    "import numpy as np\n",
    "import pandas as pd\n",
    "import matplotlib.pyplot as plt\n",
    "import seaborn as sns\n",
    "import warnings\n",
    "warnings.filterwarnings('ignore')"
   ]
  },
  {
   "cell_type": "code",
   "execution_count": 2,
   "metadata": {
    "executionInfo": {
     "elapsed": 18,
     "status": "ok",
     "timestamp": 1621763660105,
     "user": {
      "displayName": "Yunus Surty",
      "photoUrl": "",
      "userId": "12841903714310226526"
     },
     "user_tz": -330
    },
    "id": "CKw8hQy0pSgo"
   },
   "outputs": [],
   "source": [
    "url = 'https://raw.githubusercontent.com/dsrscientist/dataset1/master/abalone.csv'"
   ]
  },
  {
   "cell_type": "code",
   "execution_count": 4,
   "metadata": {
    "executionInfo": {
     "elapsed": 427,
     "status": "ok",
     "timestamp": 1621763660522,
     "user": {
      "displayName": "Yunus Surty",
      "photoUrl": "",
      "userId": "12841903714310226526"
     },
     "user_tz": -330
    },
    "id": "0kCMbTSRpSgp"
   },
   "outputs": [],
   "source": [
    "df=pd.read_csv(url)"
   ]
  },
  {
   "cell_type": "code",
   "execution_count": 5,
   "metadata": {
    "colab": {
     "base_uri": "https://localhost:8080/",
     "height": 454
    },
    "executionInfo": {
     "elapsed": 30,
     "status": "ok",
     "timestamp": 1621763660524,
     "user": {
      "displayName": "Yunus Surty",
      "photoUrl": "",
      "userId": "12841903714310226526"
     },
     "user_tz": -330
    },
    "id": "Yr8Nbox5pSgp",
    "outputId": "102f0b09-a156-4bca-fff4-9c7d01c2d338"
   },
   "outputs": [
    {
     "data": {
      "text/html": [
       "<div>\n",
       "<style scoped>\n",
       "    .dataframe tbody tr th:only-of-type {\n",
       "        vertical-align: middle;\n",
       "    }\n",
       "\n",
       "    .dataframe tbody tr th {\n",
       "        vertical-align: top;\n",
       "    }\n",
       "\n",
       "    .dataframe thead th {\n",
       "        text-align: right;\n",
       "    }\n",
       "</style>\n",
       "<table border=\"1\" class=\"dataframe\">\n",
       "  <thead>\n",
       "    <tr style=\"text-align: right;\">\n",
       "      <th></th>\n",
       "      <th>Sex</th>\n",
       "      <th>Length</th>\n",
       "      <th>Diameter</th>\n",
       "      <th>Height</th>\n",
       "      <th>Whole weight</th>\n",
       "      <th>Shucked weight</th>\n",
       "      <th>Viscera weight</th>\n",
       "      <th>Shell weight</th>\n",
       "      <th>Rings</th>\n",
       "    </tr>\n",
       "  </thead>\n",
       "  <tbody>\n",
       "    <tr>\n",
       "      <th>0</th>\n",
       "      <td>M</td>\n",
       "      <td>0.455</td>\n",
       "      <td>0.365</td>\n",
       "      <td>0.095</td>\n",
       "      <td>0.5140</td>\n",
       "      <td>0.2245</td>\n",
       "      <td>0.1010</td>\n",
       "      <td>0.1500</td>\n",
       "      <td>15</td>\n",
       "    </tr>\n",
       "    <tr>\n",
       "      <th>1</th>\n",
       "      <td>M</td>\n",
       "      <td>0.350</td>\n",
       "      <td>0.265</td>\n",
       "      <td>0.090</td>\n",
       "      <td>0.2255</td>\n",
       "      <td>0.0995</td>\n",
       "      <td>0.0485</td>\n",
       "      <td>0.0700</td>\n",
       "      <td>7</td>\n",
       "    </tr>\n",
       "    <tr>\n",
       "      <th>2</th>\n",
       "      <td>F</td>\n",
       "      <td>0.530</td>\n",
       "      <td>0.420</td>\n",
       "      <td>0.135</td>\n",
       "      <td>0.6770</td>\n",
       "      <td>0.2565</td>\n",
       "      <td>0.1415</td>\n",
       "      <td>0.2100</td>\n",
       "      <td>9</td>\n",
       "    </tr>\n",
       "    <tr>\n",
       "      <th>3</th>\n",
       "      <td>M</td>\n",
       "      <td>0.440</td>\n",
       "      <td>0.365</td>\n",
       "      <td>0.125</td>\n",
       "      <td>0.5160</td>\n",
       "      <td>0.2155</td>\n",
       "      <td>0.1140</td>\n",
       "      <td>0.1550</td>\n",
       "      <td>10</td>\n",
       "    </tr>\n",
       "    <tr>\n",
       "      <th>4</th>\n",
       "      <td>I</td>\n",
       "      <td>0.330</td>\n",
       "      <td>0.255</td>\n",
       "      <td>0.080</td>\n",
       "      <td>0.2050</td>\n",
       "      <td>0.0895</td>\n",
       "      <td>0.0395</td>\n",
       "      <td>0.0550</td>\n",
       "      <td>7</td>\n",
       "    </tr>\n",
       "    <tr>\n",
       "      <th>...</th>\n",
       "      <td>...</td>\n",
       "      <td>...</td>\n",
       "      <td>...</td>\n",
       "      <td>...</td>\n",
       "      <td>...</td>\n",
       "      <td>...</td>\n",
       "      <td>...</td>\n",
       "      <td>...</td>\n",
       "      <td>...</td>\n",
       "    </tr>\n",
       "    <tr>\n",
       "      <th>4172</th>\n",
       "      <td>F</td>\n",
       "      <td>0.565</td>\n",
       "      <td>0.450</td>\n",
       "      <td>0.165</td>\n",
       "      <td>0.8870</td>\n",
       "      <td>0.3700</td>\n",
       "      <td>0.2390</td>\n",
       "      <td>0.2490</td>\n",
       "      <td>11</td>\n",
       "    </tr>\n",
       "    <tr>\n",
       "      <th>4173</th>\n",
       "      <td>M</td>\n",
       "      <td>0.590</td>\n",
       "      <td>0.440</td>\n",
       "      <td>0.135</td>\n",
       "      <td>0.9660</td>\n",
       "      <td>0.4390</td>\n",
       "      <td>0.2145</td>\n",
       "      <td>0.2605</td>\n",
       "      <td>10</td>\n",
       "    </tr>\n",
       "    <tr>\n",
       "      <th>4174</th>\n",
       "      <td>M</td>\n",
       "      <td>0.600</td>\n",
       "      <td>0.475</td>\n",
       "      <td>0.205</td>\n",
       "      <td>1.1760</td>\n",
       "      <td>0.5255</td>\n",
       "      <td>0.2875</td>\n",
       "      <td>0.3080</td>\n",
       "      <td>9</td>\n",
       "    </tr>\n",
       "    <tr>\n",
       "      <th>4175</th>\n",
       "      <td>F</td>\n",
       "      <td>0.625</td>\n",
       "      <td>0.485</td>\n",
       "      <td>0.150</td>\n",
       "      <td>1.0945</td>\n",
       "      <td>0.5310</td>\n",
       "      <td>0.2610</td>\n",
       "      <td>0.2960</td>\n",
       "      <td>10</td>\n",
       "    </tr>\n",
       "    <tr>\n",
       "      <th>4176</th>\n",
       "      <td>M</td>\n",
       "      <td>0.710</td>\n",
       "      <td>0.555</td>\n",
       "      <td>0.195</td>\n",
       "      <td>1.9485</td>\n",
       "      <td>0.9455</td>\n",
       "      <td>0.3765</td>\n",
       "      <td>0.4950</td>\n",
       "      <td>12</td>\n",
       "    </tr>\n",
       "  </tbody>\n",
       "</table>\n",
       "<p>4177 rows × 9 columns</p>\n",
       "</div>"
      ],
      "text/plain": [
       "     Sex  Length  Diameter  Height  Whole weight  Shucked weight  \\\n",
       "0      M   0.455     0.365   0.095        0.5140          0.2245   \n",
       "1      M   0.350     0.265   0.090        0.2255          0.0995   \n",
       "2      F   0.530     0.420   0.135        0.6770          0.2565   \n",
       "3      M   0.440     0.365   0.125        0.5160          0.2155   \n",
       "4      I   0.330     0.255   0.080        0.2050          0.0895   \n",
       "...   ..     ...       ...     ...           ...             ...   \n",
       "4172   F   0.565     0.450   0.165        0.8870          0.3700   \n",
       "4173   M   0.590     0.440   0.135        0.9660          0.4390   \n",
       "4174   M   0.600     0.475   0.205        1.1760          0.5255   \n",
       "4175   F   0.625     0.485   0.150        1.0945          0.5310   \n",
       "4176   M   0.710     0.555   0.195        1.9485          0.9455   \n",
       "\n",
       "      Viscera weight  Shell weight  Rings  \n",
       "0             0.1010        0.1500     15  \n",
       "1             0.0485        0.0700      7  \n",
       "2             0.1415        0.2100      9  \n",
       "3             0.1140        0.1550     10  \n",
       "4             0.0395        0.0550      7  \n",
       "...              ...           ...    ...  \n",
       "4172          0.2390        0.2490     11  \n",
       "4173          0.2145        0.2605     10  \n",
       "4174          0.2875        0.3080      9  \n",
       "4175          0.2610        0.2960     10  \n",
       "4176          0.3765        0.4950     12  \n",
       "\n",
       "[4177 rows x 9 columns]"
      ]
     },
     "execution_count": 5,
     "metadata": {},
     "output_type": "execute_result"
    }
   ],
   "source": [
    "df"
   ]
  },
  {
   "cell_type": "code",
   "execution_count": 6,
   "metadata": {
    "colab": {
     "base_uri": "https://localhost:8080/"
    },
    "executionInfo": {
     "elapsed": 23,
     "status": "ok",
     "timestamp": 1621763660525,
     "user": {
      "displayName": "Yunus Surty",
      "photoUrl": "",
      "userId": "12841903714310226526"
     },
     "user_tz": -330
    },
    "id": "XjsSlqBmpSgr",
    "outputId": "df3f5bdf-e301-44be-dad2-0b8e28ed4670"
   },
   "outputs": [
    {
     "name": "stdout",
     "output_type": "stream",
     "text": [
      "<class 'pandas.core.frame.DataFrame'>\n",
      "RangeIndex: 4177 entries, 0 to 4176\n",
      "Data columns (total 9 columns):\n",
      " #   Column          Non-Null Count  Dtype  \n",
      "---  ------          --------------  -----  \n",
      " 0   Sex             4177 non-null   object \n",
      " 1   Length          4177 non-null   float64\n",
      " 2   Diameter        4177 non-null   float64\n",
      " 3   Height          4177 non-null   float64\n",
      " 4   Whole weight    4177 non-null   float64\n",
      " 5   Shucked weight  4177 non-null   float64\n",
      " 6   Viscera weight  4177 non-null   float64\n",
      " 7   Shell weight    4177 non-null   float64\n",
      " 8   Rings           4177 non-null   int64  \n",
      "dtypes: float64(7), int64(1), object(1)\n",
      "memory usage: 293.8+ KB\n"
     ]
    }
   ],
   "source": [
    "df.info()"
   ]
  },
  {
   "cell_type": "markdown",
   "metadata": {
    "id": "hWkqcWYSpSgs"
   },
   "source": [
    "We have only feature with object data, remaining has numeric values"
   ]
  },
  {
   "cell_type": "code",
   "execution_count": 7,
   "metadata": {
    "colab": {
     "base_uri": "https://localhost:8080/"
    },
    "executionInfo": {
     "elapsed": 18,
     "status": "ok",
     "timestamp": 1621763660526,
     "user": {
      "displayName": "Yunus Surty",
      "photoUrl": "",
      "userId": "12841903714310226526"
     },
     "user_tz": -330
    },
    "id": "ZWFRqivApSgs",
    "outputId": "2a28d040-07a9-4378-87bb-313319d8a392"
   },
   "outputs": [
    {
     "data": {
      "text/plain": [
       "Sex               0\n",
       "Length            0\n",
       "Diameter          0\n",
       "Height            0\n",
       "Whole weight      0\n",
       "Shucked weight    0\n",
       "Viscera weight    0\n",
       "Shell weight      0\n",
       "Rings             0\n",
       "dtype: int64"
      ]
     },
     "execution_count": 7,
     "metadata": {},
     "output_type": "execute_result"
    }
   ],
   "source": [
    "df.isnull().sum()"
   ]
  },
  {
   "cell_type": "markdown",
   "metadata": {
    "id": "0ZrvJZEhpSgt"
   },
   "source": [
    "There are no null values in the dataset"
   ]
  },
  {
   "cell_type": "code",
   "execution_count": 8,
   "metadata": {
    "colab": {
     "base_uri": "https://localhost:8080/",
     "height": 323
    },
    "executionInfo": {
     "elapsed": 827,
     "status": "ok",
     "timestamp": 1621763661340,
     "user": {
      "displayName": "Yunus Surty",
      "photoUrl": "",
      "userId": "12841903714310226526"
     },
     "user_tz": -330
    },
    "id": "yUEX7k-jpSgu",
    "outputId": "233ae6c4-2a24-443e-e9ac-3475bca510e1"
   },
   "outputs": [
    {
     "data": {
      "text/plain": [
       "<AxesSubplot:>"
      ]
     },
     "execution_count": 8,
     "metadata": {},
     "output_type": "execute_result"
    },
    {
     "data": {
      "image/png": "[encoded data removed]",
      "text/plain": [
       "<Figure size 432x288 with 2 Axes>"
      ]
     },
     "metadata": {
      "needs_background": "light"
     },
     "output_type": "display_data"
    }
   ],
   "source": [
    "sns.heatmap(df.isnull())"
   ]
  },
  {
   "cell_type": "code",
   "execution_count": 9,
   "metadata": {
    "executionInfo": {
     "elapsed": 50,
     "status": "ok",
     "timestamp": 1621763661341,
     "user": {
      "displayName": "Yunus Surty",
      "photoUrl": "",
      "userId": "12841903714310226526"
     },
     "user_tz": -330
    },
    "id": "5LypXPmGpSgu"
   },
   "outputs": [],
   "source": [
    "missing_values = [\"?\",'--','']\n",
    "df=pd.read_csv(url,na_values = missing_values)"
   ]
  },
  {
   "cell_type": "code",
   "execution_count": 10,
   "metadata": {
    "colab": {
     "base_uri": "https://localhost:8080/"
    },
    "executionInfo": {
     "elapsed": 50,
     "status": "ok",
     "timestamp": 1621763661342,
     "user": {
      "displayName": "Yunus Surty",
      "photoUrl": "",
      "userId": "12841903714310226526"
     },
     "user_tz": -330
    },
    "id": "Qyi9fmddpSgv",
    "outputId": "2b9a988d-12da-4ca2-fbce-bb75f81ccb61"
   },
   "outputs": [
    {
     "data": {
      "text/plain": [
       "Sex               0\n",
       "Length            0\n",
       "Diameter          0\n",
       "Height            0\n",
       "Whole weight      0\n",
       "Shucked weight    0\n",
       "Viscera weight    0\n",
       "Shell weight      0\n",
       "Rings             0\n",
       "dtype: int64"
      ]
     },
     "execution_count": 10,
     "metadata": {},
     "output_type": "execute_result"
    }
   ],
   "source": [
    "df.isnull().sum()"
   ]
  },
  {
   "cell_type": "code",
   "execution_count": 11,
   "metadata": {
    "colab": {
     "base_uri": "https://localhost:8080/",
     "height": 332
    },
    "executionInfo": {
     "elapsed": 45,
     "status": "ok",
     "timestamp": 1621763661342,
     "user": {
      "displayName": "Yunus Surty",
      "photoUrl": "",
      "userId": "12841903714310226526"
     },
     "user_tz": -330
    },
    "id": "CvEkpLvPpSgw",
    "outputId": "0b114b53-9ee8-459c-cc03-55bf31915dce"
   },
   "outputs": [
    {
     "data": {
      "text/html": [
       "<div>\n",
       "<style scoped>\n",
       "    .dataframe tbody tr th:only-of-type {\n",
       "        vertical-align: middle;\n",
       "    }\n",
       "\n",
       "    .dataframe tbody tr th {\n",
       "        vertical-align: top;\n",
       "    }\n",
       "\n",
       "    .dataframe thead th {\n",
       "        text-align: right;\n",
       "    }\n",
       "</style>\n",
       "<table border=\"1\" class=\"dataframe\">\n",
       "  <thead>\n",
       "    <tr style=\"text-align: right;\">\n",
       "      <th></th>\n",
       "      <th>Length</th>\n",
       "      <th>Diameter</th>\n",
       "      <th>Height</th>\n",
       "      <th>Whole weight</th>\n",
       "      <th>Shucked weight</th>\n",
       "      <th>Viscera weight</th>\n",
       "      <th>Shell weight</th>\n",
       "      <th>Rings</th>\n",
       "    </tr>\n",
       "  </thead>\n",
       "  <tbody>\n",
       "    <tr>\n",
       "      <th>count</th>\n",
       "      <td>4177.000000</td>\n",
       "      <td>4177.000000</td>\n",
       "      <td>4177.000000</td>\n",
       "      <td>4177.000000</td>\n",
       "      <td>4177.000000</td>\n",
       "      <td>4177.000000</td>\n",
       "      <td>4177.000000</td>\n",
       "      <td>4177.000000</td>\n",
       "    </tr>\n",
       "    <tr>\n",
       "      <th>mean</th>\n",
       "      <td>0.523992</td>\n",
       "      <td>0.407881</td>\n",
       "      <td>0.139516</td>\n",
       "      <td>0.828742</td>\n",
       "      <td>0.359367</td>\n",
       "      <td>0.180594</td>\n",
       "      <td>0.238831</td>\n",
       "      <td>9.933684</td>\n",
       "    </tr>\n",
       "    <tr>\n",
       "      <th>std</th>\n",
       "      <td>0.120093</td>\n",
       "      <td>0.099240</td>\n",
       "      <td>0.041827</td>\n",
       "      <td>0.490389</td>\n",
       "      <td>0.221963</td>\n",
       "      <td>0.109614</td>\n",
       "      <td>0.139203</td>\n",
       "      <td>3.224169</td>\n",
       "    </tr>\n",
       "    <tr>\n",
       "      <th>min</th>\n",
       "      <td>0.075000</td>\n",
       "      <td>0.055000</td>\n",
       "      <td>0.000000</td>\n",
       "      <td>0.002000</td>\n",
       "      <td>0.001000</td>\n",
       "      <td>0.000500</td>\n",
       "      <td>0.001500</td>\n",
       "      <td>1.000000</td>\n",
       "    </tr>\n",
       "    <tr>\n",
       "      <th>25%</th>\n",
       "      <td>0.450000</td>\n",
       "      <td>0.350000</td>\n",
       "      <td>0.115000</td>\n",
       "      <td>0.441500</td>\n",
       "      <td>0.186000</td>\n",
       "      <td>0.093500</td>\n",
       "      <td>0.130000</td>\n",
       "      <td>8.000000</td>\n",
       "    </tr>\n",
       "    <tr>\n",
       "      <th>50%</th>\n",
       "      <td>0.545000</td>\n",
       "      <td>0.425000</td>\n",
       "      <td>0.140000</td>\n",
       "      <td>0.799500</td>\n",
       "      <td>0.336000</td>\n",
       "      <td>0.171000</td>\n",
       "      <td>0.234000</td>\n",
       "      <td>9.000000</td>\n",
       "    </tr>\n",
       "    <tr>\n",
       "      <th>75%</th>\n",
       "      <td>0.615000</td>\n",
       "      <td>0.480000</td>\n",
       "      <td>0.165000</td>\n",
       "      <td>1.153000</td>\n",
       "      <td>0.502000</td>\n",
       "      <td>0.253000</td>\n",
       "      <td>0.329000</td>\n",
       "      <td>11.000000</td>\n",
       "    </tr>\n",
       "    <tr>\n",
       "      <th>max</th>\n",
       "      <td>0.815000</td>\n",
       "      <td>0.650000</td>\n",
       "      <td>1.130000</td>\n",
       "      <td>2.825500</td>\n",
       "      <td>1.488000</td>\n",
       "      <td>0.760000</td>\n",
       "      <td>1.005000</td>\n",
       "      <td>29.000000</td>\n",
       "    </tr>\n",
       "  </tbody>\n",
       "</table>\n",
       "</div>"
      ],
      "text/plain": [
       "            Length     Diameter       Height  Whole weight  Shucked weight  \\\n",
       "count  4177.000000  4177.000000  4177.000000   4177.000000     4177.000000   \n",
       "mean      0.523992     0.407881     0.139516      0.828742        0.359367   \n",
       "std       0.120093     0.099240     0.041827      0.490389        0.221963   \n",
       "min       0.075000     0.055000     0.000000      0.002000        0.001000   \n",
       "25%       0.450000     0.350000     0.115000      0.441500        0.186000   \n",
       "50%       0.545000     0.425000     0.140000      0.799500        0.336000   \n",
       "75%       0.615000     0.480000     0.165000      1.153000        0.502000   \n",
       "max       0.815000     0.650000     1.130000      2.825500        1.488000   \n",
       "\n",
       "       Viscera weight  Shell weight        Rings  \n",
       "count     4177.000000   4177.000000  4177.000000  \n",
       "mean         0.180594      0.238831     9.933684  \n",
       "std          0.109614      0.139203     3.224169  \n",
       "min          0.000500      0.001500     1.000000  \n",
       "25%          0.093500      0.130000     8.000000  \n",
       "50%          0.171000      0.234000     9.000000  \n",
       "75%          0.253000      0.329000    11.000000  \n",
       "max          0.760000      1.005000    29.000000  "
      ]
     },
     "execution_count": 11,
     "metadata": {},
     "output_type": "execute_result"
    }
   ],
   "source": [
    "df.describe()"
   ]
  },
  {
   "cell_type": "markdown",
   "metadata": {
    "id": "9gELC96MpSgw"
   },
   "source": [
    "As per attributes given Rings / integer / -- / +1.5 gives the age in years.\n",
    "\n",
    "Hence we will change the column name of 'Rings' to 'Age' and will add 1.5 to each row."
   ]
  },
  {
   "cell_type": "code",
   "execution_count": 12,
   "metadata": {
    "executionInfo": {
     "elapsed": 44,
     "status": "ok",
     "timestamp": 1621763661345,
     "user": {
      "displayName": "Yunus Surty",
      "photoUrl": "",
      "userId": "12841903714310226526"
     },
     "user_tz": -330
    },
    "id": "arW_iDRApSgx"
   },
   "outputs": [],
   "source": [
    "df['Age'] = df['Rings']+1.5"
   ]
  },
  {
   "cell_type": "code",
   "execution_count": 13,
   "metadata": {
    "colab": {
     "base_uri": "https://localhost:8080/",
     "height": 454
    },
    "executionInfo": {
     "elapsed": 43,
     "status": "ok",
     "timestamp": 1621763661345,
     "user": {
      "displayName": "Yunus Surty",
      "photoUrl": "",
      "userId": "12841903714310226526"
     },
     "user_tz": -330
    },
    "id": "jf250CxOpSgy",
    "outputId": "fce8ab99-fe02-4d62-8ac8-efc25fc40c1c"
   },
   "outputs": [
    {
     "data": {
      "text/html": [
       "<div>\n",
       "<style scoped>\n",
       "    .dataframe tbody tr th:only-of-type {\n",
       "        vertical-align: middle;\n",
       "    }\n",
       "\n",
       "    .dataframe tbody tr th {\n",
       "        vertical-align: top;\n",
       "    }\n",
       "\n",
       "    .dataframe thead th {\n",
       "        text-align: right;\n",
       "    }\n",
       "</style>\n",
       "<table border=\"1\" class=\"dataframe\">\n",
       "  <thead>\n",
       "    <tr style=\"text-align: right;\">\n",
       "      <th></th>\n",
       "      <th>Sex</th>\n",
       "      <th>Length</th>\n",
       "      <th>Diameter</th>\n",
       "      <th>Height</th>\n",
       "      <th>Whole weight</th>\n",
       "      <th>Shucked weight</th>\n",
       "      <th>Viscera weight</th>\n",
       "      <th>Shell weight</th>\n",
       "      <th>Rings</th>\n",
       "      <th>Age</th>\n",
       "    </tr>\n",
       "  </thead>\n",
       "  <tbody>\n",
       "    <tr>\n",
       "      <th>0</th>\n",
       "      <td>M</td>\n",
       "      <td>0.455</td>\n",
       "      <td>0.365</td>\n",
       "      <td>0.095</td>\n",
       "      <td>0.5140</td>\n",
       "      <td>0.2245</td>\n",
       "      <td>0.1010</td>\n",
       "      <td>0.1500</td>\n",
       "      <td>15</td>\n",
       "      <td>16.5</td>\n",
       "    </tr>\n",
       "    <tr>\n",
       "      <th>1</th>\n",
       "      <td>M</td>\n",
       "      <td>0.350</td>\n",
       "      <td>0.265</td>\n",
       "      <td>0.090</td>\n",
       "      <td>0.2255</td>\n",
       "      <td>0.0995</td>\n",
       "      <td>0.0485</td>\n",
       "      <td>0.0700</td>\n",
       "      <td>7</td>\n",
       "      <td>8.5</td>\n",
       "    </tr>\n",
       "    <tr>\n",
       "      <th>2</th>\n",
       "      <td>F</td>\n",
       "      <td>0.530</td>\n",
       "      <td>0.420</td>\n",
       "      <td>0.135</td>\n",
       "      <td>0.6770</td>\n",
       "      <td>0.2565</td>\n",
       "      <td>0.1415</td>\n",
       "      <td>0.2100</td>\n",
       "      <td>9</td>\n",
       "      <td>10.5</td>\n",
       "    </tr>\n",
       "    <tr>\n",
       "      <th>3</th>\n",
       "      <td>M</td>\n",
       "      <td>0.440</td>\n",
       "      <td>0.365</td>\n",
       "      <td>0.125</td>\n",
       "      <td>0.5160</td>\n",
       "      <td>0.2155</td>\n",
       "      <td>0.1140</td>\n",
       "      <td>0.1550</td>\n",
       "      <td>10</td>\n",
       "      <td>11.5</td>\n",
       "    </tr>\n",
       "    <tr>\n",
       "      <th>4</th>\n",
       "      <td>I</td>\n",
       "      <td>0.330</td>\n",
       "      <td>0.255</td>\n",
       "      <td>0.080</td>\n",
       "      <td>0.2050</td>\n",
       "      <td>0.0895</td>\n",
       "      <td>0.0395</td>\n",
       "      <td>0.0550</td>\n",
       "      <td>7</td>\n",
       "      <td>8.5</td>\n",
       "    </tr>\n",
       "    <tr>\n",
       "      <th>...</th>\n",
       "      <td>...</td>\n",
       "      <td>...</td>\n",
       "      <td>...</td>\n",
       "      <td>...</td>\n",
       "      <td>...</td>\n",
       "      <td>...</td>\n",
       "      <td>...</td>\n",
       "      <td>...</td>\n",
       "      <td>...</td>\n",
       "      <td>...</td>\n",
       "    </tr>\n",
       "    <tr>\n",
       "      <th>4172</th>\n",
       "      <td>F</td>\n",
       "      <td>0.565</td>\n",
       "      <td>0.450</td>\n",
       "      <td>0.165</td>\n",
       "      <td>0.8870</td>\n",
       "      <td>0.3700</td>\n",
       "      <td>0.2390</td>\n",
       "      <td>0.2490</td>\n",
       "      <td>11</td>\n",
       "      <td>12.5</td>\n",
       "    </tr>\n",
       "    <tr>\n",
       "      <th>4173</th>\n",
       "      <td>M</td>\n",
       "      <td>0.590</td>\n",
       "      <td>0.440</td>\n",
       "      <td>0.135</td>\n",
       "      <td>0.9660</td>\n",
       "      <td>0.4390</td>\n",
       "      <td>0.2145</td>\n",
       "      <td>0.2605</td>\n",
       "      <td>10</td>\n",
       "      <td>11.5</td>\n",
       "    </tr>\n",
       "    <tr>\n",
       "      <th>4174</th>\n",
       "      <td>M</td>\n",
       "      <td>0.600</td>\n",
       "      <td>0.475</td>\n",
       "      <td>0.205</td>\n",
       "      <td>1.1760</td>\n",
       "      <td>0.5255</td>\n",
       "      <td>0.2875</td>\n",
       "      <td>0.3080</td>\n",
       "      <td>9</td>\n",
       "      <td>10.5</td>\n",
       "    </tr>\n",
       "    <tr>\n",
       "      <th>4175</th>\n",
       "      <td>F</td>\n",
       "      <td>0.625</td>\n",
       "      <td>0.485</td>\n",
       "      <td>0.150</td>\n",
       "      <td>1.0945</td>\n",
       "      <td>0.5310</td>\n",
       "      <td>0.2610</td>\n",
       "      <td>0.2960</td>\n",
       "      <td>10</td>\n",
       "      <td>11.5</td>\n",
       "    </tr>\n",
       "    <tr>\n",
       "      <th>4176</th>\n",
       "      <td>M</td>\n",
       "      <td>0.710</td>\n",
       "      <td>0.555</td>\n",
       "      <td>0.195</td>\n",
       "      <td>1.9485</td>\n",
       "      <td>0.9455</td>\n",
       "      <td>0.3765</td>\n",
       "      <td>0.4950</td>\n",
       "      <td>12</td>\n",
       "      <td>13.5</td>\n",
       "    </tr>\n",
       "  </tbody>\n",
       "</table>\n",
       "<p>4177 rows × 10 columns</p>\n",
       "</div>"
      ],
      "text/plain": [
       "     Sex  Length  Diameter  Height  Whole weight  Shucked weight  \\\n",
       "0      M   0.455     0.365   0.095        0.5140          0.2245   \n",
       "1      M   0.350     0.265   0.090        0.2255          0.0995   \n",
       "2      F   0.530     0.420   0.135        0.6770          0.2565   \n",
       "3      M   0.440     0.365   0.125        0.5160          0.2155   \n",
       "4      I   0.330     0.255   0.080        0.2050          0.0895   \n",
       "...   ..     ...       ...     ...           ...             ...   \n",
       "4172   F   0.565     0.450   0.165        0.8870          0.3700   \n",
       "4173   M   0.590     0.440   0.135        0.9660          0.4390   \n",
       "4174   M   0.600     0.475   0.205        1.1760          0.5255   \n",
       "4175   F   0.625     0.485   0.150        1.0945          0.5310   \n",
       "4176   M   0.710     0.555   0.195        1.9485          0.9455   \n",
       "\n",
       "      Viscera weight  Shell weight  Rings   Age  \n",
       "0             0.1010        0.1500     15  16.5  \n",
       "1             0.0485        0.0700      7   8.5  \n",
       "2             0.1415        0.2100      9  10.5  \n",
       "3             0.1140        0.1550     10  11.5  \n",
       "4             0.0395        0.0550      7   8.5  \n",
       "...              ...           ...    ...   ...  \n",
       "4172          0.2390        0.2490     11  12.5  \n",
       "4173          0.2145        0.2605     10  11.5  \n",
       "4174          0.2875        0.3080      9  10.5  \n",
       "4175          0.2610        0.2960     10  11.5  \n",
       "4176          0.3765        0.4950     12  13.5  \n",
       "\n",
       "[4177 rows x 10 columns]"
      ]
     },
     "execution_count": 13,
     "metadata": {},
     "output_type": "execute_result"
    }
   ],
   "source": [
    "df"
   ]
  },
  {
   "cell_type": "markdown",
   "metadata": {
    "id": "BHjXKxILpSgy"
   },
   "source": [
    "We can see that we have added 1.5 value to the Rings to get the Age.\n",
    "Now we will drop the \"Rings\" columns."
   ]
  },
  {
   "cell_type": "code",
   "execution_count": 14,
   "metadata": {
    "executionInfo": {
     "elapsed": 37,
     "status": "ok",
     "timestamp": 1621763661347,
     "user": {
      "displayName": "Yunus Surty",
      "photoUrl": "",
      "userId": "12841903714310226526"
     },
     "user_tz": -330
    },
    "id": "sDus0niVpSgz"
   },
   "outputs": [],
   "source": [
    "df.drop(['Rings'],axis=1,inplace=True)"
   ]
  },
  {
   "cell_type": "code",
   "execution_count": 15,
   "metadata": {
    "colab": {
     "base_uri": "https://localhost:8080/",
     "height": 454
    },
    "executionInfo": {
     "elapsed": 545,
     "status": "ok",
     "timestamp": 1621763661856,
     "user": {
      "displayName": "Yunus Surty",
      "photoUrl": "",
      "userId": "12841903714310226526"
     },
     "user_tz": -330
    },
    "id": "yQPBaV88pSgz",
    "outputId": "534b0252-5497-48a8-ccc4-5da534e24f90"
   },
   "outputs": [
    {
     "data": {
      "text/html": [
       "<div>\n",
       "<style scoped>\n",
       "    .dataframe tbody tr th:only-of-type {\n",
       "        vertical-align: middle;\n",
       "    }\n",
       "\n",
       "    .dataframe tbody tr th {\n",
       "        vertical-align: top;\n",
       "    }\n",
       "\n",
       "    .dataframe thead th {\n",
       "        text-align: right;\n",
       "    }\n",
       "</style>\n",
       "<table border=\"1\" class=\"dataframe\">\n",
       "  <thead>\n",
       "    <tr style=\"text-align: right;\">\n",
       "      <th></th>\n",
       "      <th>Sex</th>\n",
       "      <th>Length</th>\n",
       "      <th>Diameter</th>\n",
       "      <th>Height</th>\n",
       "      <th>Whole weight</th>\n",
       "      <th>Shucked weight</th>\n",
       "      <th>Viscera weight</th>\n",
       "      <th>Shell weight</th>\n",
       "      <th>Age</th>\n",
       "    </tr>\n",
       "  </thead>\n",
       "  <tbody>\n",
       "    <tr>\n",
       "      <th>0</th>\n",
       "      <td>M</td>\n",
       "      <td>0.455</td>\n",
       "      <td>0.365</td>\n",
       "      <td>0.095</td>\n",
       "      <td>0.5140</td>\n",
       "      <td>0.2245</td>\n",
       "      <td>0.1010</td>\n",
       "      <td>0.1500</td>\n",
       "      <td>16.5</td>\n",
       "    </tr>\n",
       "    <tr>\n",
       "      <th>1</th>\n",
       "      <td>M</td>\n",
       "      <td>0.350</td>\n",
       "      <td>0.265</td>\n",
       "      <td>0.090</td>\n",
       "      <td>0.2255</td>\n",
       "      <td>0.0995</td>\n",
       "      <td>0.0485</td>\n",
       "      <td>0.0700</td>\n",
       "      <td>8.5</td>\n",
       "    </tr>\n",
       "    <tr>\n",
       "      <th>2</th>\n",
       "      <td>F</td>\n",
       "      <td>0.530</td>\n",
       "      <td>0.420</td>\n",
       "      <td>0.135</td>\n",
       "      <td>0.6770</td>\n",
       "      <td>0.2565</td>\n",
       "      <td>0.1415</td>\n",
       "      <td>0.2100</td>\n",
       "      <td>10.5</td>\n",
       "    </tr>\n",
       "    <tr>\n",
       "      <th>3</th>\n",
       "      <td>M</td>\n",
       "      <td>0.440</td>\n",
       "      <td>0.365</td>\n",
       "      <td>0.125</td>\n",
       "      <td>0.5160</td>\n",
       "      <td>0.2155</td>\n",
       "      <td>0.1140</td>\n",
       "      <td>0.1550</td>\n",
       "      <td>11.5</td>\n",
       "    </tr>\n",
       "    <tr>\n",
       "      <th>4</th>\n",
       "      <td>I</td>\n",
       "      <td>0.330</td>\n",
       "      <td>0.255</td>\n",
       "      <td>0.080</td>\n",
       "      <td>0.2050</td>\n",
       "      <td>0.0895</td>\n",
       "      <td>0.0395</td>\n",
       "      <td>0.0550</td>\n",
       "      <td>8.5</td>\n",
       "    </tr>\n",
       "    <tr>\n",
       "      <th>...</th>\n",
       "      <td>...</td>\n",
       "      <td>...</td>\n",
       "      <td>...</td>\n",
       "      <td>...</td>\n",
       "      <td>...</td>\n",
       "      <td>...</td>\n",
       "      <td>...</td>\n",
       "      <td>...</td>\n",
       "      <td>...</td>\n",
       "    </tr>\n",
       "    <tr>\n",
       "      <th>4172</th>\n",
       "      <td>F</td>\n",
       "      <td>0.565</td>\n",
       "      <td>0.450</td>\n",
       "      <td>0.165</td>\n",
       "      <td>0.8870</td>\n",
       "      <td>0.3700</td>\n",
       "      <td>0.2390</td>\n",
       "      <td>0.2490</td>\n",
       "      <td>12.5</td>\n",
       "    </tr>\n",
       "    <tr>\n",
       "      <th>4173</th>\n",
       "      <td>M</td>\n",
       "      <td>0.590</td>\n",
       "      <td>0.440</td>\n",
       "      <td>0.135</td>\n",
       "      <td>0.9660</td>\n",
       "      <td>0.4390</td>\n",
       "      <td>0.2145</td>\n",
       "      <td>0.2605</td>\n",
       "      <td>11.5</td>\n",
       "    </tr>\n",
       "    <tr>\n",
       "      <th>4174</th>\n",
       "      <td>M</td>\n",
       "      <td>0.600</td>\n",
       "      <td>0.475</td>\n",
       "      <td>0.205</td>\n",
       "      <td>1.1760</td>\n",
       "      <td>0.5255</td>\n",
       "      <td>0.2875</td>\n",
       "      <td>0.3080</td>\n",
       "      <td>10.5</td>\n",
       "    </tr>\n",
       "    <tr>\n",
       "      <th>4175</th>\n",
       "      <td>F</td>\n",
       "      <td>0.625</td>\n",
       "      <td>0.485</td>\n",
       "      <td>0.150</td>\n",
       "      <td>1.0945</td>\n",
       "      <td>0.5310</td>\n",
       "      <td>0.2610</td>\n",
       "      <td>0.2960</td>\n",
       "      <td>11.5</td>\n",
       "    </tr>\n",
       "    <tr>\n",
       "      <th>4176</th>\n",
       "      <td>M</td>\n",
       "      <td>0.710</td>\n",
       "      <td>0.555</td>\n",
       "      <td>0.195</td>\n",
       "      <td>1.9485</td>\n",
       "      <td>0.9455</td>\n",
       "      <td>0.3765</td>\n",
       "      <td>0.4950</td>\n",
       "      <td>13.5</td>\n",
       "    </tr>\n",
       "  </tbody>\n",
       "</table>\n",
       "<p>4177 rows × 9 columns</p>\n",
       "</div>"
      ],
      "text/plain": [
       "     Sex  Length  Diameter  Height  Whole weight  Shucked weight  \\\n",
       "0      M   0.455     0.365   0.095        0.5140          0.2245   \n",
       "1      M   0.350     0.265   0.090        0.2255          0.0995   \n",
       "2      F   0.530     0.420   0.135        0.6770          0.2565   \n",
       "3      M   0.440     0.365   0.125        0.5160          0.2155   \n",
       "4      I   0.330     0.255   0.080        0.2050          0.0895   \n",
       "...   ..     ...       ...     ...           ...             ...   \n",
       "4172   F   0.565     0.450   0.165        0.8870          0.3700   \n",
       "4173   M   0.590     0.440   0.135        0.9660          0.4390   \n",
       "4174   M   0.600     0.475   0.205        1.1760          0.5255   \n",
       "4175   F   0.625     0.485   0.150        1.0945          0.5310   \n",
       "4176   M   0.710     0.555   0.195        1.9485          0.9455   \n",
       "\n",
       "      Viscera weight  Shell weight   Age  \n",
       "0             0.1010        0.1500  16.5  \n",
       "1             0.0485        0.0700   8.5  \n",
       "2             0.1415        0.2100  10.5  \n",
       "3             0.1140        0.1550  11.5  \n",
       "4             0.0395        0.0550   8.5  \n",
       "...              ...           ...   ...  \n",
       "4172          0.2390        0.2490  12.5  \n",
       "4173          0.2145        0.2605  11.5  \n",
       "4174          0.2875        0.3080  10.5  \n",
       "4175          0.2610        0.2960  11.5  \n",
       "4176          0.3765        0.4950  13.5  \n",
       "\n",
       "[4177 rows x 9 columns]"
      ]
     },
     "execution_count": 15,
     "metadata": {},
     "output_type": "execute_result"
    }
   ],
   "source": [
    "df"
   ]
  },
  {
   "cell_type": "markdown",
   "metadata": {
    "id": "aeUN1omipSg0"
   },
   "source": [
    "## EDA"
   ]
  },
  {
   "cell_type": "markdown",
   "metadata": {
    "id": "W_I1ZQsjpSg0"
   },
   "source": [
    "Lets see what is the distribution of Sex attributes in the dataset"
   ]
  },
  {
   "cell_type": "code",
   "execution_count": 16,
   "metadata": {
    "colab": {
     "base_uri": "https://localhost:8080/"
    },
    "executionInfo": {
     "elapsed": 47,
     "status": "ok",
     "timestamp": 1621763661858,
     "user": {
      "displayName": "Yunus Surty",
      "photoUrl": "",
      "userId": "12841903714310226526"
     },
     "user_tz": -330
    },
    "id": "R_QXA-GxpSg1",
    "outputId": "09d8ef1f-37cd-4fea-c893-fd6659b71903"
   },
   "outputs": [
    {
     "data": {
      "text/plain": [
       "M    1528\n",
       "I    1342\n",
       "F    1307\n",
       "Name: Sex, dtype: int64"
      ]
     },
     "execution_count": 16,
     "metadata": {},
     "output_type": "execute_result"
    }
   ],
   "source": [
    "df['Sex'].value_counts()"
   ]
  },
  {
   "cell_type": "code",
   "execution_count": 17,
   "metadata": {
    "colab": {
     "base_uri": "https://localhost:8080/",
     "height": 272
    },
    "executionInfo": {
     "elapsed": 41,
     "status": "ok",
     "timestamp": 1621763661860,
     "user": {
      "displayName": "Yunus Surty",
      "photoUrl": "",
      "userId": "12841903714310226526"
     },
     "user_tz": -330
    },
    "id": "NhKnNic-pSg1",
    "outputId": "16fb0604-66d2-4585-e1df-85f8b77be69a"
   },
   "outputs": [
    {
     "data": {
      "text/plain": [
       "<AxesSubplot:xlabel='Sex', ylabel='count'>"
      ]
     },
     "execution_count": 17,
     "metadata": {},
     "output_type": "execute_result"
    },
    {
     "data": {
      "image/png": "[encoded data removed]",
      "text/plain": [
       "<Figure size 432x288 with 1 Axes>"
      ]
     },
     "metadata": {
      "needs_background": "light"
     },
     "output_type": "display_data"
    }
   ],
   "source": [
    "sns.countplot(x='Sex',data=df)"
   ]
  },
  {
   "cell_type": "markdown",
   "metadata": {
    "id": "z5NNzyLPpSg2"
   },
   "source": [
    "We have high number of males attributes followed by Infant."
   ]
  },
  {
   "cell_type": "code",
   "execution_count": 18,
   "metadata": {
    "colab": {
     "base_uri": "https://localhost:8080/",
     "height": 275
    },
    "executionInfo": {
     "elapsed": 33,
     "status": "ok",
     "timestamp": 1621763661861,
     "user": {
      "displayName": "Yunus Surty",
      "photoUrl": "",
      "userId": "12841903714310226526"
     },
     "user_tz": -330
    },
    "id": "HIVhm11MpSg3",
    "outputId": "f5dfdea4-23f9-4587-fe0d-0946898c977a"
   },
   "outputs": [
    {
     "data": {
      "text/plain": [
       "<AxesSubplot:xlabel='Sex', ylabel='Age'>"
      ]
     },
     "execution_count": 18,
     "metadata": {},
     "output_type": "execute_result"
    },
    {
     "data": {
      "image/png": "[encoded data removed]",
      "text/plain": [
       "<Figure size 432x288 with 1 Axes>"
      ]
     },
     "metadata": {
      "needs_background": "light"
     },
     "output_type": "display_data"
    }
   ],
   "source": [
    "sns.violinplot(x='Sex', y='Age', data=df)"
   ]
  },
  {
   "cell_type": "markdown",
   "metadata": {
    "id": "cNQuGfKWpSg3"
   },
   "source": [
    "Male has an age range between 7 to 18years.\n",
    "Female has an age range between 7 to 18years.\n",
    "Infant has an age range between 5 to 13years."
   ]
  },
  {
   "cell_type": "code",
   "execution_count": 19,
   "metadata": {
    "colab": {
     "base_uri": "https://localhost:8080/",
     "height": 1000
    },
    "executionInfo": {
     "elapsed": 6756,
     "status": "ok",
     "timestamp": 1621763668594,
     "user": {
      "displayName": "Yunus Surty",
      "photoUrl": "",
      "userId": "12841903714310226526"
     },
     "user_tz": -330
    },
    "id": "VLhC8igNpSg4",
    "outputId": "df018f66-dd26-4048-d0fd-0ada317d58a8",
    "scrolled": false
   },
   "outputs": [
    {
     "data": {
      "image/png": "[encoded data removed]",
      "text/plain": [
       "<Figure size 432x288 with 1 Axes>"
      ]
     },
     "metadata": {
      "needs_background": "light"
     },
     "output_type": "display_data"
    },
    {
     "data": {
      "image/png": "[encoded data removed]",
      "text/plain": [
       "<Figure size 432x288 with 1 Axes>"
      ]
     },
     "metadata": {
      "needs_background": "light"
     },
     "output_type": "display_data"
    },
    {
     "data": {
      "image/png": "[encoded data removed]",
      "text/plain": [
       "<Figure size 432x288 with 1 Axes>"
      ]
     },
     "metadata": {
      "needs_background": "light"
     },
     "output_type": "display_data"
    },
    {
     "data": {
      "image/png": "[encoded data removed]",
      "text/plain": [
       "<Figure size 432x288 with 1 Axes>"
      ]
     },
     "metadata": {
      "needs_background": "light"
     },
     "output_type": "display_data"
    },
    {
     "data": {
      "image/png": "[encoded data removed]",
      "text/plain": [
       "<Figure size 432x288 with 1 Axes>"
      ]
     },
     "metadata": {
      "needs_background": "light"
     },
     "output_type": "display_data"
    },
    {
     "data": {
      "image/png": "[encoded data removed]",
      "text/plain": [
       "<Figure size 432x288 with 1 Axes>"
      ]
     },
     "metadata": {
      "needs_background": "light"
     },
     "output_type": "display_data"
    },
    {
     "data": {
      "image/png": "[encoded data removed]",
      "text/plain": [
       "<Figure size 432x288 with 1 Axes>"
      ]
     },
     "metadata": {
      "needs_background": "light"
     },
     "output_type": "display_data"
    },
    {
     "data": {
      "image/png": "[encoded data removed]",
      "text/plain": [
       "<Figure size 432x288 with 1 Axes>"
      ]
     },
     "metadata": {
      "needs_background": "light"
     },
     "output_type": "display_data"
    },
    {
     "data": {
      "image/png": "[encoded data removed]",
      "text/plain": [
       "<Figure size 432x288 with 1 Axes>"
      ]
     },
     "metadata": {
      "needs_background": "light"
     },
     "output_type": "display_data"
    }
   ],
   "source": [
    "for i in df.columns:\n",
    "    sns.lineplot(x='Age',y=i,data=df)\n",
    "    plt.show()"
   ]
  },
  {
   "cell_type": "markdown",
   "metadata": {
    "id": "-pZbeceopSg5"
   },
   "source": [
    "We can se all the features have positive relation with the Age"
   ]
  },
  {
   "cell_type": "code",
   "execution_count": 20,
   "metadata": {
    "colab": {
     "base_uri": "https://localhost:8080/",
     "height": 1000
    },
    "executionInfo": {
     "elapsed": 2349,
     "status": "ok",
     "timestamp": 1621763670921,
     "user": {
      "displayName": "Yunus Surty",
      "photoUrl": "",
      "userId": "12841903714310226526"
     },
     "user_tz": -330
    },
    "id": "EtIC1CQlpSg5",
    "outputId": "1e254c74-387a-4524-9a98-33261e79205e",
    "scrolled": false
   },
   "outputs": [
    {
     "data": {
      "image/png": "[encoded data removed]",
      "text/plain": [
       "<Figure size 432x288 with 1 Axes>"
      ]
     },
     "metadata": {
      "needs_background": "light"
     },
     "output_type": "display_data"
    },
    {
     "data": {
      "image/png": "[encoded data removed]",
      "text/plain": [
       "<Figure size 432x288 with 1 Axes>"
      ]
     },
     "metadata": {
      "needs_background": "light"
     },
     "output_type": "display_data"
    },
    {
     "data": {
      "image/png": "[encoded data removed]",
      "text/plain": [
       "<Figure size 432x288 with 1 Axes>"
      ]
     },
     "metadata": {
      "needs_background": "light"
     },
     "output_type": "display_data"
    },
    {
     "data": {
      "image/png": "[encoded data removed]",
      "text/plain": [
       "<Figure size 432x288 with 1 Axes>"
      ]
     },
     "metadata": {
      "needs_background": "light"
     },
     "output_type": "display_data"
    },
    {
     "data": {
      "image/png": "[encoded data removed]",
      "text/plain": [
       "<Figure size 432x288 with 1 Axes>"
      ]
     },
     "metadata": {
      "needs_background": "light"
     },
     "output_type": "display_data"
    },
    {
     "data": {
      "image/png": "[encoded data removed]",
      "text/plain": [
       "<Figure size 432x288 with 1 Axes>"
      ]
     },
     "metadata": {
      "needs_background": "light"
     },
     "output_type": "display_data"
    },
    {
     "data": {
      "image/png": "[encoded data removed]",
      "text/plain": [
       "<Figure size 432x288 with 1 Axes>"
      ]
     },
     "metadata": {
      "needs_background": "light"
     },
     "output_type": "display_data"
    },
    {
     "data": {
      "image/png": "[encoded data removed]",
      "text/plain": [
       "<Figure size 432x288 with 1 Axes>"
      ]
     },
     "metadata": {
      "needs_background": "light"
     },
     "output_type": "display_data"
    }
   ],
   "source": [
    "columns = ['Length','Diameter','Height','Whole weight','Shucked weight','Viscera weight','Shell weight','Age']\n",
    "           \n",
    "for i in columns:\n",
    "           sns.distplot(df[i])\n",
    "           plt.show()"
   ]
  },
  {
   "cell_type": "markdown",
   "metadata": {
    "id": "MV3zdtCIpSg6"
   },
   "source": [
    "Most of the data is skewed, though they are close to normality. Possible outliers in Height."
   ]
  },
  {
   "cell_type": "code",
   "execution_count": 21,
   "metadata": {
    "colab": {
     "base_uri": "https://localhost:8080/",
     "height": 1000
    },
    "executionInfo": {
     "elapsed": 1064,
     "status": "ok",
     "timestamp": 1621763671979,
     "user": {
      "displayName": "Yunus Surty",
      "photoUrl": "",
      "userId": "12841903714310226526"
     },
     "user_tz": -330
    },
    "id": "ePB7Bnh7pSg6",
    "outputId": "301548e4-0081-43c6-b914-1d08cbe3e721",
    "scrolled": false
   },
   "outputs": [
    {
     "data": {
      "image/png": "[encoded data removed]",
      "text/plain": [
       "<Figure size 432x288 with 1 Axes>"
      ]
     },
     "metadata": {
      "needs_background": "light"
     },
     "output_type": "display_data"
    },
    {
     "data": {
      "image/png": "[encoded data removed]",
      "text/plain": [
       "<Figure size 432x288 with 1 Axes>"
      ]
     },
     "metadata": {
      "needs_background": "light"
     },
     "output_type": "display_data"
    },
    {
     "data": {
      "image/png": "[encoded data removed]",
      "text/plain": [
       "<Figure size 432x288 with 1 Axes>"
      ]
     },
     "metadata": {
      "needs_background": "light"
     },
     "output_type": "display_data"
    },
    {
     "data": {
      "image/png": "[encoded data removed]",
      "text/plain": [
       "<Figure size 432x288 with 1 Axes>"
      ]
     },
     "metadata": {
      "needs_background": "light"
     },
     "output_type": "display_data"
    },
    {
     "data": {
      "image/png": "[encoded data removed]",
      "text/plain": [
       "<Figure size 432x288 with 1 Axes>"
      ]
     },
     "metadata": {
      "needs_background": "light"
     },
     "output_type": "display_data"
    },
    {
     "data": {
      "image/png": "[encoded data removed]",
      "text/plain": [
       "<Figure size 432x288 with 1 Axes>"
      ]
     },
     "metadata": {
      "needs_background": "light"
     },
     "output_type": "display_data"
    },
    {
     "data": {
      "image/png": "[encoded data removed]",
      "text/plain": [
       "<Figure size 432x288 with 1 Axes>"
      ]
     },
     "metadata": {
      "needs_background": "light"
     },
     "output_type": "display_data"
    },
    {
     "data": {
      "image/png": "[encoded data removed]",
      "text/plain": [
       "<Figure size 432x288 with 1 Axes>"
      ]
     },
     "metadata": {
      "needs_background": "light"
     },
     "output_type": "display_data"
    }
   ],
   "source": [
    "for i in columns:\n",
    "    plt.subplots()\n",
    "    sns.boxplot(df[i])"
   ]
  },
  {
   "cell_type": "markdown",
   "metadata": {
    "id": "aSCWgpnspSg7"
   },
   "source": [
    "Barring length and diameter all our features has the outliers hence we have treat them before model fitting"
   ]
  },
  {
   "cell_type": "markdown",
   "metadata": {
    "id": "SmfCAJuIpSg7"
   },
   "source": [
    "### MultiVariate Analysis"
   ]
  },
  {
   "cell_type": "code",
   "execution_count": 22,
   "metadata": {
    "colab": {
     "base_uri": "https://localhost:8080/",
     "height": 0
    },
    "executionInfo": {
     "elapsed": 1099,
     "status": "ok",
     "timestamp": 1621763673071,
     "user": {
      "displayName": "Yunus Surty",
      "photoUrl": "",
      "userId": "12841903714310226526"
     },
     "user_tz": -330
    },
    "id": "S0JXi8E_pSg7",
    "outputId": "cbb0037f-1ba6-40ca-91d8-3fbedfc8359d"
   },
   "outputs": [
    {
     "data": {
      "text/plain": [
       "<AxesSubplot:>"
      ]
     },
     "execution_count": 22,
     "metadata": {},
     "output_type": "execute_result"
    },
    {
     "data": {
      "image/png": "[encoded data removed]",
      "text/plain": [
       "<Figure size 720x720 with 2 Axes>"
      ]
     },
     "metadata": {
      "needs_background": "light"
     },
     "output_type": "display_data"
    }
   ],
   "source": [
    "plt.figure(figsize=(10, 10))\n",
    "corr = df.corr()\n",
    "sns.heatmap(corr, annot=True)"
   ]
  },
  {
   "cell_type": "markdown",
   "metadata": {
    "id": "PHbUGdycpSg8"
   },
   "source": [
    "Age has the highest co relation with Shell weight and least with Shucked weight.\n",
    "\n",
    "Whole weight is highly corelated with all the features\n",
    "\n",
    "Shell weight, Viscera weight, Shucked weight and whole weight are highly co related with each other.\n",
    "\n",
    "We will see how our model will perform. We can also check our model performance with PCA"
   ]
  },
  {
   "cell_type": "code",
   "execution_count": null,
   "metadata": {
    "executionInfo": {
     "elapsed": 57,
     "status": "ok",
     "timestamp": 1621763673073,
     "user": {
      "displayName": "Yunus Surty",
      "photoUrl": "",
      "userId": "12841903714310226526"
     },
     "user_tz": -330
    },
    "id": "H2fNluvCpSg9"
   },
   "outputs": [],
   "source": []
  },
  {
   "cell_type": "markdown",
   "metadata": {
    "id": "4vQ9QUMepSg9"
   },
   "source": [
    "### Before model fitting\n",
    "\n",
    "Use OrdinalEncoder on 'Sex' attribute to change the categorical data to numerical\n",
    "\n",
    "Treat the data for outliers and skewness.\n",
    "\n",
    "Standardize the data.\n",
    "\n",
    "Can try PCA to check if the model will perform better with PCA"
   ]
  },
  {
   "cell_type": "markdown",
   "metadata": {
    "id": "9Dk1l6DlpSg9"
   },
   "source": [
    "### Data Pre Processing"
   ]
  },
  {
   "cell_type": "markdown",
   "metadata": {
    "id": "t0L6_TMcpSg-"
   },
   "source": [
    "Splitting our data into input(x) and output(y) variable."
   ]
  },
  {
   "cell_type": "markdown",
   "metadata": {
    "id": "cc82Kp9ppSg-"
   },
   "source": [
    "Using OrdinalEncoder on 'Sex' attribute to change the categorical data to numerical. We will import the necessary library"
   ]
  },
  {
   "cell_type": "code",
   "execution_count": 23,
   "metadata": {
    "executionInfo": {
     "elapsed": 54,
     "status": "ok",
     "timestamp": 1621763673074,
     "user": {
      "displayName": "Yunus Surty",
      "photoUrl": "",
      "userId": "12841903714310226526"
     },
     "user_tz": -330
    },
    "id": "EpzMFFF7pSg-"
   },
   "outputs": [],
   "source": [
    "from sklearn.preprocessing import OrdinalEncoder"
   ]
  },
  {
   "cell_type": "code",
   "execution_count": 24,
   "metadata": {
    "executionInfo": {
     "elapsed": 50,
     "status": "ok",
     "timestamp": 1621763673075,
     "user": {
      "displayName": "Yunus Surty",
      "photoUrl": "",
      "userId": "12841903714310226526"
     },
     "user_tz": -330
    },
    "id": "SnXB1SCupSg_"
   },
   "outputs": [],
   "source": [
    "oe=OrdinalEncoder()"
   ]
  },
  {
   "cell_type": "markdown",
   "metadata": {
    "id": "5JB4HZmwpSg_"
   },
   "source": [
    "Transforming the required columns."
   ]
  },
  {
   "cell_type": "code",
   "execution_count": 25,
   "metadata": {
    "executionInfo": {
     "elapsed": 50,
     "status": "ok",
     "timestamp": 1621763673077,
     "user": {
      "displayName": "Yunus Surty",
      "photoUrl": "",
      "userId": "12841903714310226526"
     },
     "user_tz": -330
    },
    "id": "GxXJEAcDpSg_"
   },
   "outputs": [],
   "source": [
    "df[['Sex']]=oe.fit_transform(df[['Sex']])"
   ]
  },
  {
   "cell_type": "code",
   "execution_count": 26,
   "metadata": {
    "colab": {
     "base_uri": "https://localhost:8080/"
    },
    "executionInfo": {
     "elapsed": 49,
     "status": "ok",
     "timestamp": 1621763673078,
     "user": {
      "displayName": "Yunus Surty",
      "photoUrl": "",
      "userId": "12841903714310226526"
     },
     "user_tz": -330
    },
    "id": "4a7yRKZDpShA",
    "outputId": "9a3a15fc-7a0e-4f1f-85e5-f8a8505729cb"
   },
   "outputs": [
    {
     "data": {
      "text/plain": [
       "array([2., 0., 1.])"
      ]
     },
     "execution_count": 26,
     "metadata": {},
     "output_type": "execute_result"
    }
   ],
   "source": [
    "df['Sex'].unique()"
   ]
  },
  {
   "cell_type": "markdown",
   "metadata": {
    "id": "J1_PnWKVpShA"
   },
   "source": [
    "We can see the Female, Infant and Male has been changed to 0,1 and 2 respectively"
   ]
  },
  {
   "cell_type": "code",
   "execution_count": 27,
   "metadata": {
    "colab": {
     "base_uri": "https://localhost:8080/"
    },
    "executionInfo": {
     "elapsed": 44,
     "status": "ok",
     "timestamp": 1621763673079,
     "user": {
      "displayName": "Yunus Surty",
      "photoUrl": "",
      "userId": "12841903714310226526"
     },
     "user_tz": -330
    },
    "id": "beYDBQvFpShB",
    "outputId": "8c059424-20f0-4a16-d7e4-09cea3fbda38"
   },
   "outputs": [
    {
     "data": {
      "text/plain": [
       "2.0    1528\n",
       "1.0    1342\n",
       "0.0    1307\n",
       "Name: Sex, dtype: int64"
      ]
     },
     "execution_count": 27,
     "metadata": {},
     "output_type": "execute_result"
    }
   ],
   "source": [
    "df['Sex'].value_counts()"
   ]
  },
  {
   "cell_type": "markdown",
   "metadata": {
    "id": "uFXeCQtXpShB"
   },
   "source": [
    "Lets treat the outliers"
   ]
  },
  {
   "cell_type": "code",
   "execution_count": 28,
   "metadata": {
    "colab": {
     "base_uri": "https://localhost:8080/"
    },
    "executionInfo": {
     "elapsed": 41,
     "status": "ok",
     "timestamp": 1621763673080,
     "user": {
      "displayName": "Yunus Surty",
      "photoUrl": "",
      "userId": "12841903714310226526"
     },
     "user_tz": -330
    },
    "id": "nYl67DPYpShB",
    "outputId": "af9ea788-f136-4a10-fd30-49acfe62d5c6"
   },
   "outputs": [
    {
     "data": {
      "text/plain": [
       "10.5    689\n",
       "11.5    634\n",
       "9.5     568\n",
       "12.5    487\n",
       "8.5     391\n",
       "13.5    267\n",
       "7.5     259\n",
       "14.5    203\n",
       "15.5    126\n",
       "6.5     115\n",
       "16.5    103\n",
       "17.5     67\n",
       "18.5     58\n",
       "5.5      57\n",
       "19.5     42\n",
       "20.5     32\n",
       "21.5     26\n",
       "4.5      15\n",
       "22.5     14\n",
       "24.5      9\n",
       "23.5      6\n",
       "25.5      2\n",
       "28.5      2\n",
       "3.5       1\n",
       "30.5      1\n",
       "2.5       1\n",
       "27.5      1\n",
       "26.5      1\n",
       "Name: Age, dtype: int64"
      ]
     },
     "execution_count": 28,
     "metadata": {},
     "output_type": "execute_result"
    }
   ],
   "source": [
    "df['Age'].value_counts()"
   ]
  },
  {
   "cell_type": "code",
   "execution_count": 29,
   "metadata": {
    "colab": {
     "base_uri": "https://localhost:8080/"
    },
    "executionInfo": {
     "elapsed": 39,
     "status": "ok",
     "timestamp": 1621763673081,
     "user": {
      "displayName": "Yunus Surty",
      "photoUrl": "",
      "userId": "12841903714310226526"
     },
     "user_tz": -330
    },
    "id": "o_wBV5B_pShC",
    "outputId": "6e7b456a-a2ec-4a4a-d68e-68da34db3793"
   },
   "outputs": [
    {
     "data": {
      "text/plain": [
       "array([[1.15198011, 0.57455813, 0.43214879, ..., 0.72621157, 0.63821689,\n",
       "        1.57154357],\n",
       "       [1.15198011, 1.44898585, 1.439929  , ..., 1.20522124, 1.21298732,\n",
       "        0.91001299],\n",
       "       [1.28068972, 0.05003309, 0.12213032, ..., 0.35668983, 0.20713907,\n",
       "        0.28962385],\n",
       "       ...,\n",
       "       [1.15198011, 0.6329849 , 0.67640943, ..., 0.97541324, 0.49695471,\n",
       "        0.28962385],\n",
       "       [1.28068972, 0.84118198, 0.77718745, ..., 0.73362741, 0.41073914,\n",
       "        0.02057072],\n",
       "       [1.15198011, 1.54905203, 1.48263359, ..., 1.78744868, 1.84048058,\n",
       "        0.64095986]])"
      ]
     },
     "execution_count": 29,
     "metadata": {},
     "output_type": "execute_result"
    }
   ],
   "source": [
    "from scipy.stats import zscore\n",
    "z=np.abs(zscore(df))\n",
    "z"
   ]
  },
  {
   "cell_type": "code",
   "execution_count": 30,
   "metadata": {
    "executionInfo": {
     "elapsed": 36,
     "status": "ok",
     "timestamp": 1621763673081,
     "user": {
      "displayName": "Yunus Surty",
      "photoUrl": "",
      "userId": "12841903714310226526"
     },
     "user_tz": -330
    },
    "id": "Igp2la5kpShC"
   },
   "outputs": [],
   "source": [
    "df_new=df[(z<3).all(axis=1)]"
   ]
  },
  {
   "cell_type": "code",
   "execution_count": 31,
   "metadata": {
    "colab": {
     "base_uri": "https://localhost:8080/"
    },
    "executionInfo": {
     "elapsed": 35,
     "status": "ok",
     "timestamp": 1621763673082,
     "user": {
      "displayName": "Yunus Surty",
      "photoUrl": "",
      "userId": "12841903714310226526"
     },
     "user_tz": -330
    },
    "id": "jNcnB58epShD",
    "outputId": "99ca32e8-7976-4e2e-ad47-2dd089556ca7"
   },
   "outputs": [
    {
     "name": "stdout",
     "output_type": "stream",
     "text": [
      "(4177, 9)\n",
      "(4027, 9)\n"
     ]
    }
   ],
   "source": [
    "print(df.shape)\n",
    "print(df_new.shape)"
   ]
  },
  {
   "cell_type": "code",
   "execution_count": 32,
   "metadata": {
    "colab": {
     "base_uri": "https://localhost:8080/"
    },
    "executionInfo": {
     "elapsed": 32,
     "status": "ok",
     "timestamp": 1621763673083,
     "user": {
      "displayName": "Yunus Surty",
      "photoUrl": "",
      "userId": "12841903714310226526"
     },
     "user_tz": -330
    },
    "id": "sI88bQ6_pShD",
    "outputId": "68cacb72-a745-4ace-8136-11b33d5a2ce1"
   },
   "outputs": [
    {
     "data": {
      "text/plain": [
       "3.5910940866650662"
      ]
     },
     "execution_count": 32,
     "metadata": {},
     "output_type": "execute_result"
    }
   ],
   "source": [
    "100-((4027/4177)*100)"
   ]
  },
  {
   "cell_type": "markdown",
   "metadata": {
    "id": "wrrzVpEKpShE"
   },
   "source": [
    "We are losing 3.59% of the data after removing the outliers which is fine"
   ]
  },
  {
   "cell_type": "code",
   "execution_count": 33,
   "metadata": {
    "colab": {
     "base_uri": "https://localhost:8080/"
    },
    "executionInfo": {
     "elapsed": 648,
     "status": "ok",
     "timestamp": 1621763673703,
     "user": {
      "displayName": "Yunus Surty",
      "photoUrl": "",
      "userId": "12841903714310226526"
     },
     "user_tz": -330
    },
    "id": "dA9XMF-hpShE",
    "outputId": "62e06ea6-ffb5-499f-cc82-b48934cfccd3"
   },
   "outputs": [
    {
     "data": {
      "text/plain": [
       "10.5    686\n",
       "11.5    625\n",
       "9.5     566\n",
       "12.5    472\n",
       "8.5     391\n",
       "7.5     258\n",
       "13.5    251\n",
       "14.5    199\n",
       "15.5    119\n",
       "6.5     113\n",
       "16.5    102\n",
       "17.5     62\n",
       "18.5     53\n",
       "5.5      49\n",
       "19.5     39\n",
       "20.5     32\n",
       "4.5      10\n",
       "Name: Age, dtype: int64"
      ]
     },
     "execution_count": 33,
     "metadata": {},
     "output_type": "execute_result"
    }
   ],
   "source": [
    "df_new['Age'].value_counts()"
   ]
  },
  {
   "cell_type": "markdown",
   "metadata": {
    "id": "O8XGkJlipShE"
   },
   "source": [
    "We have lost important data from Age while removing the outliers, hence we will not go forward with the same"
   ]
  },
  {
   "cell_type": "markdown",
   "metadata": {
    "id": "87jY_AZ3pShF"
   },
   "source": [
    "Now lets check for skewness"
   ]
  },
  {
   "cell_type": "code",
   "execution_count": 34,
   "metadata": {
    "executionInfo": {
     "elapsed": 35,
     "status": "ok",
     "timestamp": 1621763673704,
     "user": {
      "displayName": "Yunus Surty",
      "photoUrl": "",
      "userId": "12841903714310226526"
     },
     "user_tz": -330
    },
    "id": "S9MBOiiPpShF"
   },
   "outputs": [],
   "source": [
    "x=df.drop(columns='Age')\n",
    "y=df['Age']"
   ]
  },
  {
   "cell_type": "code",
   "execution_count": 35,
   "metadata": {
    "colab": {
     "base_uri": "https://localhost:8080/"
    },
    "executionInfo": {
     "elapsed": 34,
     "status": "ok",
     "timestamp": 1621763673705,
     "user": {
      "displayName": "Yunus Surty",
      "photoUrl": "",
      "userId": "12841903714310226526"
     },
     "user_tz": -330
    },
    "id": "wdh891ZfpShF",
    "outputId": "aeb8fded-4804-4add-98a7-6e9ff1eb35a4"
   },
   "outputs": [
    {
     "data": {
      "text/plain": [
       "Sex              -0.098155\n",
       "Length           -0.639873\n",
       "Diameter         -0.609198\n",
       "Height            3.128817\n",
       "Whole weight      0.530959\n",
       "Shucked weight    0.719098\n",
       "Viscera weight    0.591852\n",
       "Shell weight      0.620927\n",
       "dtype: float64"
      ]
     },
     "execution_count": 35,
     "metadata": {},
     "output_type": "execute_result"
    }
   ],
   "source": [
    "x.skew()"
   ]
  },
  {
   "cell_type": "markdown",
   "metadata": {
    "id": "nEMbyAQ1pShG"
   },
   "source": [
    "We have to treat skewness in Length, Diameter, Height and Shucked weight"
   ]
  },
  {
   "cell_type": "code",
   "execution_count": 36,
   "metadata": {
    "executionInfo": {
     "elapsed": 28,
     "status": "ok",
     "timestamp": 1621763673706,
     "user": {
      "displayName": "Yunus Surty",
      "photoUrl": "",
      "userId": "12841903714310226526"
     },
     "user_tz": -330
    },
    "id": "CYmigzrMpShG"
   },
   "outputs": [],
   "source": [
    "x['Length']=np.square(x['Length'])\n",
    "x['Diameter']=np.square(x['Diameter'])"
   ]
  },
  {
   "cell_type": "code",
   "execution_count": 37,
   "metadata": {
    "executionInfo": {
     "elapsed": 25,
     "status": "ok",
     "timestamp": 1621763673707,
     "user": {
      "displayName": "Yunus Surty",
      "photoUrl": "",
      "userId": "12841903714310226526"
     },
     "user_tz": -330
    },
    "id": "BZ50pEJApShG"
   },
   "outputs": [],
   "source": [
    "x['Shucked weight']=np.sqrt(x['Shucked weight'])"
   ]
  },
  {
   "cell_type": "code",
   "execution_count": 39,
   "metadata": {
    "executionInfo": {
     "elapsed": 19,
     "status": "ok",
     "timestamp": 1621763673709,
     "user": {
      "displayName": "Yunus Surty",
      "photoUrl": "",
      "userId": "12841903714310226526"
     },
     "user_tz": -330
    },
    "id": "_pJuuK8QpShI"
   },
   "outputs": [],
   "source": [
    "x['Height']=np.sqrt(x['Height'])"
   ]
  },
  {
   "cell_type": "code",
   "execution_count": 40,
   "metadata": {
    "colab": {
     "base_uri": "https://localhost:8080/"
    },
    "executionInfo": {
     "elapsed": 18,
     "status": "ok",
     "timestamp": 1621763673710,
     "user": {
      "displayName": "Yunus Surty",
      "photoUrl": "",
      "userId": "12841903714310226526"
     },
     "user_tz": -330
    },
    "id": "7Vt74vR7pShI",
    "outputId": "afab28bf-710c-464a-9653-7840b506010f"
   },
   "outputs": [
    {
     "data": {
      "text/plain": [
       "Sex              -0.098155\n",
       "Length           -0.068660\n",
       "Diameter         -0.026554\n",
       "Height           -0.295641\n",
       "Whole weight      0.530959\n",
       "Shucked weight   -0.141443\n",
       "Viscera weight    0.591852\n",
       "Shell weight      0.620927\n",
       "dtype: float64"
      ]
     },
     "execution_count": 40,
     "metadata": {},
     "output_type": "execute_result"
    }
   ],
   "source": [
    "x.skew()"
   ]
  },
  {
   "cell_type": "markdown",
   "metadata": {
    "id": "Ta-yuZHypShI"
   },
   "source": [
    "We have sucessfully removed the outliers and skewness. Lets check this with Histogram plot"
   ]
  },
  {
   "cell_type": "code",
   "execution_count": 41,
   "metadata": {
    "colab": {
     "base_uri": "https://localhost:8080/",
     "height": 355
    },
    "executionInfo": {
     "elapsed": 1655,
     "status": "ok",
     "timestamp": 1621763675349,
     "user": {
      "displayName": "Yunus Surty",
      "photoUrl": "",
      "userId": "12841903714310226526"
     },
     "user_tz": -330
    },
    "id": "WyVgNMA2pShJ",
    "outputId": "6480647c-49ad-4f3b-b081-d88f566031e0"
   },
   "outputs": [
    {
     "data": {
      "text/plain": [
       "array([[<AxesSubplot:title={'center':'Sex'}>,\n",
       "        <AxesSubplot:title={'center':'Length'}>,\n",
       "        <AxesSubplot:title={'center':'Diameter'}>,\n",
       "        <AxesSubplot:title={'center':'Height'}>],\n",
       "       [<AxesSubplot:title={'center':'Whole weight'}>,\n",
       "        <AxesSubplot:title={'center':'Shucked weight'}>,\n",
       "        <AxesSubplot:title={'center':'Viscera weight'}>,\n",
       "        <AxesSubplot:title={'center':'Shell weight'}>]], dtype=object)"
      ]
     },
     "execution_count": 41,
     "metadata": {},
     "output_type": "execute_result"
    },
    {
     "data": {
      "image/png": "[encoded data removed]",
      "text/plain": [
       "<Figure size 1440x720 with 8 Axes>"
      ]
     },
     "metadata": {
      "needs_background": "light"
     },
     "output_type": "display_data"
    }
   ],
   "source": [
    "x.hist(figsize=(20,10), grid=False, layout=(2, 4), bins = 40)"
   ]
  },
  {
   "cell_type": "markdown",
   "metadata": {
    "id": "K6pniy96pShK"
   },
   "source": [
    "Bingo!!"
   ]
  },
  {
   "cell_type": "markdown",
   "metadata": {
    "id": "2r6DloV0pShK"
   },
   "source": [
    "Now we will standardize our data as it has different scale.\n",
    "\n",
    "We wil be using StandardScaler for the same.\n",
    "\n",
    "Lets import the required library"
   ]
  },
  {
   "cell_type": "code",
   "execution_count": 42,
   "metadata": {
    "executionInfo": {
     "elapsed": 34,
     "status": "ok",
     "timestamp": 1621763675353,
     "user": {
      "displayName": "Yunus Surty",
      "photoUrl": "",
      "userId": "12841903714310226526"
     },
     "user_tz": -330
    },
    "id": "uoyc4Yq6pShK"
   },
   "outputs": [],
   "source": [
    "from sklearn.preprocessing import StandardScaler\n",
    "sc=StandardScaler()\n",
    "sc_x=sc.fit_transform(x)"
   ]
  },
  {
   "cell_type": "code",
   "execution_count": 43,
   "metadata": {
    "colab": {
     "base_uri": "https://localhost:8080/"
    },
    "executionInfo": {
     "elapsed": 29,
     "status": "ok",
     "timestamp": 1621763675354,
     "user": {
      "displayName": "Yunus Surty",
      "photoUrl": "",
      "userId": "12841903714310226526"
     },
     "user_tz": -330
    },
    "id": "w1h3j1m6pShL",
    "outputId": "c061c511-a650-4afa-fc92-c1bd6ba4b4f8"
   },
   "outputs": [
    {
     "data": {
      "text/plain": [
       "array([[ 1.15198011, -0.69410371, -0.56588297, ..., -0.4737027 ,\n",
       "        -0.72621157, -0.63821689],\n",
       "       [ 1.15198011, -1.40991617, -1.39519277, ..., -1.2824301 ,\n",
       "        -1.20522124, -1.21298732],\n",
       "       [-1.28068972, -0.06848236,  0.00245751, ..., -0.30701248,\n",
       "        -0.35668983, -0.20713907],\n",
       "       ...,\n",
       "       [ 1.15198011,  0.60138768,  0.65043806, ...,  0.80848861,\n",
       "         0.97541324,  0.49695471],\n",
       "       [-1.28068972,  0.86074002,  0.77680907, ...,  0.82780925,\n",
       "         0.73362741,  0.41073914],\n",
       "       [ 1.15198011,  1.82171983,  1.73512261, ...,  2.07206731,\n",
       "         1.78744868,  1.84048058]])"
      ]
     },
     "execution_count": 43,
     "metadata": {},
     "output_type": "execute_result"
    }
   ],
   "source": [
    "sc_x"
   ]
  },
  {
   "cell_type": "code",
   "execution_count": 44,
   "metadata": {
    "executionInfo": {
     "elapsed": 26,
     "status": "ok",
     "timestamp": 1621763675355,
     "user": {
      "displayName": "Yunus Surty",
      "photoUrl": "",
      "userId": "12841903714310226526"
     },
     "user_tz": -330
    },
    "id": "BTHUg061pShL"
   },
   "outputs": [],
   "source": [
    "x=sc_x"
   ]
  },
  {
   "cell_type": "markdown",
   "metadata": {
    "id": "-xWiPOqLpShM"
   },
   "source": [
    "### Model Preparation and Selection"
   ]
  },
  {
   "cell_type": "markdown",
   "metadata": {
    "id": "H_kXbEpppShM"
   },
   "source": [
    "Now we will move forward for model fitting"
   ]
  },
  {
   "cell_type": "markdown",
   "metadata": {
    "id": "5HyhJ3MZpShM"
   },
   "source": [
    "Importing the required libraries"
   ]
  },
  {
   "cell_type": "code",
   "execution_count": 45,
   "metadata": {
    "executionInfo": {
     "elapsed": 25,
     "status": "ok",
     "timestamp": 1621763675356,
     "user": {
      "displayName": "Yunus Surty",
      "photoUrl": "",
      "userId": "12841903714310226526"
     },
     "user_tz": -330
    },
    "id": "1jvpVglQpShM"
   },
   "outputs": [],
   "source": [
    "from sklearn.model_selection import train_test_split\n",
    "from sklearn.linear_model import LinearRegression\n",
    "from sklearn.metrics import mean_squared_error,mean_absolute_error,r2_score"
   ]
  },
  {
   "cell_type": "code",
   "execution_count": 46,
   "metadata": {
    "colab": {
     "base_uri": "https://localhost:8080/"
    },
    "executionInfo": {
     "elapsed": 694,
     "status": "ok",
     "timestamp": 1621763676028,
     "user": {
      "displayName": "Yunus Surty",
      "photoUrl": "",
      "userId": "12841903714310226526"
     },
     "user_tz": -330
    },
    "id": "APFbEURGpShN",
    "outputId": "14b3221b-9f03-4f1e-cd82-97c97dc30cfd",
    "scrolled": true
   },
   "outputs": [
    {
     "name": "stdout",
     "output_type": "stream",
     "text": [
      "At random state 0,the training accuracy is: 0.4724879054289598\n",
      "At random state 0,the testing accuracy is: 0.5103873141073607\n",
      "\n",
      "\n",
      "At random state 1,the training accuracy is: 0.48722862572818304\n",
      "At random state 1,the testing accuracy is: 0.45412371191521295\n",
      "\n",
      "\n",
      "At random state 2,the training accuracy is: 0.4783193125753957\n",
      "At random state 2,the testing accuracy is: 0.4830212920946242\n",
      "\n",
      "\n",
      "At random state 3,the training accuracy is: 0.487730046358107\n",
      "At random state 3,the testing accuracy is: 0.4498050179305143\n",
      "\n",
      "\n",
      "At random state 4,the training accuracy is: 0.4851676809394837\n",
      "At random state 4,the testing accuracy is: 0.45890640673942795\n",
      "\n",
      "\n",
      "At random state 5,the training accuracy is: 0.4940717966353082\n",
      "At random state 5,the testing accuracy is: 0.42755228593042127\n",
      "\n",
      "\n",
      "At random state 6,the training accuracy is: 0.4694416577007686\n",
      "At random state 6,the testing accuracy is: 0.5262267440771848\n",
      "\n",
      "\n",
      "At random state 7,the training accuracy is: 0.47451020301357594\n",
      "At random state 7,the testing accuracy is: 0.4998861757204721\n",
      "\n",
      "\n",
      "At random state 8,the training accuracy is: 0.4884717720923196\n",
      "At random state 8,the testing accuracy is: 0.44985841773013924\n",
      "\n",
      "\n",
      "At random state 9,the training accuracy is: 0.4878780767677555\n",
      "At random state 9,the testing accuracy is: 0.45181471366916703\n",
      "\n",
      "\n",
      "At random state 10,the training accuracy is: 0.48049753959128405\n",
      "At random state 10,the testing accuracy is: 0.4835845067482385\n",
      "\n",
      "\n",
      "At random state 11,the training accuracy is: 0.4720302907041676\n",
      "At random state 11,the testing accuracy is: 0.5152793067174304\n",
      "\n",
      "\n",
      "At random state 12,the training accuracy is: 0.47190927662143\n",
      "At random state 12,the testing accuracy is: 0.5136754905654553\n",
      "\n",
      "\n",
      "At random state 13,the training accuracy is: 0.48064870731751397\n",
      "At random state 13,the testing accuracy is: 0.481975663544408\n",
      "\n",
      "\n",
      "At random state 14,the training accuracy is: 0.4877342418053221\n",
      "At random state 14,the testing accuracy is: 0.4462300009902822\n",
      "\n",
      "\n",
      "At random state 15,the training accuracy is: 0.488924418027909\n",
      "At random state 15,the testing accuracy is: 0.4486242624045217\n",
      "\n",
      "\n",
      "At random state 16,the training accuracy is: 0.4816844114765121\n",
      "At random state 16,the testing accuracy is: 0.47883696064326664\n",
      "\n",
      "\n",
      "At random state 17,the training accuracy is: 0.47269635674174326\n",
      "At random state 17,the testing accuracy is: 0.5113124930502158\n",
      "\n",
      "\n",
      "At random state 18,the training accuracy is: 0.48437463741770836\n",
      "At random state 18,the testing accuracy is: 0.4670613533999173\n",
      "\n",
      "\n",
      "At random state 19,the training accuracy is: 0.4924173856008349\n",
      "At random state 19,the testing accuracy is: 0.4345991405921865\n",
      "\n",
      "\n",
      "At random state 20,the training accuracy is: 0.4874417087513566\n",
      "At random state 20,the testing accuracy is: 0.4561491995441237\n",
      "\n",
      "\n",
      "At random state 21,the training accuracy is: 0.4756098375867661\n",
      "At random state 21,the testing accuracy is: 0.49557830617492304\n",
      "\n",
      "\n",
      "At random state 22,the training accuracy is: 0.4964975292627587\n",
      "At random state 22,the testing accuracy is: 0.4120671468979944\n",
      "\n",
      "\n",
      "At random state 23,the training accuracy is: 0.4883078205058883\n",
      "At random state 23,the testing accuracy is: 0.4500994428541345\n",
      "\n",
      "\n",
      "At random state 24,the training accuracy is: 0.49071636306135447\n",
      "At random state 24,the testing accuracy is: 0.43631772820709447\n",
      "\n",
      "\n",
      "At random state 25,the training accuracy is: 0.4937905783089074\n",
      "At random state 25,the testing accuracy is: 0.3999586123711284\n",
      "\n",
      "\n",
      "At random state 26,the training accuracy is: 0.48261444224491035\n",
      "At random state 26,the testing accuracy is: 0.47559044490178326\n",
      "\n",
      "\n",
      "At random state 27,the training accuracy is: 0.49169849478719085\n",
      "At random state 27,the testing accuracy is: 0.4323254885095058\n",
      "\n",
      "\n",
      "At random state 28,the training accuracy is: 0.47436119358259277\n",
      "At random state 28,the testing accuracy is: 0.508114236851176\n",
      "\n",
      "\n",
      "At random state 29,the training accuracy is: 0.48285090917090534\n",
      "At random state 29,the testing accuracy is: 0.47494797595827676\n",
      "\n",
      "\n",
      "At random state 30,the training accuracy is: 0.47003686365405595\n",
      "At random state 30,the testing accuracy is: 0.5208433840200041\n",
      "\n",
      "\n",
      "At random state 31,the training accuracy is: 0.46397546995139405\n",
      "At random state 31,the testing accuracy is: 0.5364663653133825\n",
      "\n",
      "\n",
      "At random state 32,the training accuracy is: 0.47960913113748427\n",
      "At random state 32,the testing accuracy is: 0.4858881566559696\n",
      "\n",
      "\n",
      "At random state 33,the training accuracy is: 0.4815027454883649\n",
      "At random state 33,the testing accuracy is: 0.47796254553565365\n",
      "\n",
      "\n",
      "At random state 34,the training accuracy is: 0.4914407523600257\n",
      "At random state 34,the testing accuracy is: 0.43601877195899985\n",
      "\n",
      "\n",
      "At random state 35,the training accuracy is: 0.4893120487798198\n",
      "At random state 35,the testing accuracy is: 0.4330844708362569\n",
      "\n",
      "\n",
      "At random state 36,the training accuracy is: 0.4831836320243602\n",
      "At random state 36,the testing accuracy is: 0.47219698548112665\n",
      "\n",
      "\n",
      "At random state 37,the training accuracy is: 0.46968823469314946\n",
      "At random state 37,the testing accuracy is: 0.5282673748286202\n",
      "\n",
      "\n",
      "At random state 38,the training accuracy is: 0.4759907670714413\n",
      "At random state 38,the testing accuracy is: 0.4994866238412836\n",
      "\n",
      "\n",
      "At random state 39,the training accuracy is: 0.48855895079066114\n",
      "At random state 39,the testing accuracy is: 0.4370025812130276\n",
      "\n",
      "\n",
      "At random state 40,the training accuracy is: 0.4802372334653836\n",
      "At random state 40,the testing accuracy is: 0.4799852101728528\n",
      "\n",
      "\n",
      "At random state 41,the training accuracy is: 0.4947131923762035\n",
      "At random state 41,the testing accuracy is: 0.4143169119480069\n",
      "\n",
      "\n",
      "At random state 42,the training accuracy is: 0.4818048103148139\n",
      "At random state 42,the testing accuracy is: 0.47657971642324604\n",
      "\n",
      "\n",
      "At random state 43,the training accuracy is: 0.4744337387801134\n",
      "At random state 43,the testing accuracy is: 0.5107432649254677\n",
      "\n",
      "\n",
      "At random state 44,the training accuracy is: 0.4811949061258701\n",
      "At random state 44,the testing accuracy is: 0.4808825021947062\n",
      "\n",
      "\n",
      "At random state 45,the training accuracy is: 0.48367024809829906\n",
      "At random state 45,the testing accuracy is: 0.469335232395812\n",
      "\n",
      "\n",
      "At random state 46,the training accuracy is: 0.47952040971213483\n",
      "At random state 46,the testing accuracy is: 0.48534349110782815\n",
      "\n",
      "\n",
      "At random state 47,the training accuracy is: 0.49492182820897157\n",
      "At random state 47,the testing accuracy is: 0.4034260774553379\n",
      "\n",
      "\n",
      "At random state 48,the training accuracy is: 0.47847860475010673\n",
      "At random state 48,the testing accuracy is: 0.490642141211709\n",
      "\n",
      "\n",
      "At random state 49,the training accuracy is: 0.4852909404518275\n",
      "At random state 49,the testing accuracy is: 0.462206572103654\n",
      "\n",
      "\n",
      "At random state 50,the training accuracy is: 0.4864437568381269\n",
      "At random state 50,the testing accuracy is: 0.4513776561738897\n",
      "\n",
      "\n",
      "At random state 51,the training accuracy is: 0.4818495882167092\n",
      "At random state 51,the testing accuracy is: 0.4678828826127531\n",
      "\n",
      "\n",
      "At random state 52,the training accuracy is: 0.4735536499689923\n",
      "At random state 52,the testing accuracy is: 0.5101377400144621\n",
      "\n",
      "\n",
      "At random state 53,the training accuracy is: 0.4750063184208426\n",
      "At random state 53,the testing accuracy is: 0.5014086988708535\n",
      "\n",
      "\n",
      "At random state 54,the training accuracy is: 0.48590225397381626\n",
      "At random state 54,the testing accuracy is: 0.4599431249243896\n",
      "\n",
      "\n",
      "At random state 55,the training accuracy is: 0.48205738204788573\n",
      "At random state 55,the testing accuracy is: 0.47558832570893794\n",
      "\n",
      "\n",
      "At random state 56,the training accuracy is: 0.48455958134735144\n",
      "At random state 56,the testing accuracy is: 0.45435970724318553\n",
      "\n",
      "\n",
      "At random state 57,the training accuracy is: 0.48756231757557833\n",
      "At random state 57,the testing accuracy is: 0.4521040840583054\n",
      "\n",
      "\n",
      "At random state 58,the training accuracy is: 0.48073428954794106\n",
      "At random state 58,the testing accuracy is: 0.4784235810632338\n",
      "\n",
      "\n",
      "At random state 59,the training accuracy is: 0.48490325563676007\n",
      "At random state 59,the testing accuracy is: 0.46459427455708346\n",
      "\n",
      "\n",
      "At random state 60,the training accuracy is: 0.4851599404771837\n",
      "At random state 60,the testing accuracy is: 0.4637522672985057\n",
      "\n",
      "\n",
      "At random state 61,the training accuracy is: 0.4822442884878222\n",
      "At random state 61,the testing accuracy is: 0.4665681631353056\n",
      "\n",
      "\n",
      "At random state 62,the training accuracy is: 0.4776522208924574\n",
      "At random state 62,the testing accuracy is: 0.4933267914275513\n",
      "\n",
      "\n",
      "At random state 63,the training accuracy is: 0.4939300214348695\n",
      "At random state 63,the testing accuracy is: 0.42172948898139273\n",
      "\n",
      "\n",
      "At random state 64,the training accuracy is: 0.4858530783141749\n",
      "At random state 64,the testing accuracy is: 0.4633759251161236\n",
      "\n",
      "\n",
      "At random state 65,the training accuracy is: 0.48732277597941664\n",
      "At random state 65,the testing accuracy is: 0.43870651839762964\n",
      "\n",
      "\n",
      "At random state 66,the training accuracy is: 0.49240266830730983\n",
      "At random state 66,the testing accuracy is: 0.4212176275957843\n",
      "\n",
      "\n",
      "At random state 67,the training accuracy is: 0.48133932489329856\n",
      "At random state 67,the testing accuracy is: 0.4793292477430705\n",
      "\n",
      "\n",
      "At random state 68,the training accuracy is: 0.49048784450698335\n",
      "At random state 68,the testing accuracy is: 0.44148830173515796\n",
      "\n",
      "\n",
      "At random state 69,the training accuracy is: 0.4760117572721272\n",
      "At random state 69,the testing accuracy is: 0.49977695883081485\n",
      "\n",
      "\n",
      "At random state 70,the training accuracy is: 0.4880341114616411\n",
      "At random state 70,the testing accuracy is: 0.44636225001231333\n",
      "\n",
      "\n",
      "At random state 71,the training accuracy is: 0.48005981465676906\n",
      "At random state 71,the testing accuracy is: 0.4852334632416758\n",
      "\n",
      "\n",
      "At random state 72,the training accuracy is: 0.48435763773737317\n",
      "At random state 72,the testing accuracy is: 0.46521232191872064\n",
      "\n",
      "\n",
      "At random state 73,the training accuracy is: 0.4892856665135914\n",
      "At random state 73,the testing accuracy is: 0.4456189388807572\n",
      "\n",
      "\n",
      "At random state 74,the training accuracy is: 0.4809260992258011\n",
      "At random state 74,the testing accuracy is: 0.4797834869024836\n",
      "\n",
      "\n",
      "At random state 75,the training accuracy is: 0.48344605064695\n",
      "At random state 75,the testing accuracy is: 0.46891668296622446\n",
      "\n",
      "\n",
      "At random state 76,the training accuracy is: 0.47834713271130636\n",
      "At random state 76,the testing accuracy is: 0.4906904747110392\n",
      "\n",
      "\n"
     ]
    },
    {
     "name": "stdout",
     "output_type": "stream",
     "text": [
      "At random state 77,the training accuracy is: 0.475013425918818\n",
      "At random state 77,the testing accuracy is: 0.505707664409378\n",
      "\n",
      "\n",
      "At random state 78,the training accuracy is: 0.48575582258789773\n",
      "At random state 78,the testing accuracy is: 0.4591559698360641\n",
      "\n",
      "\n",
      "At random state 79,the training accuracy is: 0.4821295891980979\n",
      "At random state 79,the testing accuracy is: 0.4730172626321034\n",
      "\n",
      "\n",
      "At random state 80,the training accuracy is: 0.4838394514937301\n",
      "At random state 80,the testing accuracy is: 0.4656503565552895\n",
      "\n",
      "\n",
      "At random state 81,the training accuracy is: 0.46986534351414\n",
      "At random state 81,the testing accuracy is: 0.5260418316529383\n",
      "\n",
      "\n",
      "At random state 82,the training accuracy is: 0.47537391307948185\n",
      "At random state 82,the testing accuracy is: 0.5030897742263447\n",
      "\n",
      "\n",
      "At random state 83,the training accuracy is: 0.4860910385553926\n",
      "At random state 83,the testing accuracy is: 0.4573435405426792\n",
      "\n",
      "\n",
      "At random state 84,the training accuracy is: 0.4860528369651105\n",
      "At random state 84,the testing accuracy is: 0.45917882510463626\n",
      "\n",
      "\n",
      "At random state 85,the training accuracy is: 0.47724976351995274\n",
      "At random state 85,the testing accuracy is: 0.4921597349954281\n",
      "\n",
      "\n",
      "At random state 86,the training accuracy is: 0.49135158577039484\n",
      "At random state 86,the testing accuracy is: 0.43853918719148877\n",
      "\n",
      "\n",
      "At random state 87,the training accuracy is: 0.48321320621738484\n",
      "At random state 87,the testing accuracy is: 0.4679901714076957\n",
      "\n",
      "\n",
      "At random state 88,the training accuracy is: 0.47289909399701224\n",
      "At random state 88,the testing accuracy is: 0.5128285541987104\n",
      "\n",
      "\n",
      "At random state 89,the training accuracy is: 0.46883773472835766\n",
      "At random state 89,the testing accuracy is: 0.52908974275759\n",
      "\n",
      "\n",
      "At random state 90,the training accuracy is: 0.4840950115905046\n",
      "At random state 90,the testing accuracy is: 0.47044291858455134\n",
      "\n",
      "\n",
      "At random state 91,the training accuracy is: 0.4841547733233561\n",
      "At random state 91,the testing accuracy is: 0.4667363824628272\n",
      "\n",
      "\n",
      "At random state 92,the training accuracy is: 0.5004170353731717\n",
      "At random state 92,the testing accuracy is: 0.394673288287439\n",
      "\n",
      "\n",
      "At random state 93,the training accuracy is: 0.4784282446640026\n",
      "At random state 93,the testing accuracy is: 0.48871497165414046\n",
      "\n",
      "\n",
      "At random state 94,the training accuracy is: 0.4750081486689338\n",
      "At random state 94,the testing accuracy is: 0.5019591670598388\n",
      "\n",
      "\n",
      "At random state 95,the training accuracy is: 0.4721476550637136\n",
      "At random state 95,the testing accuracy is: 0.5141245812548271\n",
      "\n",
      "\n",
      "At random state 96,the training accuracy is: 0.4819303391450257\n",
      "At random state 96,the testing accuracy is: 0.47836342604650584\n",
      "\n",
      "\n",
      "At random state 97,the training accuracy is: 0.479477986581906\n",
      "At random state 97,the testing accuracy is: 0.4874515411943935\n",
      "\n",
      "\n",
      "At random state 98,the training accuracy is: 0.4917185111342248\n",
      "At random state 98,the testing accuracy is: 0.43753061532303894\n",
      "\n",
      "\n",
      "At random state 99,the training accuracy is: 0.4920560192751866\n",
      "At random state 99,the testing accuracy is: 0.4222246154427075\n",
      "\n",
      "\n"
     ]
    }
   ],
   "source": [
    "for i in range(0,100):\n",
    "    x_train,x_test,y_train,y_test=train_test_split(x,y,test_size=0.20,random_state=i)\n",
    "    lr=LinearRegression()\n",
    "    lr.fit(x_train,y_train)\n",
    "    pred_train=lr.predict(x_train)\n",
    "    pred_test=lr.predict(x_test)\n",
    "    print(f'At random state {i},the training accuracy is: {r2_score(y_train,pred_train)}')\n",
    "    print(f'At random state {i},the testing accuracy is: {r2_score(y_test,pred_test)}')\n",
    "    print('\\n')"
   ]
  },
  {
   "cell_type": "markdown",
   "metadata": {},
   "source": [
    "We will now split the data with the random_state 11 as that has given us the best accuracy on training and test data."
   ]
  },
  {
   "cell_type": "code",
   "execution_count": 55,
   "metadata": {
    "executionInfo": {
     "elapsed": 10,
     "status": "ok",
     "timestamp": 1621763676029,
     "user": {
      "displayName": "Yunus Surty",
      "photoUrl": "",
      "userId": "12841903714310226526"
     },
     "user_tz": -330
    },
    "id": "EpH7X8xspShN"
   },
   "outputs": [],
   "source": [
    "x_train,x_test,y_train,y_test=train_test_split(x,y,test_size=.20,random_state=11)"
   ]
  },
  {
   "cell_type": "code",
   "execution_count": 56,
   "metadata": {
    "colab": {
     "base_uri": "https://localhost:8080/"
    },
    "executionInfo": {
     "elapsed": 384,
     "status": "ok",
     "timestamp": 1621763676406,
     "user": {
      "displayName": "Yunus Surty",
      "photoUrl": "",
      "userId": "12841903714310226526"
     },
     "user_tz": -330
    },
    "id": "WXesZIJ9pShO",
    "outputId": "b467cc51-59a5-4f77-fb43-32b6031c0180"
   },
   "outputs": [
    {
     "name": "stdout",
     "output_type": "stream",
     "text": [
      "The training accuracy of LinearRegression is 0.4720302907041676\n",
      "The test accuracy of LinearRegression is 0.5152793067174304\n"
     ]
    }
   ],
   "source": [
    "lr.fit(x_train,y_train)\n",
    "pred_train=lr.predict(x_train)\n",
    "pred_test=lr.predict(x_test)\n",
    "train_score=r2_score(y_train,pred_train)\n",
    "test_score=r2_score(y_test,pred_test)\n",
    "print('The training accuracy of LinearRegression is', train_score)\n",
    "print('The test accuracy of LinearRegression is', test_score)"
   ]
  },
  {
   "cell_type": "code",
   "execution_count": null,
   "metadata": {},
   "outputs": [],
   "source": []
  },
  {
   "cell_type": "markdown",
   "metadata": {},
   "source": [
    "Fitting the data to SupportVectorRegression model"
   ]
  },
  {
   "cell_type": "code",
   "execution_count": 58,
   "metadata": {
    "colab": {
     "base_uri": "https://localhost:8080/"
    },
    "executionInfo": {
     "elapsed": 3666,
     "status": "ok",
     "timestamp": 1621763680066,
     "user": {
      "displayName": "Yunus Surty",
      "photoUrl": "",
      "userId": "12841903714310226526"
     },
     "user_tz": -330
    },
    "id": "2RblHOy7pShO",
    "outputId": "8cc9a37f-3568-4f7c-cbd6-0fc6af041d72"
   },
   "outputs": [
    {
     "name": "stdout",
     "output_type": "stream",
     "text": [
      "0.44472786665848396\n",
      "0.3403960213971866\n",
      "0.5522373036040029\n"
     ]
    }
   ],
   "source": [
    "from sklearn.svm import SVR\n",
    "kernellist=['linear','poly','rbf']\n",
    "for i in kernellist:\n",
    "    sv=SVR(kernel=i)\n",
    "    sv.fit(x_train,y_train)\n",
    "    print(sv.score(x_train,y_train))"
   ]
  },
  {
   "cell_type": "markdown",
   "metadata": {},
   "source": [
    "Kernel 'rbf' has given us the best output, hence we will select 'rbf' for testing the model"
   ]
  },
  {
   "cell_type": "code",
   "execution_count": 59,
   "metadata": {
    "colab": {
     "base_uri": "https://localhost:8080/"
    },
    "executionInfo": {
     "elapsed": 1091,
     "status": "ok",
     "timestamp": 1621763681149,
     "user": {
      "displayName": "Yunus Surty",
      "photoUrl": "",
      "userId": "12841903714310226526"
     },
     "user_tz": -330
    },
    "id": "pFdTCIlhpShP",
    "outputId": "ff47e11e-4227-434f-e082-292899a13437"
   },
   "outputs": [
    {
     "name": "stdout",
     "output_type": "stream",
     "text": [
      "The training accuracy of SVR is 0.5522373036040029\n",
      "The test accuracy of SVR is 0.533655196433435\n"
     ]
    }
   ],
   "source": [
    "sv=SVR(kernel='rbf')\n",
    "sv.fit(x_train,y_train)\n",
    "pred_train=sv.predict(x_train)\n",
    "pred_test=sv.predict(x_test)\n",
    "train_score=r2_score(y_train,pred_train)\n",
    "test_score=r2_score(y_test,pred_test)\n",
    "print('The training accuracy of SVR is', train_score)\n",
    "print('The test accuracy of SVR is', test_score)"
   ]
  },
  {
   "cell_type": "markdown",
   "metadata": {},
   "source": [
    "The accuracy has improved vastly from Linear regression."
   ]
  },
  {
   "cell_type": "markdown",
   "metadata": {},
   "source": [
    "Now lets check Decision Tree classifier model"
   ]
  },
  {
   "cell_type": "code",
   "execution_count": 60,
   "metadata": {
    "colab": {
     "base_uri": "https://localhost:8080/"
    },
    "executionInfo": {
     "elapsed": 629,
     "status": "ok",
     "timestamp": 1621763681772,
     "user": {
      "displayName": "Yunus Surty",
      "photoUrl": "",
      "userId": "12841903714310226526"
     },
     "user_tz": -330
    },
    "id": "dnx2wx_DpShQ",
    "outputId": "b370f697-741b-4002-dd43-e0cd7a34f551"
   },
   "outputs": [
    {
     "name": "stdout",
     "output_type": "stream",
     "text": [
      "The training accuracy of DT is 1.0\n",
      "The test accuracy of DT is 0.128934152705812\n"
     ]
    }
   ],
   "source": [
    "from sklearn.tree import DecisionTreeRegressor\n",
    "dt=DecisionTreeRegressor()\n",
    "dt.fit(x_train,y_train)\n",
    "pred_train=dt.predict(x_train)\n",
    "pred_test=dt.predict(x_test)\n",
    "train_score=r2_score(y_train,pred_train)\n",
    "test_score=r2_score(y_test,pred_test)\n",
    "print('The training accuracy of DT is', train_score)\n",
    "print('The test accuracy of DT is', test_score)"
   ]
  },
  {
   "cell_type": "markdown",
   "metadata": {},
   "source": [
    "The training accuracy of DTR is 1.0 however it faied in Test accuracy"
   ]
  },
  {
   "cell_type": "markdown",
   "metadata": {},
   "source": [
    "Now Let's usd Random Forest Regressor model"
   ]
  },
  {
   "cell_type": "code",
   "execution_count": 62,
   "metadata": {
    "colab": {
     "base_uri": "https://localhost:8080/"
    },
    "executionInfo": {
     "elapsed": 1308,
     "status": "ok",
     "timestamp": 1621763683074,
     "user": {
      "displayName": "Yunus Surty",
      "photoUrl": "",
      "userId": "12841903714310226526"
     },
     "user_tz": -330
    },
    "id": "KrzdQ4nepShQ",
    "outputId": "071bd1b4-3fd3-4a5b-e811-2dd7c839e3d1"
   },
   "outputs": [
    {
     "name": "stdout",
     "output_type": "stream",
     "text": [
      "The training accuracy of RF is 0.9350809160406661\n",
      "The test accuracy of RF is 0.5583842443480213\n"
     ]
    }
   ],
   "source": [
    "from sklearn.ensemble import RandomForestRegressor\n",
    "rf=RandomForestRegressor()\n",
    "rf.fit(x_train,y_train)\n",
    "pred_train=rf.predict(x_train)\n",
    "pred_test=rf.predict(x_test)\n",
    "train_score=r2_score(y_train,pred_train)\n",
    "test_score=r2_score(y_test,pred_test)\n",
    "print('The training accuracy of RF is', train_score)\n",
    "print('The test accuracy of RF is', test_score)"
   ]
  },
  {
   "cell_type": "markdown",
   "metadata": {},
   "source": [
    "Again this model has given us the best result on training model but huge difference on testing model."
   ]
  },
  {
   "cell_type": "markdown",
   "metadata": {},
   "source": [
    "### Cross Vaidation"
   ]
  },
  {
   "cell_type": "markdown",
   "metadata": {},
   "source": [
    "We will cross validate our model"
   ]
  },
  {
   "cell_type": "code",
   "execution_count": 71,
   "metadata": {
    "executionInfo": {
     "elapsed": 18,
     "status": "ok",
     "timestamp": 1621763683077,
     "user": {
      "displayName": "Yunus Surty",
      "photoUrl": "",
      "userId": "12841903714310226526"
     },
     "user_tz": -330
    },
    "id": "o22pKUUxpShR"
   },
   "outputs": [],
   "source": [
    "from sklearn.model_selection import cross_val_score"
   ]
  },
  {
   "cell_type": "code",
   "execution_count": 53,
   "metadata": {
    "colab": {
     "base_uri": "https://localhost:8080/"
    },
    "executionInfo": {
     "elapsed": 11807,
     "status": "ok",
     "timestamp": 1621763694872,
     "user": {
      "displayName": "Yunus Surty",
      "photoUrl": "",
      "userId": "12841903714310226526"
     },
     "user_tz": -330
    },
    "id": "4ucIFcywpShR",
    "outputId": "24436333-9441-45ce-d731-5e51c0a804ed"
   },
   "outputs": [
    {
     "name": "stdout",
     "output_type": "stream",
     "text": [
      "Mean Accuracy of LinearRegression(copy_X=True, fit_intercept=True, n_jobs=None, normalize=False)\n",
      "0.3566103516156875\n",
      "\n",
      "\n",
      "Mean Accuracy of RandomForestRegressor(bootstrap=True, ccp_alpha=0.0, criterion='mse',\n",
      "                      max_depth=None, max_features='auto', max_leaf_nodes=None,\n",
      "                      max_samples=None, min_impurity_decrease=0.0,\n",
      "                      min_impurity_split=None, min_samples_leaf=1,\n",
      "                      min_samples_split=2, min_weight_fraction_leaf=0.0,\n",
      "                      n_estimators=100, n_jobs=None, oob_score=False,\n",
      "                      random_state=None, verbose=0, warm_start=False)\n",
      "0.43881033463383307\n",
      "\n",
      "\n",
      "Mean Accuracy of DecisionTreeRegressor(ccp_alpha=0.0, criterion='mse', max_depth=None,\n",
      "                      max_features=None, max_leaf_nodes=None,\n",
      "                      min_impurity_decrease=0.0, min_impurity_split=None,\n",
      "                      min_samples_leaf=1, min_samples_split=2,\n",
      "                      min_weight_fraction_leaf=0.0, presort='deprecated',\n",
      "                      random_state=None, splitter='best')\n",
      "-0.1542756145612234\n",
      "\n",
      "\n",
      "Mean Accuracy of SVR(C=1.0, cache_size=200, coef0=0.0, degree=3, epsilon=0.1, gamma='scale',\n",
      "    kernel='rbf', max_iter=-1, shrinking=True, tol=0.001, verbose=False)\n",
      "0.49228274143613787\n",
      "\n",
      "\n"
     ]
    }
   ],
   "source": [
    "model=(lr,rf,dt,sv)\n",
    "for m in model:\n",
    "    score=cross_val_score(m,x,y,cv=5)\n",
    "    print('Mean Accuracy of', m)\n",
    "    print(score.mean())\n",
    "    print('\\n')"
   ]
  },
  {
   "cell_type": "markdown",
   "metadata": {},
   "source": [
    "SVR has given us the best cross val score of 43%"
   ]
  },
  {
   "cell_type": "markdown",
   "metadata": {},
   "source": [
    "### HyperTuning"
   ]
  },
  {
   "cell_type": "markdown",
   "metadata": {},
   "source": [
    "Importing libraries for hypertuning and Normalization"
   ]
  },
  {
   "cell_type": "code",
   "execution_count": 64,
   "metadata": {
    "executionInfo": {
     "elapsed": 13,
     "status": "ok",
     "timestamp": 1621763694874,
     "user": {
      "displayName": "Yunus Surty",
      "photoUrl": "",
      "userId": "12841903714310226526"
     },
     "user_tz": -330
    },
    "id": "OMMkwWd7pShR"
   },
   "outputs": [],
   "source": [
    "from sklearn.model_selection import GridSearchCV\n",
    "from sklearn.linear_model import Lasso"
   ]
  },
  {
   "cell_type": "code",
   "execution_count": 65,
   "metadata": {
    "colab": {
     "base_uri": "https://localhost:8080/"
    },
    "executionInfo": {
     "elapsed": 2766,
     "status": "ok",
     "timestamp": 1621763697630,
     "user": {
      "displayName": "Yunus Surty",
      "photoUrl": "",
      "userId": "12841903714310226526"
     },
     "user_tz": -330
    },
    "id": "tDrAS9mjpShS",
    "outputId": "f3686250-4545-47dd-d7c3-92f677ab201d"
   },
   "outputs": [
    {
     "name": "stdout",
     "output_type": "stream",
     "text": [
      "{'alpha': 0.01, 'random_state': 0}\n"
     ]
    }
   ],
   "source": [
    "parameters={'alpha':[.0001,.001,.01,.1,1,10],'random_state':list(range(0,10))}\n",
    "ls=Lasso()\n",
    "clf=GridSearchCV(ls,parameters)\n",
    "clf.fit(x_train,y_train)\n",
    "\n",
    "print(clf.best_params_)"
   ]
  },
  {
   "cell_type": "code",
   "execution_count": 66,
   "metadata": {
    "executionInfo": {
     "elapsed": 24,
     "status": "ok",
     "timestamp": 1621763697632,
     "user": {
      "displayName": "Yunus Surty",
      "photoUrl": "",
      "userId": "12841903714310226526"
     },
     "user_tz": -330
    },
    "id": "1x2sxe9GpShS"
   },
   "outputs": [],
   "source": [
    "ls=Lasso(alpha=0.01,random_state=0)\n",
    "ls.fit(x_train,y_train)\n",
    "ls.score=(x_train,y_train)"
   ]
  },
  {
   "cell_type": "raw",
   "metadata": {
    "id": "2GAau-BgpShS"
   },
   "source": [
    "ls=Lasso(alpha=0.01,random_state=0)\n",
    "ls.fit(x_train,y_train)\n",
    "ls.score=(x_train,y_train)\n",
    "pred_ls=ls.predict(y_test)\n",
    "lss=r2_score(y_test,pred_ls)\n",
    "lss\n",
    "\n",
    "#While running this I got the output 'Reshape your data either using array.reshape(-1, 1) if your data has a single feature or array.reshape(1, -1) if it contains a single sample.\n",
    "\n",
    "What could be the possible reason for the same?"
   ]
  },
  {
   "cell_type": "code",
   "execution_count": 68,
   "metadata": {
    "executionInfo": {
     "elapsed": 478,
     "status": "ok",
     "timestamp": 1621763786904,
     "user": {
      "displayName": "Yunus Surty",
      "photoUrl": "",
      "userId": "12841903714310226526"
     },
     "user_tz": -330
    },
    "id": "Qj78lK2CpShT"
   },
   "outputs": [],
   "source": [
    "parameters=[{'kernel': ['rbf'], 'gamma': [0.01, 0.1, 0.2, 0.5, 0.6, 0.9],'C': [1, 10, 100]}]\n",
    "clf1=GridSearchCV(SVR(),parameters)"
   ]
  },
  {
   "cell_type": "code",
   "execution_count": 60,
   "metadata": {
    "colab": {
     "base_uri": "https://localhost:8080/"
    },
    "executionInfo": {
     "elapsed": 111949,
     "status": "ok",
     "timestamp": 1621763900023,
     "user": {
      "displayName": "Yunus Surty",
      "photoUrl": "",
      "userId": "12841903714310226526"
     },
     "user_tz": -330
    },
    "id": "m8VW-JhnpShT",
    "outputId": "bc60c239-ab22-43b3-8577-141b422ecc53"
   },
   "outputs": [
    {
     "data": {
      "text/plain": [
       "GridSearchCV(cv=None, error_score=nan,\n",
       "             estimator=SVR(C=1.0, cache_size=200, coef0=0.0, degree=3,\n",
       "                           epsilon=0.1, gamma='scale', kernel='rbf',\n",
       "                           max_iter=-1, shrinking=True, tol=0.001,\n",
       "                           verbose=False),\n",
       "             iid='deprecated', n_jobs=None,\n",
       "             param_grid=[{'C': [1, 10, 100],\n",
       "                          'gamma': [0.01, 0.1, 0.2, 0.5, 0.6, 0.9],\n",
       "                          'kernel': ['rbf']}],\n",
       "             pre_dispatch='2*n_jobs', refit=True, return_train_score=False,\n",
       "             scoring=None, verbose=0)"
      ]
     },
     "execution_count": 60,
     "metadata": {
      "tags": []
     },
     "output_type": "execute_result"
    }
   ],
   "source": [
    "clf1.fit(x_train,y_train)"
   ]
  },
  {
   "cell_type": "code",
   "execution_count": 61,
   "metadata": {
    "colab": {
     "base_uri": "https://localhost:8080/"
    },
    "executionInfo": {
     "elapsed": 16,
     "status": "ok",
     "timestamp": 1621763900026,
     "user": {
      "displayName": "Yunus Surty",
      "photoUrl": "",
      "userId": "12841903714310226526"
     },
     "user_tz": -330
    },
    "id": "NsF2a_EupShT",
    "outputId": "5a76b42a-5df4-40f4-9a82-dad78e4c4de8"
   },
   "outputs": [
    {
     "name": "stdout",
     "output_type": "stream",
     "text": [
      "{'C': 10, 'gamma': 0.1, 'kernel': 'rbf'}\n"
     ]
    }
   ],
   "source": [
    "print(clf1.best_params_)"
   ]
  },
  {
   "cell_type": "markdown",
   "metadata": {},
   "source": [
    "We will now fit the model with the above parameters\n",
    "\n",
    "#It was taking lot of time if other parameters were added"
   ]
  },
  {
   "cell_type": "code",
   "execution_count": 73,
   "metadata": {},
   "outputs": [
    {
     "name": "stdout",
     "output_type": "stream",
     "text": [
      "Model Accuracy 54.801183223694935\n",
      "Cross validation Accuracy 51.64723716536087\n"
     ]
    }
   ],
   "source": [
    "Finalmod=SVR(C=10, gamma=0.1, kernel='rbf')\n",
    "Finalmod.fit(x_train,y_train)\n",
    "pred=Finalmod.predict(x_test)\n",
    "acc=r2_score(y_test,pred)\n",
    "cvscore=cross_val_score(Finalmod,x,y,cv=5)\n",
    "print('Model Accuracy',acc*100)\n",
    "print('Cross validation Accuracy',cvscore.mean()*100)"
   ]
  },
  {
   "cell_type": "markdown",
   "metadata": {},
   "source": [
    "### Conclusion"
   ]
  },
  {
   "cell_type": "markdown",
   "metadata": {},
   "source": [
    "#### From SVR we are getting the Accuracy 54% and Cross_val score of 51%"
   ]
  },
  {
   "cell_type": "markdown",
   "metadata": {},
   "source": [
    "Lets save this model"
   ]
  },
  {
   "cell_type": "code",
   "execution_count": 74,
   "metadata": {},
   "outputs": [
    {
     "data": {
      "text/plain": [
       "['Abalone_study.obj']"
      ]
     },
     "execution_count": 74,
     "metadata": {},
     "output_type": "execute_result"
    }
   ],
   "source": [
    "import joblib\n",
    "joblib.dump(Finalmod,'Abalone_study.obj')"
   ]
  },
  {
   "cell_type": "code",
   "execution_count": null,
   "metadata": {},
   "outputs": [],
   "source": []
  }
 ],
 "metadata": {
  "colab": {
   "collapsed_sections": [
    "SmfCAJuIpSg7",
    "4vQ9QUMepSg9"
   ],
   "name": "Abalone Case Study.ipynb",
   "provenance": []
  },
  "kernelspec": {
   "display_name": "Python 3",
   "language": "python",
   "name": "python3"
  },
  "language_info": {
   "codemirror_mode": {
    "name": "ipython",
    "version": 3
   },
   "file_extension": ".py",
   "mimetype": "text/x-python",
   "name": "python",
   "nbconvert_exporter": "python",
   "pygments_lexer": "ipython3",
   "version": "3.8.5"
  }
 },
 "nbformat": 4,
 "nbformat_minor": 1
}
