{
 "cells": [
  {
   "cell_type": "markdown",
   "metadata": {},
   "source": [
    "# Red Wine Quality Prediction Project"
   ]
  },
  {
   "cell_type": "markdown",
   "metadata": {},
   "source": [
    "### Task - Need to build a classification model to predict the quality of Red Wine"
   ]
  },
  {
   "cell_type": "code",
   "execution_count": null,
   "metadata": {},
   "outputs": [],
   "source": []
  },
  {
   "cell_type": "markdown",
   "metadata": {},
   "source": [
    "Lets start with importing the required libraries"
   ]
  },
  {
   "cell_type": "code",
   "execution_count": 3,
   "metadata": {
    "executionInfo": {
     "elapsed": 1601,
     "status": "ok",
     "timestamp": 1621641247881,
     "user": {
      "displayName": "Yunus Surty",
      "photoUrl": "",
      "userId": "12841903714310226526"
     },
     "user_tz": -330
    },
    "id": "EH2no9jqcmrS"
   },
   "outputs": [],
   "source": [
    "import pandas as pd\n",
    "import numpy as np\n",
    "import seaborn as sns\n",
    "import matplotlib.pyplot as plt\n",
    "import warnings\n",
    "warnings.filterwarnings('ignore')"
   ]
  },
  {
   "cell_type": "markdown",
   "metadata": {},
   "source": [
    "Loading the data in the DataFrame"
   ]
  },
  {
   "cell_type": "code",
   "execution_count": 3,
   "metadata": {
    "executionInfo": {
     "elapsed": 365,
     "status": "ok",
     "timestamp": 1621641346937,
     "user": {
      "displayName": "Yunus Surty",
      "photoUrl": "",
      "userId": "12841903714310226526"
     },
     "user_tz": -330
    },
    "id": "ZBJS8dyHcmrh"
   },
   "outputs": [],
   "source": [
    "df=pd.read_csv('winequality.csv')"
   ]
  },
  {
   "cell_type": "code",
   "execution_count": 4,
   "metadata": {
    "colab": {
     "base_uri": "https://localhost:8080/",
     "height": 471
    },
    "executionInfo": {
     "elapsed": 18,
     "status": "ok",
     "timestamp": 1621641349093,
     "user": {
      "displayName": "Yunus Surty",
      "photoUrl": "",
      "userId": "12841903714310226526"
     },
     "user_tz": -330
    },
    "id": "jFXwXxKucmri",
    "outputId": "c88f3d4e-4d98-4b58-d4e8-5b8ff57891a1"
   },
   "outputs": [
    {
     "data": {
      "text/html": [
       "<div>\n",
       "<style scoped>\n",
       "    .dataframe tbody tr th:only-of-type {\n",
       "        vertical-align: middle;\n",
       "    }\n",
       "\n",
       "    .dataframe tbody tr th {\n",
       "        vertical-align: top;\n",
       "    }\n",
       "\n",
       "    .dataframe thead th {\n",
       "        text-align: right;\n",
       "    }\n",
       "</style>\n",
       "<table border=\"1\" class=\"dataframe\">\n",
       "  <thead>\n",
       "    <tr style=\"text-align: right;\">\n",
       "      <th></th>\n",
       "      <th>fixed acidity</th>\n",
       "      <th>volatile acidity</th>\n",
       "      <th>citric acid</th>\n",
       "      <th>residual sugar</th>\n",
       "      <th>chlorides</th>\n",
       "      <th>free sulfur dioxide</th>\n",
       "      <th>total sulfur dioxide</th>\n",
       "      <th>density</th>\n",
       "      <th>pH</th>\n",
       "      <th>sulphates</th>\n",
       "      <th>alcohol</th>\n",
       "      <th>quality</th>\n",
       "    </tr>\n",
       "  </thead>\n",
       "  <tbody>\n",
       "    <tr>\n",
       "      <th>0</th>\n",
       "      <td>7.4</td>\n",
       "      <td>0.700</td>\n",
       "      <td>0.00</td>\n",
       "      <td>1.9</td>\n",
       "      <td>0.076</td>\n",
       "      <td>11.0</td>\n",
       "      <td>34.0</td>\n",
       "      <td>0.99780</td>\n",
       "      <td>3.51</td>\n",
       "      <td>0.56</td>\n",
       "      <td>9.4</td>\n",
       "      <td>5</td>\n",
       "    </tr>\n",
       "    <tr>\n",
       "      <th>1</th>\n",
       "      <td>7.8</td>\n",
       "      <td>0.880</td>\n",
       "      <td>0.00</td>\n",
       "      <td>2.6</td>\n",
       "      <td>0.098</td>\n",
       "      <td>25.0</td>\n",
       "      <td>67.0</td>\n",
       "      <td>0.99680</td>\n",
       "      <td>3.20</td>\n",
       "      <td>0.68</td>\n",
       "      <td>9.8</td>\n",
       "      <td>5</td>\n",
       "    </tr>\n",
       "    <tr>\n",
       "      <th>2</th>\n",
       "      <td>7.8</td>\n",
       "      <td>0.760</td>\n",
       "      <td>0.04</td>\n",
       "      <td>2.3</td>\n",
       "      <td>0.092</td>\n",
       "      <td>15.0</td>\n",
       "      <td>54.0</td>\n",
       "      <td>0.99700</td>\n",
       "      <td>3.26</td>\n",
       "      <td>0.65</td>\n",
       "      <td>9.8</td>\n",
       "      <td>5</td>\n",
       "    </tr>\n",
       "    <tr>\n",
       "      <th>3</th>\n",
       "      <td>11.2</td>\n",
       "      <td>0.280</td>\n",
       "      <td>0.56</td>\n",
       "      <td>1.9</td>\n",
       "      <td>0.075</td>\n",
       "      <td>17.0</td>\n",
       "      <td>60.0</td>\n",
       "      <td>0.99800</td>\n",
       "      <td>3.16</td>\n",
       "      <td>0.58</td>\n",
       "      <td>9.8</td>\n",
       "      <td>6</td>\n",
       "    </tr>\n",
       "    <tr>\n",
       "      <th>4</th>\n",
       "      <td>7.4</td>\n",
       "      <td>0.700</td>\n",
       "      <td>0.00</td>\n",
       "      <td>1.9</td>\n",
       "      <td>0.076</td>\n",
       "      <td>11.0</td>\n",
       "      <td>34.0</td>\n",
       "      <td>0.99780</td>\n",
       "      <td>3.51</td>\n",
       "      <td>0.56</td>\n",
       "      <td>9.4</td>\n",
       "      <td>5</td>\n",
       "    </tr>\n",
       "    <tr>\n",
       "      <th>...</th>\n",
       "      <td>...</td>\n",
       "      <td>...</td>\n",
       "      <td>...</td>\n",
       "      <td>...</td>\n",
       "      <td>...</td>\n",
       "      <td>...</td>\n",
       "      <td>...</td>\n",
       "      <td>...</td>\n",
       "      <td>...</td>\n",
       "      <td>...</td>\n",
       "      <td>...</td>\n",
       "      <td>...</td>\n",
       "    </tr>\n",
       "    <tr>\n",
       "      <th>1594</th>\n",
       "      <td>6.2</td>\n",
       "      <td>0.600</td>\n",
       "      <td>0.08</td>\n",
       "      <td>2.0</td>\n",
       "      <td>0.090</td>\n",
       "      <td>32.0</td>\n",
       "      <td>44.0</td>\n",
       "      <td>0.99490</td>\n",
       "      <td>3.45</td>\n",
       "      <td>0.58</td>\n",
       "      <td>10.5</td>\n",
       "      <td>5</td>\n",
       "    </tr>\n",
       "    <tr>\n",
       "      <th>1595</th>\n",
       "      <td>5.9</td>\n",
       "      <td>0.550</td>\n",
       "      <td>0.10</td>\n",
       "      <td>2.2</td>\n",
       "      <td>0.062</td>\n",
       "      <td>39.0</td>\n",
       "      <td>51.0</td>\n",
       "      <td>0.99512</td>\n",
       "      <td>3.52</td>\n",
       "      <td>0.76</td>\n",
       "      <td>11.2</td>\n",
       "      <td>6</td>\n",
       "    </tr>\n",
       "    <tr>\n",
       "      <th>1596</th>\n",
       "      <td>6.3</td>\n",
       "      <td>0.510</td>\n",
       "      <td>0.13</td>\n",
       "      <td>2.3</td>\n",
       "      <td>0.076</td>\n",
       "      <td>29.0</td>\n",
       "      <td>40.0</td>\n",
       "      <td>0.99574</td>\n",
       "      <td>3.42</td>\n",
       "      <td>0.75</td>\n",
       "      <td>11.0</td>\n",
       "      <td>6</td>\n",
       "    </tr>\n",
       "    <tr>\n",
       "      <th>1597</th>\n",
       "      <td>5.9</td>\n",
       "      <td>0.645</td>\n",
       "      <td>0.12</td>\n",
       "      <td>2.0</td>\n",
       "      <td>0.075</td>\n",
       "      <td>32.0</td>\n",
       "      <td>44.0</td>\n",
       "      <td>0.99547</td>\n",
       "      <td>3.57</td>\n",
       "      <td>0.71</td>\n",
       "      <td>10.2</td>\n",
       "      <td>5</td>\n",
       "    </tr>\n",
       "    <tr>\n",
       "      <th>1598</th>\n",
       "      <td>6.0</td>\n",
       "      <td>0.310</td>\n",
       "      <td>0.47</td>\n",
       "      <td>3.6</td>\n",
       "      <td>0.067</td>\n",
       "      <td>18.0</td>\n",
       "      <td>42.0</td>\n",
       "      <td>0.99549</td>\n",
       "      <td>3.39</td>\n",
       "      <td>0.66</td>\n",
       "      <td>11.0</td>\n",
       "      <td>6</td>\n",
       "    </tr>\n",
       "  </tbody>\n",
       "</table>\n",
       "<p>1599 rows × 12 columns</p>\n",
       "</div>"
      ],
      "text/plain": [
       "      fixed acidity  volatile acidity  citric acid  ...  sulphates  alcohol  quality\n",
       "0               7.4             0.700         0.00  ...       0.56      9.4        5\n",
       "1               7.8             0.880         0.00  ...       0.68      9.8        5\n",
       "2               7.8             0.760         0.04  ...       0.65      9.8        5\n",
       "3              11.2             0.280         0.56  ...       0.58      9.8        6\n",
       "4               7.4             0.700         0.00  ...       0.56      9.4        5\n",
       "...             ...               ...          ...  ...        ...      ...      ...\n",
       "1594            6.2             0.600         0.08  ...       0.58     10.5        5\n",
       "1595            5.9             0.550         0.10  ...       0.76     11.2        6\n",
       "1596            6.3             0.510         0.13  ...       0.75     11.0        6\n",
       "1597            5.9             0.645         0.12  ...       0.71     10.2        5\n",
       "1598            6.0             0.310         0.47  ...       0.66     11.0        6\n",
       "\n",
       "[1599 rows x 12 columns]"
      ]
     },
     "execution_count": 4,
     "metadata": {
      "tags": []
     },
     "output_type": "execute_result"
    }
   ],
   "source": [
    "df"
   ]
  },
  {
   "cell_type": "markdown",
   "metadata": {
    "id": "OhcLoHF2cmrj"
   },
   "source": [
    "We have been ask to set the cut off for quality, 7 or higher as 'good'/1 and the remainder as 'not good'/0.\n",
    "We will change this later after doing EDA."
   ]
  },
  {
   "cell_type": "code",
   "execution_count": 5,
   "metadata": {
    "colab": {
     "base_uri": "https://localhost:8080/"
    },
    "executionInfo": {
     "elapsed": 456,
     "status": "ok",
     "timestamp": 1621641353893,
     "user": {
      "displayName": "Yunus Surty",
      "photoUrl": "",
      "userId": "12841903714310226526"
     },
     "user_tz": -330
    },
    "id": "b8CjGpU0cmrj",
    "outputId": "43cbf01a-0ce9-4e74-bccf-0144e2e22067"
   },
   "outputs": [
    {
     "data": {
      "text/plain": [
       "5    681\n",
       "6    638\n",
       "7    199\n",
       "4     53\n",
       "8     18\n",
       "3     10\n",
       "Name: quality, dtype: int64"
      ]
     },
     "execution_count": 5,
     "metadata": {
      "tags": []
     },
     "output_type": "execute_result"
    }
   ],
   "source": [
    "df['quality'].value_counts()"
   ]
  },
  {
   "cell_type": "code",
   "execution_count": 6,
   "metadata": {
    "colab": {
     "base_uri": "https://localhost:8080/",
     "height": 272
    },
    "executionInfo": {
     "elapsed": 431,
     "status": "ok",
     "timestamp": 1621641356886,
     "user": {
      "displayName": "Yunus Surty",
      "photoUrl": "",
      "userId": "12841903714310226526"
     },
     "user_tz": -330
    },
    "id": "KyIUxUIxcmrk",
    "outputId": "bd61fa3a-ebac-4326-9af0-0e216c3cddb4"
   },
   "outputs": [
    {
     "data": {
      "text/plain": [
       "<matplotlib.axes._subplots.AxesSubplot at 0x7f6b30ab79d0>"
      ]
     },
     "execution_count": 6,
     "metadata": {
      "tags": []
     },
     "output_type": "execute_result"
    },
    {
     "data": {
      "image/png": "[encoded data removed]",
      "text/plain": [
       "<Figure size 432x288 with 1 Axes>"
      ]
     },
     "metadata": {
      "needs_background": "light",
      "tags": []
     },
     "output_type": "display_data"
    }
   ],
   "source": [
    "sns.countplot(x='quality',data=df)"
   ]
  },
  {
   "cell_type": "markdown",
   "metadata": {
    "id": "VINXmE59cmrk"
   },
   "source": [
    "From the above graph we can say that the quality of wine is mostly of average in the dataset"
   ]
  },
  {
   "cell_type": "code",
   "execution_count": 7,
   "metadata": {
    "colab": {
     "base_uri": "https://localhost:8080/",
     "height": 257
    },
    "executionInfo": {
     "elapsed": 376,
     "status": "ok",
     "timestamp": 1621641360157,
     "user": {
      "displayName": "Yunus Surty",
      "photoUrl": "",
      "userId": "12841903714310226526"
     },
     "user_tz": -330
    },
    "id": "FhZfMRz1cmrl",
    "outputId": "13baf484-bba3-48b9-d871-bb02ca6c65da"
   },
   "outputs": [
    {
     "data": {
      "text/html": [
       "<div>\n",
       "<style scoped>\n",
       "    .dataframe tbody tr th:only-of-type {\n",
       "        vertical-align: middle;\n",
       "    }\n",
       "\n",
       "    .dataframe tbody tr th {\n",
       "        vertical-align: top;\n",
       "    }\n",
       "\n",
       "    .dataframe thead th {\n",
       "        text-align: right;\n",
       "    }\n",
       "</style>\n",
       "<table border=\"1\" class=\"dataframe\">\n",
       "  <thead>\n",
       "    <tr style=\"text-align: right;\">\n",
       "      <th></th>\n",
       "      <th>fixed acidity</th>\n",
       "      <th>volatile acidity</th>\n",
       "      <th>citric acid</th>\n",
       "      <th>residual sugar</th>\n",
       "      <th>chlorides</th>\n",
       "      <th>free sulfur dioxide</th>\n",
       "      <th>total sulfur dioxide</th>\n",
       "      <th>density</th>\n",
       "      <th>pH</th>\n",
       "      <th>sulphates</th>\n",
       "      <th>alcohol</th>\n",
       "      <th>quality</th>\n",
       "    </tr>\n",
       "  </thead>\n",
       "  <tbody>\n",
       "    <tr>\n",
       "      <th>0</th>\n",
       "      <td>7.4</td>\n",
       "      <td>0.70</td>\n",
       "      <td>0.00</td>\n",
       "      <td>1.9</td>\n",
       "      <td>0.076</td>\n",
       "      <td>11.0</td>\n",
       "      <td>34.0</td>\n",
       "      <td>0.9978</td>\n",
       "      <td>3.51</td>\n",
       "      <td>0.56</td>\n",
       "      <td>9.4</td>\n",
       "      <td>5</td>\n",
       "    </tr>\n",
       "    <tr>\n",
       "      <th>1</th>\n",
       "      <td>7.8</td>\n",
       "      <td>0.88</td>\n",
       "      <td>0.00</td>\n",
       "      <td>2.6</td>\n",
       "      <td>0.098</td>\n",
       "      <td>25.0</td>\n",
       "      <td>67.0</td>\n",
       "      <td>0.9968</td>\n",
       "      <td>3.20</td>\n",
       "      <td>0.68</td>\n",
       "      <td>9.8</td>\n",
       "      <td>5</td>\n",
       "    </tr>\n",
       "    <tr>\n",
       "      <th>2</th>\n",
       "      <td>7.8</td>\n",
       "      <td>0.76</td>\n",
       "      <td>0.04</td>\n",
       "      <td>2.3</td>\n",
       "      <td>0.092</td>\n",
       "      <td>15.0</td>\n",
       "      <td>54.0</td>\n",
       "      <td>0.9970</td>\n",
       "      <td>3.26</td>\n",
       "      <td>0.65</td>\n",
       "      <td>9.8</td>\n",
       "      <td>5</td>\n",
       "    </tr>\n",
       "    <tr>\n",
       "      <th>3</th>\n",
       "      <td>11.2</td>\n",
       "      <td>0.28</td>\n",
       "      <td>0.56</td>\n",
       "      <td>1.9</td>\n",
       "      <td>0.075</td>\n",
       "      <td>17.0</td>\n",
       "      <td>60.0</td>\n",
       "      <td>0.9980</td>\n",
       "      <td>3.16</td>\n",
       "      <td>0.58</td>\n",
       "      <td>9.8</td>\n",
       "      <td>6</td>\n",
       "    </tr>\n",
       "    <tr>\n",
       "      <th>4</th>\n",
       "      <td>7.4</td>\n",
       "      <td>0.70</td>\n",
       "      <td>0.00</td>\n",
       "      <td>1.9</td>\n",
       "      <td>0.076</td>\n",
       "      <td>11.0</td>\n",
       "      <td>34.0</td>\n",
       "      <td>0.9978</td>\n",
       "      <td>3.51</td>\n",
       "      <td>0.56</td>\n",
       "      <td>9.4</td>\n",
       "      <td>5</td>\n",
       "    </tr>\n",
       "  </tbody>\n",
       "</table>\n",
       "</div>"
      ],
      "text/plain": [
       "   fixed acidity  volatile acidity  citric acid  ...  sulphates  alcohol  quality\n",
       "0            7.4              0.70         0.00  ...       0.56      9.4        5\n",
       "1            7.8              0.88         0.00  ...       0.68      9.8        5\n",
       "2            7.8              0.76         0.04  ...       0.65      9.8        5\n",
       "3           11.2              0.28         0.56  ...       0.58      9.8        6\n",
       "4            7.4              0.70         0.00  ...       0.56      9.4        5\n",
       "\n",
       "[5 rows x 12 columns]"
      ]
     },
     "execution_count": 7,
     "metadata": {
      "tags": []
     },
     "output_type": "execute_result"
    }
   ],
   "source": [
    "df.head()"
   ]
  },
  {
   "cell_type": "markdown",
   "metadata": {},
   "source": [
    "First 5 columns"
   ]
  },
  {
   "cell_type": "code",
   "execution_count": 8,
   "metadata": {
    "colab": {
     "base_uri": "https://localhost:8080/",
     "height": 257
    },
    "executionInfo": {
     "elapsed": 402,
     "status": "ok",
     "timestamp": 1621641362218,
     "user": {
      "displayName": "Yunus Surty",
      "photoUrl": "",
      "userId": "12841903714310226526"
     },
     "user_tz": -330
    },
    "id": "oSXlrYAvcmrl",
    "outputId": "642b9d0b-f071-4105-a593-a89d5da6f09c"
   },
   "outputs": [
    {
     "data": {
      "text/html": [
       "<div>\n",
       "<style scoped>\n",
       "    .dataframe tbody tr th:only-of-type {\n",
       "        vertical-align: middle;\n",
       "    }\n",
       "\n",
       "    .dataframe tbody tr th {\n",
       "        vertical-align: top;\n",
       "    }\n",
       "\n",
       "    .dataframe thead th {\n",
       "        text-align: right;\n",
       "    }\n",
       "</style>\n",
       "<table border=\"1\" class=\"dataframe\">\n",
       "  <thead>\n",
       "    <tr style=\"text-align: right;\">\n",
       "      <th></th>\n",
       "      <th>fixed acidity</th>\n",
       "      <th>volatile acidity</th>\n",
       "      <th>citric acid</th>\n",
       "      <th>residual sugar</th>\n",
       "      <th>chlorides</th>\n",
       "      <th>free sulfur dioxide</th>\n",
       "      <th>total sulfur dioxide</th>\n",
       "      <th>density</th>\n",
       "      <th>pH</th>\n",
       "      <th>sulphates</th>\n",
       "      <th>alcohol</th>\n",
       "      <th>quality</th>\n",
       "    </tr>\n",
       "  </thead>\n",
       "  <tbody>\n",
       "    <tr>\n",
       "      <th>1594</th>\n",
       "      <td>6.2</td>\n",
       "      <td>0.600</td>\n",
       "      <td>0.08</td>\n",
       "      <td>2.0</td>\n",
       "      <td>0.090</td>\n",
       "      <td>32.0</td>\n",
       "      <td>44.0</td>\n",
       "      <td>0.99490</td>\n",
       "      <td>3.45</td>\n",
       "      <td>0.58</td>\n",
       "      <td>10.5</td>\n",
       "      <td>5</td>\n",
       "    </tr>\n",
       "    <tr>\n",
       "      <th>1595</th>\n",
       "      <td>5.9</td>\n",
       "      <td>0.550</td>\n",
       "      <td>0.10</td>\n",
       "      <td>2.2</td>\n",
       "      <td>0.062</td>\n",
       "      <td>39.0</td>\n",
       "      <td>51.0</td>\n",
       "      <td>0.99512</td>\n",
       "      <td>3.52</td>\n",
       "      <td>0.76</td>\n",
       "      <td>11.2</td>\n",
       "      <td>6</td>\n",
       "    </tr>\n",
       "    <tr>\n",
       "      <th>1596</th>\n",
       "      <td>6.3</td>\n",
       "      <td>0.510</td>\n",
       "      <td>0.13</td>\n",
       "      <td>2.3</td>\n",
       "      <td>0.076</td>\n",
       "      <td>29.0</td>\n",
       "      <td>40.0</td>\n",
       "      <td>0.99574</td>\n",
       "      <td>3.42</td>\n",
       "      <td>0.75</td>\n",
       "      <td>11.0</td>\n",
       "      <td>6</td>\n",
       "    </tr>\n",
       "    <tr>\n",
       "      <th>1597</th>\n",
       "      <td>5.9</td>\n",
       "      <td>0.645</td>\n",
       "      <td>0.12</td>\n",
       "      <td>2.0</td>\n",
       "      <td>0.075</td>\n",
       "      <td>32.0</td>\n",
       "      <td>44.0</td>\n",
       "      <td>0.99547</td>\n",
       "      <td>3.57</td>\n",
       "      <td>0.71</td>\n",
       "      <td>10.2</td>\n",
       "      <td>5</td>\n",
       "    </tr>\n",
       "    <tr>\n",
       "      <th>1598</th>\n",
       "      <td>6.0</td>\n",
       "      <td>0.310</td>\n",
       "      <td>0.47</td>\n",
       "      <td>3.6</td>\n",
       "      <td>0.067</td>\n",
       "      <td>18.0</td>\n",
       "      <td>42.0</td>\n",
       "      <td>0.99549</td>\n",
       "      <td>3.39</td>\n",
       "      <td>0.66</td>\n",
       "      <td>11.0</td>\n",
       "      <td>6</td>\n",
       "    </tr>\n",
       "  </tbody>\n",
       "</table>\n",
       "</div>"
      ],
      "text/plain": [
       "      fixed acidity  volatile acidity  citric acid  ...  sulphates  alcohol  quality\n",
       "1594            6.2             0.600         0.08  ...       0.58     10.5        5\n",
       "1595            5.9             0.550         0.10  ...       0.76     11.2        6\n",
       "1596            6.3             0.510         0.13  ...       0.75     11.0        6\n",
       "1597            5.9             0.645         0.12  ...       0.71     10.2        5\n",
       "1598            6.0             0.310         0.47  ...       0.66     11.0        6\n",
       "\n",
       "[5 rows x 12 columns]"
      ]
     },
     "execution_count": 8,
     "metadata": {
      "tags": []
     },
     "output_type": "execute_result"
    }
   ],
   "source": [
    "df.tail()"
   ]
  },
  {
   "cell_type": "markdown",
   "metadata": {},
   "source": [
    "Last 5 columns"
   ]
  },
  {
   "cell_type": "code",
   "execution_count": 9,
   "metadata": {
    "colab": {
     "base_uri": "https://localhost:8080/"
    },
    "executionInfo": {
     "elapsed": 387,
     "status": "ok",
     "timestamp": 1621641364969,
     "user": {
      "displayName": "Yunus Surty",
      "photoUrl": "",
      "userId": "12841903714310226526"
     },
     "user_tz": -330
    },
    "id": "kxwyZolmcmrl",
    "outputId": "231a0444-2eef-4152-cc02-1c3aceb71990"
   },
   "outputs": [
    {
     "name": "stdout",
     "output_type": "stream",
     "text": [
      "<class 'pandas.core.frame.DataFrame'>\n",
      "RangeIndex: 1599 entries, 0 to 1598\n",
      "Data columns (total 12 columns):\n",
      " #   Column                Non-Null Count  Dtype  \n",
      "---  ------                --------------  -----  \n",
      " 0   fixed acidity         1599 non-null   float64\n",
      " 1   volatile acidity      1599 non-null   float64\n",
      " 2   citric acid           1599 non-null   float64\n",
      " 3   residual sugar        1599 non-null   float64\n",
      " 4   chlorides             1599 non-null   float64\n",
      " 5   free sulfur dioxide   1599 non-null   float64\n",
      " 6   total sulfur dioxide  1599 non-null   float64\n",
      " 7   density               1599 non-null   float64\n",
      " 8   pH                    1599 non-null   float64\n",
      " 9   sulphates             1599 non-null   float64\n",
      " 10  alcohol               1599 non-null   float64\n",
      " 11  quality               1599 non-null   int64  \n",
      "dtypes: float64(11), int64(1)\n",
      "memory usage: 150.0 KB\n"
     ]
    }
   ],
   "source": [
    "df.info()"
   ]
  },
  {
   "cell_type": "markdown",
   "metadata": {
    "id": "SpxStUghcmrm"
   },
   "source": [
    "Our complete data consisist of nummeric values"
   ]
  },
  {
   "cell_type": "code",
   "execution_count": 10,
   "metadata": {
    "colab": {
     "base_uri": "https://localhost:8080/"
    },
    "executionInfo": {
     "elapsed": 26,
     "status": "ok",
     "timestamp": 1621641370422,
     "user": {
      "displayName": "Yunus Surty",
      "photoUrl": "",
      "userId": "12841903714310226526"
     },
     "user_tz": -330
    },
    "id": "sYAfpTNjcmrm",
    "outputId": "7416b893-a2a0-4bd5-b02d-83bc259c16c2"
   },
   "outputs": [
    {
     "data": {
      "text/plain": [
       "fixed acidity           0\n",
       "volatile acidity        0\n",
       "citric acid             0\n",
       "residual sugar          0\n",
       "chlorides               0\n",
       "free sulfur dioxide     0\n",
       "total sulfur dioxide    0\n",
       "density                 0\n",
       "pH                      0\n",
       "sulphates               0\n",
       "alcohol                 0\n",
       "quality                 0\n",
       "dtype: int64"
      ]
     },
     "execution_count": 10,
     "metadata": {
      "tags": []
     },
     "output_type": "execute_result"
    }
   ],
   "source": [
    "df.isnull().sum()"
   ]
  },
  {
   "cell_type": "markdown",
   "metadata": {
    "id": "ntIu-192cmrm"
   },
   "source": [
    "There are no null values present in the dataset"
   ]
  },
  {
   "cell_type": "code",
   "execution_count": 11,
   "metadata": {
    "colab": {
     "base_uri": "https://localhost:8080/",
     "height": 559
    },
    "executionInfo": {
     "elapsed": 392,
     "status": "ok",
     "timestamp": 1621641374274,
     "user": {
      "displayName": "Yunus Surty",
      "photoUrl": "",
      "userId": "12841903714310226526"
     },
     "user_tz": -330
    },
    "id": "YqKiGeQgcmrn",
    "outputId": "d63608ba-e7c0-4a00-ad61-7607902b6379"
   },
   "outputs": [
    {
     "data": {
      "text/html": [
       "<div>\n",
       "<style scoped>\n",
       "    .dataframe tbody tr th:only-of-type {\n",
       "        vertical-align: middle;\n",
       "    }\n",
       "\n",
       "    .dataframe tbody tr th {\n",
       "        vertical-align: top;\n",
       "    }\n",
       "\n",
       "    .dataframe thead th {\n",
       "        text-align: right;\n",
       "    }\n",
       "</style>\n",
       "<table border=\"1\" class=\"dataframe\">\n",
       "  <thead>\n",
       "    <tr style=\"text-align: right;\">\n",
       "      <th></th>\n",
       "      <th>count</th>\n",
       "      <th>mean</th>\n",
       "      <th>std</th>\n",
       "      <th>min</th>\n",
       "      <th>25%</th>\n",
       "      <th>50%</th>\n",
       "      <th>75%</th>\n",
       "      <th>max</th>\n",
       "    </tr>\n",
       "  </thead>\n",
       "  <tbody>\n",
       "    <tr>\n",
       "      <th>fixed acidity</th>\n",
       "      <td>1599.0</td>\n",
       "      <td>8.319637</td>\n",
       "      <td>1.741096</td>\n",
       "      <td>4.60000</td>\n",
       "      <td>7.1000</td>\n",
       "      <td>7.90000</td>\n",
       "      <td>9.200000</td>\n",
       "      <td>15.90000</td>\n",
       "    </tr>\n",
       "    <tr>\n",
       "      <th>volatile acidity</th>\n",
       "      <td>1599.0</td>\n",
       "      <td>0.527821</td>\n",
       "      <td>0.179060</td>\n",
       "      <td>0.12000</td>\n",
       "      <td>0.3900</td>\n",
       "      <td>0.52000</td>\n",
       "      <td>0.640000</td>\n",
       "      <td>1.58000</td>\n",
       "    </tr>\n",
       "    <tr>\n",
       "      <th>citric acid</th>\n",
       "      <td>1599.0</td>\n",
       "      <td>0.270976</td>\n",
       "      <td>0.194801</td>\n",
       "      <td>0.00000</td>\n",
       "      <td>0.0900</td>\n",
       "      <td>0.26000</td>\n",
       "      <td>0.420000</td>\n",
       "      <td>1.00000</td>\n",
       "    </tr>\n",
       "    <tr>\n",
       "      <th>residual sugar</th>\n",
       "      <td>1599.0</td>\n",
       "      <td>2.538806</td>\n",
       "      <td>1.409928</td>\n",
       "      <td>0.90000</td>\n",
       "      <td>1.9000</td>\n",
       "      <td>2.20000</td>\n",
       "      <td>2.600000</td>\n",
       "      <td>15.50000</td>\n",
       "    </tr>\n",
       "    <tr>\n",
       "      <th>chlorides</th>\n",
       "      <td>1599.0</td>\n",
       "      <td>0.087467</td>\n",
       "      <td>0.047065</td>\n",
       "      <td>0.01200</td>\n",
       "      <td>0.0700</td>\n",
       "      <td>0.07900</td>\n",
       "      <td>0.090000</td>\n",
       "      <td>0.61100</td>\n",
       "    </tr>\n",
       "    <tr>\n",
       "      <th>free sulfur dioxide</th>\n",
       "      <td>1599.0</td>\n",
       "      <td>15.874922</td>\n",
       "      <td>10.460157</td>\n",
       "      <td>1.00000</td>\n",
       "      <td>7.0000</td>\n",
       "      <td>14.00000</td>\n",
       "      <td>21.000000</td>\n",
       "      <td>72.00000</td>\n",
       "    </tr>\n",
       "    <tr>\n",
       "      <th>total sulfur dioxide</th>\n",
       "      <td>1599.0</td>\n",
       "      <td>46.467792</td>\n",
       "      <td>32.895324</td>\n",
       "      <td>6.00000</td>\n",
       "      <td>22.0000</td>\n",
       "      <td>38.00000</td>\n",
       "      <td>62.000000</td>\n",
       "      <td>289.00000</td>\n",
       "    </tr>\n",
       "    <tr>\n",
       "      <th>density</th>\n",
       "      <td>1599.0</td>\n",
       "      <td>0.996747</td>\n",
       "      <td>0.001887</td>\n",
       "      <td>0.99007</td>\n",
       "      <td>0.9956</td>\n",
       "      <td>0.99675</td>\n",
       "      <td>0.997835</td>\n",
       "      <td>1.00369</td>\n",
       "    </tr>\n",
       "    <tr>\n",
       "      <th>pH</th>\n",
       "      <td>1599.0</td>\n",
       "      <td>3.311113</td>\n",
       "      <td>0.154386</td>\n",
       "      <td>2.74000</td>\n",
       "      <td>3.2100</td>\n",
       "      <td>3.31000</td>\n",
       "      <td>3.400000</td>\n",
       "      <td>4.01000</td>\n",
       "    </tr>\n",
       "    <tr>\n",
       "      <th>sulphates</th>\n",
       "      <td>1599.0</td>\n",
       "      <td>0.658149</td>\n",
       "      <td>0.169507</td>\n",
       "      <td>0.33000</td>\n",
       "      <td>0.5500</td>\n",
       "      <td>0.62000</td>\n",
       "      <td>0.730000</td>\n",
       "      <td>2.00000</td>\n",
       "    </tr>\n",
       "    <tr>\n",
       "      <th>alcohol</th>\n",
       "      <td>1599.0</td>\n",
       "      <td>10.422983</td>\n",
       "      <td>1.065668</td>\n",
       "      <td>8.40000</td>\n",
       "      <td>9.5000</td>\n",
       "      <td>10.20000</td>\n",
       "      <td>11.100000</td>\n",
       "      <td>14.90000</td>\n",
       "    </tr>\n",
       "    <tr>\n",
       "      <th>quality</th>\n",
       "      <td>1599.0</td>\n",
       "      <td>5.636023</td>\n",
       "      <td>0.807569</td>\n",
       "      <td>3.00000</td>\n",
       "      <td>5.0000</td>\n",
       "      <td>6.00000</td>\n",
       "      <td>6.000000</td>\n",
       "      <td>8.00000</td>\n",
       "    </tr>\n",
       "  </tbody>\n",
       "</table>\n",
       "</div>"
      ],
      "text/plain": [
       "                       count       mean  ...        75%        max\n",
       "fixed acidity         1599.0   8.319637  ...   9.200000   15.90000\n",
       "volatile acidity      1599.0   0.527821  ...   0.640000    1.58000\n",
       "citric acid           1599.0   0.270976  ...   0.420000    1.00000\n",
       "residual sugar        1599.0   2.538806  ...   2.600000   15.50000\n",
       "chlorides             1599.0   0.087467  ...   0.090000    0.61100\n",
       "free sulfur dioxide   1599.0  15.874922  ...  21.000000   72.00000\n",
       "total sulfur dioxide  1599.0  46.467792  ...  62.000000  289.00000\n",
       "density               1599.0   0.996747  ...   0.997835    1.00369\n",
       "pH                    1599.0   3.311113  ...   3.400000    4.01000\n",
       "sulphates             1599.0   0.658149  ...   0.730000    2.00000\n",
       "alcohol               1599.0  10.422983  ...  11.100000   14.90000\n",
       "quality               1599.0   5.636023  ...   6.000000    8.00000\n",
       "\n",
       "[12 rows x 8 columns]"
      ]
     },
     "execution_count": 11,
     "metadata": {
      "tags": []
     },
     "output_type": "execute_result"
    }
   ],
   "source": [
    "df.describe().transpose()"
   ]
  },
  {
   "cell_type": "markdown",
   "metadata": {
    "id": "VETNvNSYcmrn"
   },
   "source": [
    "From the above summary we can see that outliers are present in most of the feature and it is positively skewed."
   ]
  },
  {
   "cell_type": "markdown",
   "metadata": {},
   "source": [
    "### EDA"
   ]
  },
  {
   "cell_type": "code",
   "execution_count": 12,
   "metadata": {
    "colab": {
     "base_uri": "https://localhost:8080/",
     "height": 1000
    },
    "executionInfo": {
     "elapsed": 4570,
     "status": "ok",
     "timestamp": 1621641388916,
     "user": {
      "displayName": "Yunus Surty",
      "photoUrl": "",
      "userId": "12841903714310226526"
     },
     "user_tz": -330
    },
    "id": "NiGwXcJAcmrn",
    "outputId": "9cb7181a-775e-454b-d724-2bce381e4875",
    "scrolled": false
   },
   "outputs": [
    {
     "data": {
      "image/png": "[encoded data removed]",
      "text/plain": [
       "<Figure size 432x288 with 1 Axes>"
      ]
     },
     "metadata": {
      "needs_background": "light",
      "tags": []
     },
     "output_type": "display_data"
    },
    {
     "data": {
      "image/png": "[encoded data removed]",
      "text/plain": [
       "<Figure size 432x288 with 1 Axes>"
      ]
     },
     "metadata": {
      "needs_background": "light",
      "tags": []
     },
     "output_type": "display_data"
    },
    {
     "data": {
      "image/png": "[encoded data removed]",
      "text/plain": [
       "<Figure size 432x288 with 1 Axes>"
      ]
     },
     "metadata": {
      "needs_background": "light",
      "tags": []
     },
     "output_type": "display_data"
    },
    {
     "data": {
      "image/png": "[encoded data removed]",
      "text/plain": [
       "<Figure size 432x288 with 1 Axes>"
      ]
     },
     "metadata": {
      "needs_background": "light",
      "tags": []
     },
     "output_type": "display_data"
    },
    {
     "data": {
      "image/png": "[encoded data removed]",
      "text/plain": [
       "<Figure size 432x288 with 1 Axes>"
      ]
     },
     "metadata": {
      "needs_background": "light",
      "tags": []
     },
     "output_type": "display_data"
    },
    {
     "data": {
      "image/png": "[encoded data removed]",
      "text/plain": [
       "<Figure size 432x288 with 1 Axes>"
      ]
     },
     "metadata": {
      "needs_background": "light",
      "tags": []
     },
     "output_type": "display_data"
    },
    {
     "data": {
      "image/png": "[encoded data removed]",
      "text/plain": [
       "<Figure size 432x288 with 1 Axes>"
      ]
     },
     "metadata": {
      "needs_background": "light",
      "tags": []
     },
     "output_type": "display_data"
    },
    {
     "data": {
      "image/png": "[encoded data removed]",
      "text/plain": [
       "<Figure size 432x288 with 1 Axes>"
      ]
     },
     "metadata": {
      "needs_background": "light",
      "tags": []
     },
     "output_type": "display_data"
    },
    {
     "data": {
      "image/png": "[encoded data removed]",
      "text/plain": [
       "<Figure size 432x288 with 1 Axes>"
      ]
     },
     "metadata": {
      "needs_background": "light",
      "tags": []
     },
     "output_type": "display_data"
    },
    {
     "data": {
      "image/png": "[encoded data removed]",
      "text/plain": [
       "<Figure size 432x288 with 1 Axes>"
      ]
     },
     "metadata": {
      "needs_background": "light",
      "tags": []
     },
     "output_type": "display_data"
    },
    {
     "data": {
      "image/png": "[encoded data removed]",
      "text/plain": [
       "<Figure size 432x288 with 1 Axes>"
      ]
     },
     "metadata": {
      "needs_background": "light",
      "tags": []
     },
     "output_type": "display_data"
    },
    {
     "data": {
      "image/png": "[encoded data removed]",
      "text/plain": [
       "<Figure size 432x288 with 1 Axes>"
      ]
     },
     "metadata": {
      "needs_background": "light",
      "tags": []
     },
     "output_type": "display_data"
    }
   ],
   "source": [
    "for i in df.columns:\n",
    "    sns.lineplot(x='quality',y=i,data=df)\n",
    "    plt.show()"
   ]
  },
  {
   "cell_type": "markdown",
   "metadata": {
    "id": "EgqMflnScmro"
   },
   "source": [
    "Findings:\n",
    "\n",
    "Increase in 'citric acid', 'sulphates' and 'alcohol' increases the quality of wine.\n",
    "\n",
    "High range of 'volatile acidity' and 'chlorides' impact the quality of wine.\n",
    "\n",
    "'fixed acidity', 'chlorides' and 'free sulfur dioxide' does not create much impact on the quality of wine\n",
    "\n",
    "'residual sugar' and 'ph' has no impact on the overall quality of the wine. We can drop this column for model building."
   ]
  },
  {
   "cell_type": "code",
   "execution_count": 13,
   "metadata": {
    "colab": {
     "base_uri": "https://localhost:8080/",
     "height": 1000
    },
    "executionInfo": {
     "elapsed": 3963,
     "status": "ok",
     "timestamp": 1621641397222,
     "user": {
      "displayName": "Yunus Surty",
      "photoUrl": "",
      "userId": "12841903714310226526"
     },
     "user_tz": -330
    },
    "id": "J2oFeqAPcmro",
    "outputId": "4437766f-47c8-4be9-d556-9bd47e16b8fb",
    "scrolled": false
   },
   "outputs": [
    {
     "data": {
      "image/png": "[encoded data removed]",
      "text/plain": [
       "<Figure size 432x288 with 1 Axes>"
      ]
     },
     "metadata": {
      "needs_background": "light",
      "tags": []
     },
     "output_type": "display_data"
    },
    {
     "data": {
      "image/png": "[encoded data removed]",
      "text/plain": [
       "<Figure size 432x288 with 1 Axes>"
      ]
     },
     "metadata": {
      "needs_background": "light",
      "tags": []
     },
     "output_type": "display_data"
    },
    {
     "data": {
      "image/png": "[encoded data removed]",
      "text/plain": [
       "<Figure size 432x288 with 1 Axes>"
      ]
     },
     "metadata": {
      "needs_background": "light",
      "tags": []
     },
     "output_type": "display_data"
    },
    {
     "data": {
      "image/png": "[encoded data removed]",
      "text/plain": [
       "<Figure size 432x288 with 1 Axes>"
      ]
     },
     "metadata": {
      "needs_background": "light",
      "tags": []
     },
     "output_type": "display_data"
    },
    {
     "data": {
      "image/png": "[encoded data removed]",
      "text/plain": [
       "<Figure size 432x288 with 1 Axes>"
      ]
     },
     "metadata": {
      "needs_background": "light",
      "tags": []
     },
     "output_type": "display_data"
    },
    {
     "data": {
      "image/png": "[encoded data removed]",
      "text/plain": [
       "<Figure size 432x288 with 1 Axes>"
      ]
     },
     "metadata": {
      "needs_background": "light",
      "tags": []
     },
     "output_type": "display_data"
    },
    {
     "data": {
      "image/png": "[encoded data removed]",
      "text/plain": [
       "<Figure size 432x288 with 1 Axes>"
      ]
     },
     "metadata": {
      "needs_background": "light",
      "tags": []
     },
     "output_type": "display_data"
    },
    {
     "data": {
      "image/png": "[encoded data removed]",
      "text/plain": [
       "<Figure size 432x288 with 1 Axes>"
      ]
     },
     "metadata": {
      "needs_background": "light",
      "tags": []
     },
     "output_type": "display_data"
    },
    {
     "data": {
      "image/png": "[encoded data removed]",
      "text/plain": [
       "<Figure size 432x288 with 1 Axes>"
      ]
     },
     "metadata": {
      "needs_background": "light",
      "tags": []
     },
     "output_type": "display_data"
    },
    {
     "data": {
      "image/png": "[encoded data removed]",
      "text/plain": [
       "<Figure size 432x288 with 1 Axes>"
      ]
     },
     "metadata": {
      "needs_background": "light",
      "tags": []
     },
     "output_type": "display_data"
    },
    {
     "data": {
      "image/png": "[encoded data removed]",
      "text/plain": [
       "<Figure size 432x288 with 1 Axes>"
      ]
     },
     "metadata": {
      "needs_background": "light",
      "tags": []
     },
     "output_type": "display_data"
    },
    {
     "data": {
      "image/png": "[encoded data removed]",
      "text/plain": [
       "<Figure size 432x288 with 1 Axes>"
      ]
     },
     "metadata": {
      "needs_background": "light",
      "tags": []
     },
     "output_type": "display_data"
    }
   ],
   "source": [
    "for i in df.columns:\n",
    "    sns.distplot(df[i])\n",
    "    plt.show()"
   ]
  },
  {
   "cell_type": "markdown",
   "metadata": {
    "id": "z-7ausiscmro"
   },
   "source": [
    "Most of the data is normally distributed.\n",
    "\n",
    "'residual sugar' and 'chlorides' is right skewed."
   ]
  },
  {
   "cell_type": "code",
   "execution_count": 14,
   "metadata": {
    "colab": {
     "base_uri": "https://localhost:8080/",
     "height": 315
    },
    "executionInfo": {
     "elapsed": 2288,
     "status": "ok",
     "timestamp": 1621641402197,
     "user": {
      "displayName": "Yunus Surty",
      "photoUrl": "",
      "userId": "12841903714310226526"
     },
     "user_tz": -330
    },
    "id": "NJ8A8NEVcmro",
    "outputId": "5f8395c5-5cd2-44fb-f495-1d784973201a"
   },
   "outputs": [
    {
     "data": {
      "text/plain": [
       "<matplotlib.axes._subplots.AxesSubplot at 0x7f6b2d2f2110>"
      ]
     },
     "execution_count": 14,
     "metadata": {
      "tags": []
     },
     "output_type": "execute_result"
    },
    {
     "data": {
      "image/png": "[encoded data removed]",
      "text/plain": [
       "<Figure size 1800x1440 with 2 Axes>"
      ]
     },
     "metadata": {
      "needs_background": "light",
      "tags": []
     },
     "output_type": "display_data"
    }
   ],
   "source": [
    "plt.figure(figsize=(25,20))\n",
    "sns.heatmap(df.corr(), cmap='Blues',annot=True)"
   ]
  },
  {
   "cell_type": "markdown",
   "metadata": {
    "id": "j4Xh2glvcmrp"
   },
   "source": [
    "There is not much of a corelaion between any features.\n",
    "\n",
    "Infact none of the feature has corerlation above 0.70 with each other."
   ]
  },
  {
   "cell_type": "code",
   "execution_count": 15,
   "metadata": {
    "colab": {
     "base_uri": "https://localhost:8080/",
     "height": 1000
    },
    "executionInfo": {
     "elapsed": 2816,
     "status": "ok",
     "timestamp": 1621641408110,
     "user": {
      "displayName": "Yunus Surty",
      "photoUrl": "",
      "userId": "12841903714310226526"
     },
     "user_tz": -330
    },
    "id": "ycK_wc1Mcmrp",
    "outputId": "61e56650-388a-4d18-ad20-6473fd09330c",
    "scrolled": false
   },
   "outputs": [
    {
     "data": {
      "image/png": "[encoded data removed]",
      "text/plain": [
       "<Figure size 432x288 with 1 Axes>"
      ]
     },
     "metadata": {
      "needs_background": "light",
      "tags": []
     },
     "output_type": "display_data"
    },
    {
     "data": {
      "image/png": "[encoded data removed]",
      "text/plain": [
       "<Figure size 432x288 with 1 Axes>"
      ]
     },
     "metadata": {
      "needs_background": "light",
      "tags": []
     },
     "output_type": "display_data"
    },
    {
     "data": {
      "image/png": "[encoded data removed]",
      "text/plain": [
       "<Figure size 432x288 with 1 Axes>"
      ]
     },
     "metadata": {
      "needs_background": "light",
      "tags": []
     },
     "output_type": "display_data"
    },
    {
     "data": {
      "image/png": "[encoded data removed]",
      "text/plain": [
       "<Figure size 432x288 with 1 Axes>"
      ]
     },
     "metadata": {
      "needs_background": "light",
      "tags": []
     },
     "output_type": "display_data"
    },
    {
     "data": {
      "image/png": "[encoded data removed]",
      "text/plain": [
       "<Figure size 432x288 with 1 Axes>"
      ]
     },
     "metadata": {
      "needs_background": "light",
      "tags": []
     },
     "output_type": "display_data"
    },
    {
     "data": {
      "image/png": "[encoded data removed]",
      "text/plain": [
       "<Figure size 432x288 with 1 Axes>"
      ]
     },
     "metadata": {
      "needs_background": "light",
      "tags": []
     },
     "output_type": "display_data"
    },
    {
     "data": {
      "image/png": "[encoded data removed]",
      "text/plain": [
       "<Figure size 432x288 with 1 Axes>"
      ]
     },
     "metadata": {
      "needs_background": "light",
      "tags": []
     },
     "output_type": "display_data"
    },
    {
     "data": {
      "image/png": "[encoded data removed]",
      "text/plain": [
       "<Figure size 432x288 with 1 Axes>"
      ]
     },
     "metadata": {
      "needs_background": "light",
      "tags": []
     },
     "output_type": "display_data"
    },
    {
     "data": {
      "image/png": "[encoded data removed]",
      "text/plain": [
       "<Figure size 432x288 with 1 Axes>"
      ]
     },
     "metadata": {
      "needs_background": "light",
      "tags": []
     },
     "output_type": "display_data"
    },
    {
     "data": {
      "image/png": "[encoded data removed]",
      "text/plain": [
       "<Figure size 432x288 with 1 Axes>"
      ]
     },
     "metadata": {
      "needs_background": "light",
      "tags": []
     },
     "output_type": "display_data"
    },
    {
     "data": {
      "image/png": "[encoded data removed]",
      "text/plain": [
       "<Figure size 432x288 with 1 Axes>"
      ]
     },
     "metadata": {
      "needs_background": "light",
      "tags": []
     },
     "output_type": "display_data"
    },
    {
     "data": {
      "image/png": "[encoded data removed]",
      "text/plain": [
       "<Figure size 432x288 with 1 Axes>"
      ]
     },
     "metadata": {
      "needs_background": "light",
      "tags": []
     },
     "output_type": "display_data"
    }
   ],
   "source": [
    "for i in df.columns:\n",
    "    plt.subplots()\n",
    "    sns.boxplot(df[i])"
   ]
  },
  {
   "cell_type": "markdown",
   "metadata": {
    "id": "mJ79gEQUcmrp"
   },
   "source": [
    "There are many outliers present in the data. Our dataset is not huge and consist of only 1599 rows hence we have to check how much data we will lose if we remove the ouliers"
   ]
  },
  {
   "cell_type": "code",
   "execution_count": 16,
   "metadata": {
    "colab": {
     "base_uri": "https://localhost:8080/"
    },
    "executionInfo": {
     "elapsed": 463,
     "status": "ok",
     "timestamp": 1621641411279,
     "user": {
      "displayName": "Yunus Surty",
      "photoUrl": "",
      "userId": "12841903714310226526"
     },
     "user_tz": -330
    },
    "id": "MNWoKv2qcmrq",
    "outputId": "19db5619-6e65-4e0c-b2ee-59e7d6efb503"
   },
   "outputs": [
    {
     "data": {
      "text/plain": [
       "fixed acidity           0.982751\n",
       "volatile acidity        0.671593\n",
       "citric acid             0.318337\n",
       "residual sugar          4.540655\n",
       "chlorides               5.680347\n",
       "free sulfur dioxide     1.250567\n",
       "total sulfur dioxide    1.515531\n",
       "density                 0.071288\n",
       "pH                      0.193683\n",
       "sulphates               2.428672\n",
       "alcohol                 0.860829\n",
       "quality                 0.217802\n",
       "dtype: float64"
      ]
     },
     "execution_count": 16,
     "metadata": {
      "tags": []
     },
     "output_type": "execute_result"
    }
   ],
   "source": [
    "df.skew()"
   ]
  },
  {
   "cell_type": "markdown",
   "metadata": {
    "id": "yyJPwNKncmrq"
   },
   "source": [
    "Our data is highly skewed. We will have to remove the skewness for our model to perform well"
   ]
  },
  {
   "cell_type": "markdown",
   "metadata": {
    "id": "-69d8WFicmrq"
   },
   "source": [
    "### Steps to take forward from EDA\n",
    "\n",
    "1. Drop less correlated columns 'residual sugar' and 'ph'\n",
    "2. Distribute 'quality' columns as good/1 and notgood/0\n",
    "3. Remove outliers without losing much data\n",
    "4. Check for skewness and reduce it"
   ]
  },
  {
   "cell_type": "markdown",
   "metadata": {},
   "source": [
    "### Data Pre-processing"
   ]
  },
  {
   "cell_type": "code",
   "execution_count": 17,
   "metadata": {
    "executionInfo": {
     "elapsed": 432,
     "status": "ok",
     "timestamp": 1621641415786,
     "user": {
      "displayName": "Yunus Surty",
      "photoUrl": "",
      "userId": "12841903714310226526"
     },
     "user_tz": -330
    },
    "id": "b6q6NFOEcmrq"
   },
   "outputs": [],
   "source": [
    "df.drop(['residual sugar','pH'],axis=1,inplace=True)"
   ]
  },
  {
   "cell_type": "markdown",
   "metadata": {
    "id": "-XtOGSKBcmrr"
   },
   "source": [
    "Dropping the feature with less impact on quality of wine"
   ]
  },
  {
   "cell_type": "code",
   "execution_count": 18,
   "metadata": {
    "colab": {
     "base_uri": "https://localhost:8080/",
     "height": 471
    },
    "executionInfo": {
     "elapsed": 401,
     "status": "ok",
     "timestamp": 1621641419938,
     "user": {
      "displayName": "Yunus Surty",
      "photoUrl": "",
      "userId": "12841903714310226526"
     },
     "user_tz": -330
    },
    "id": "qPBB82pTcmrr",
    "outputId": "65cb6e31-b986-4a28-9579-deda56a55b22"
   },
   "outputs": [
    {
     "data": {
      "text/html": [
       "<div>\n",
       "<style scoped>\n",
       "    .dataframe tbody tr th:only-of-type {\n",
       "        vertical-align: middle;\n",
       "    }\n",
       "\n",
       "    .dataframe tbody tr th {\n",
       "        vertical-align: top;\n",
       "    }\n",
       "\n",
       "    .dataframe thead th {\n",
       "        text-align: right;\n",
       "    }\n",
       "</style>\n",
       "<table border=\"1\" class=\"dataframe\">\n",
       "  <thead>\n",
       "    <tr style=\"text-align: right;\">\n",
       "      <th></th>\n",
       "      <th>fixed acidity</th>\n",
       "      <th>volatile acidity</th>\n",
       "      <th>citric acid</th>\n",
       "      <th>chlorides</th>\n",
       "      <th>free sulfur dioxide</th>\n",
       "      <th>total sulfur dioxide</th>\n",
       "      <th>density</th>\n",
       "      <th>sulphates</th>\n",
       "      <th>alcohol</th>\n",
       "      <th>quality</th>\n",
       "    </tr>\n",
       "  </thead>\n",
       "  <tbody>\n",
       "    <tr>\n",
       "      <th>0</th>\n",
       "      <td>7.4</td>\n",
       "      <td>0.700</td>\n",
       "      <td>0.00</td>\n",
       "      <td>0.076</td>\n",
       "      <td>11.0</td>\n",
       "      <td>34.0</td>\n",
       "      <td>0.99780</td>\n",
       "      <td>0.56</td>\n",
       "      <td>9.4</td>\n",
       "      <td>5</td>\n",
       "    </tr>\n",
       "    <tr>\n",
       "      <th>1</th>\n",
       "      <td>7.8</td>\n",
       "      <td>0.880</td>\n",
       "      <td>0.00</td>\n",
       "      <td>0.098</td>\n",
       "      <td>25.0</td>\n",
       "      <td>67.0</td>\n",
       "      <td>0.99680</td>\n",
       "      <td>0.68</td>\n",
       "      <td>9.8</td>\n",
       "      <td>5</td>\n",
       "    </tr>\n",
       "    <tr>\n",
       "      <th>2</th>\n",
       "      <td>7.8</td>\n",
       "      <td>0.760</td>\n",
       "      <td>0.04</td>\n",
       "      <td>0.092</td>\n",
       "      <td>15.0</td>\n",
       "      <td>54.0</td>\n",
       "      <td>0.99700</td>\n",
       "      <td>0.65</td>\n",
       "      <td>9.8</td>\n",
       "      <td>5</td>\n",
       "    </tr>\n",
       "    <tr>\n",
       "      <th>3</th>\n",
       "      <td>11.2</td>\n",
       "      <td>0.280</td>\n",
       "      <td>0.56</td>\n",
       "      <td>0.075</td>\n",
       "      <td>17.0</td>\n",
       "      <td>60.0</td>\n",
       "      <td>0.99800</td>\n",
       "      <td>0.58</td>\n",
       "      <td>9.8</td>\n",
       "      <td>6</td>\n",
       "    </tr>\n",
       "    <tr>\n",
       "      <th>4</th>\n",
       "      <td>7.4</td>\n",
       "      <td>0.700</td>\n",
       "      <td>0.00</td>\n",
       "      <td>0.076</td>\n",
       "      <td>11.0</td>\n",
       "      <td>34.0</td>\n",
       "      <td>0.99780</td>\n",
       "      <td>0.56</td>\n",
       "      <td>9.4</td>\n",
       "      <td>5</td>\n",
       "    </tr>\n",
       "    <tr>\n",
       "      <th>...</th>\n",
       "      <td>...</td>\n",
       "      <td>...</td>\n",
       "      <td>...</td>\n",
       "      <td>...</td>\n",
       "      <td>...</td>\n",
       "      <td>...</td>\n",
       "      <td>...</td>\n",
       "      <td>...</td>\n",
       "      <td>...</td>\n",
       "      <td>...</td>\n",
       "    </tr>\n",
       "    <tr>\n",
       "      <th>1594</th>\n",
       "      <td>6.2</td>\n",
       "      <td>0.600</td>\n",
       "      <td>0.08</td>\n",
       "      <td>0.090</td>\n",
       "      <td>32.0</td>\n",
       "      <td>44.0</td>\n",
       "      <td>0.99490</td>\n",
       "      <td>0.58</td>\n",
       "      <td>10.5</td>\n",
       "      <td>5</td>\n",
       "    </tr>\n",
       "    <tr>\n",
       "      <th>1595</th>\n",
       "      <td>5.9</td>\n",
       "      <td>0.550</td>\n",
       "      <td>0.10</td>\n",
       "      <td>0.062</td>\n",
       "      <td>39.0</td>\n",
       "      <td>51.0</td>\n",
       "      <td>0.99512</td>\n",
       "      <td>0.76</td>\n",
       "      <td>11.2</td>\n",
       "      <td>6</td>\n",
       "    </tr>\n",
       "    <tr>\n",
       "      <th>1596</th>\n",
       "      <td>6.3</td>\n",
       "      <td>0.510</td>\n",
       "      <td>0.13</td>\n",
       "      <td>0.076</td>\n",
       "      <td>29.0</td>\n",
       "      <td>40.0</td>\n",
       "      <td>0.99574</td>\n",
       "      <td>0.75</td>\n",
       "      <td>11.0</td>\n",
       "      <td>6</td>\n",
       "    </tr>\n",
       "    <tr>\n",
       "      <th>1597</th>\n",
       "      <td>5.9</td>\n",
       "      <td>0.645</td>\n",
       "      <td>0.12</td>\n",
       "      <td>0.075</td>\n",
       "      <td>32.0</td>\n",
       "      <td>44.0</td>\n",
       "      <td>0.99547</td>\n",
       "      <td>0.71</td>\n",
       "      <td>10.2</td>\n",
       "      <td>5</td>\n",
       "    </tr>\n",
       "    <tr>\n",
       "      <th>1598</th>\n",
       "      <td>6.0</td>\n",
       "      <td>0.310</td>\n",
       "      <td>0.47</td>\n",
       "      <td>0.067</td>\n",
       "      <td>18.0</td>\n",
       "      <td>42.0</td>\n",
       "      <td>0.99549</td>\n",
       "      <td>0.66</td>\n",
       "      <td>11.0</td>\n",
       "      <td>6</td>\n",
       "    </tr>\n",
       "  </tbody>\n",
       "</table>\n",
       "<p>1599 rows × 10 columns</p>\n",
       "</div>"
      ],
      "text/plain": [
       "      fixed acidity  volatile acidity  citric acid  ...  sulphates  alcohol  quality\n",
       "0               7.4             0.700         0.00  ...       0.56      9.4        5\n",
       "1               7.8             0.880         0.00  ...       0.68      9.8        5\n",
       "2               7.8             0.760         0.04  ...       0.65      9.8        5\n",
       "3              11.2             0.280         0.56  ...       0.58      9.8        6\n",
       "4               7.4             0.700         0.00  ...       0.56      9.4        5\n",
       "...             ...               ...          ...  ...        ...      ...      ...\n",
       "1594            6.2             0.600         0.08  ...       0.58     10.5        5\n",
       "1595            5.9             0.550         0.10  ...       0.76     11.2        6\n",
       "1596            6.3             0.510         0.13  ...       0.75     11.0        6\n",
       "1597            5.9             0.645         0.12  ...       0.71     10.2        5\n",
       "1598            6.0             0.310         0.47  ...       0.66     11.0        6\n",
       "\n",
       "[1599 rows x 10 columns]"
      ]
     },
     "execution_count": 18,
     "metadata": {
      "tags": []
     },
     "output_type": "execute_result"
    }
   ],
   "source": [
    "df"
   ]
  },
  {
   "cell_type": "markdown",
   "metadata": {
    "id": "R_imO7ypcmrr"
   },
   "source": [
    "Columns has been reduced from 12 to 10"
   ]
  },
  {
   "cell_type": "code",
   "execution_count": 19,
   "metadata": {
    "executionInfo": {
     "elapsed": 684,
     "status": "ok",
     "timestamp": 1621641426756,
     "user": {
      "displayName": "Yunus Surty",
      "photoUrl": "",
      "userId": "12841903714310226526"
     },
     "user_tz": -330
    },
    "id": "2eOHeY5ucmrr"
   },
   "outputs": [],
   "source": [
    "df['quality'] = np.where((df.quality >= 7), 1, 0)"
   ]
  },
  {
   "cell_type": "markdown",
   "metadata": {
    "id": "GZyUTwRQcmrs"
   },
   "source": [
    "Changing the quality feature to 0 and 1, quality rating equal to or above 7 has been assigned as 1(good), anthing below 7 will be conisder as 0(notgood)"
   ]
  },
  {
   "cell_type": "code",
   "execution_count": 20,
   "metadata": {
    "colab": {
     "base_uri": "https://localhost:8080/",
     "height": 268
    },
    "executionInfo": {
     "elapsed": 375,
     "status": "ok",
     "timestamp": 1621641431614,
     "user": {
      "displayName": "Yunus Surty",
      "photoUrl": "",
      "userId": "12841903714310226526"
     },
     "user_tz": -330
    },
    "id": "xJnpxvMDcmrs",
    "outputId": "a48c118b-8a3d-4b9f-9544-f640f68568f3"
   },
   "outputs": [
    {
     "data": {
      "text/plain": [
       "<matplotlib.axes._subplots.AxesSubplot at 0x7f6b2f7b4150>"
      ]
     },
     "execution_count": 20,
     "metadata": {
      "tags": []
     },
     "output_type": "execute_result"
    },
    {
     "data": {
      "image/png": "[encoded data removed]",
      "text/plain": [
       "<Figure size 432x288 with 1 Axes>"
      ]
     },
     "metadata": {
      "needs_background": "light",
      "tags": []
     },
     "output_type": "display_data"
    }
   ],
   "source": [
    "sns.countplot(x='quality',data=df)"
   ]
  },
  {
   "cell_type": "markdown",
   "metadata": {
    "id": "a91Zm7OCcmrs"
   },
   "source": [
    "The data is imbalance. we have to treat the imbalance data for the model fitting\n",
    "\n",
    "We will review the same after working on the outliers and skew"
   ]
  },
  {
   "cell_type": "code",
   "execution_count": 21,
   "metadata": {
    "executionInfo": {
     "elapsed": 635,
     "status": "ok",
     "timestamp": 1621641436063,
     "user": {
      "displayName": "Yunus Surty",
      "photoUrl": "",
      "userId": "12841903714310226526"
     },
     "user_tz": -330
    },
    "id": "X82YgPPXcmrs"
   },
   "outputs": [],
   "source": [
    "from scipy.stats import zscore"
   ]
  },
  {
   "cell_type": "code",
   "execution_count": 22,
   "metadata": {
    "colab": {
     "base_uri": "https://localhost:8080/"
    },
    "executionInfo": {
     "elapsed": 9,
     "status": "ok",
     "timestamp": 1621641437764,
     "user": {
      "displayName": "Yunus Surty",
      "photoUrl": "",
      "userId": "12841903714310226526"
     },
     "user_tz": -330
    },
    "id": "hfO7L9ezcmrt",
    "outputId": "1c80ea3b-e25b-4fc0-d5fa-30d9b08645ef"
   },
   "outputs": [
    {
     "data": {
      "text/plain": [
       "array([[0.52835961, 0.96187667, 1.39147228, ..., 0.55827446, 0.57920652,\n",
       "        0.96024611],\n",
       "       [0.29854743, 1.96744245, 1.39147228, ..., 0.02826077, 0.1289504 ,\n",
       "        0.58477711],\n",
       "       [0.29854743, 1.29706527, 1.18607043, ..., 0.13426351, 0.04808883,\n",
       "        0.58477711],\n",
       "       ...,\n",
       "       [1.1603431 , 0.09955388, 0.72391627, ..., 0.53355375, 0.54204194,\n",
       "        0.54162988],\n",
       "       [1.39015528, 0.65462046, 0.77526673, ..., 0.67665745, 0.30598963,\n",
       "        0.20930812],\n",
       "       [1.33270223, 1.21684919, 1.02199944, ..., 0.66605717, 0.01092425,\n",
       "        0.54162988]])"
      ]
     },
     "execution_count": 22,
     "metadata": {
      "tags": []
     },
     "output_type": "execute_result"
    }
   ],
   "source": [
    "z=np.abs(zscore(df.drop(columns=['quality'])))\n",
    "z"
   ]
  },
  {
   "cell_type": "markdown",
   "metadata": {
    "id": "H6XREwR6cmrt"
   },
   "source": [
    "We are not removing outliers from the Quality as that is the categorical data we have converted into"
   ]
  },
  {
   "cell_type": "code",
   "execution_count": 23,
   "metadata": {
    "colab": {
     "base_uri": "https://localhost:8080/"
    },
    "executionInfo": {
     "elapsed": 364,
     "status": "ok",
     "timestamp": 1621641440866,
     "user": {
      "displayName": "Yunus Surty",
      "photoUrl": "",
      "userId": "12841903714310226526"
     },
     "user_tz": -330
    },
    "id": "Jv-UOOBtcmrt",
    "outputId": "ca42ed31-1c0e-4148-d67d-a3432b5fd7a7"
   },
   "outputs": [
    {
     "name": "stdout",
     "output_type": "stream",
     "text": [
      "shape before removing the outliers: (1599, 10)\n",
      "shape after removing the outliers: (1483, 10)\n"
     ]
    }
   ],
   "source": [
    "print('shape before removing the outliers:', df.shape)\n",
    " \n",
    "dfnew=df[(z<3).all(axis=1)]\n",
    " \n",
    "print('shape after removing the outliers:', dfnew.shape)"
   ]
  },
  {
   "cell_type": "markdown",
   "metadata": {
    "id": "9o5bV-g-cmrt"
   },
   "source": [
    "Data after removing the outliers"
   ]
  },
  {
   "cell_type": "code",
   "execution_count": null,
   "metadata": {
    "colab": {
     "base_uri": "https://localhost:8080/"
    },
    "executionInfo": {
     "elapsed": 320,
     "status": "ok",
     "timestamp": 1621539892791,
     "user": {
      "displayName": "Yunus Surty",
      "photoUrl": "",
      "userId": "12841903714310226526"
     },
     "user_tz": -330
    },
    "id": "z64AEekjcmru",
    "outputId": "430a0b23-ace3-417a-a3f4-4dacb714a4a3"
   },
   "outputs": [
    {
     "data": {
      "text/plain": [
       "7.254534083802383"
      ]
     },
     "execution_count": 23,
     "metadata": {
      "tags": []
     },
     "output_type": "execute_result"
    }
   ],
   "source": [
    "100-((1483/1599)*100)"
   ]
  },
  {
   "cell_type": "markdown",
   "metadata": {
    "id": "ir1G4Efncmru"
   },
   "source": [
    "We have lost 7.25% of the data after removing the outliers, which is relatively ok."
   ]
  },
  {
   "cell_type": "markdown",
   "metadata": {
    "id": "0-ubHARNcmru"
   },
   "source": [
    "Now let's check for skewness"
   ]
  },
  {
   "cell_type": "code",
   "execution_count": 24,
   "metadata": {
    "colab": {
     "base_uri": "https://localhost:8080/"
    },
    "executionInfo": {
     "elapsed": 437,
     "status": "ok",
     "timestamp": 1621641447693,
     "user": {
      "displayName": "Yunus Surty",
      "photoUrl": "",
      "userId": "12841903714310226526"
     },
     "user_tz": -330
    },
    "id": "ID-pI6W-cmru",
    "outputId": "85be956d-e46a-4c0e-bb5b-8e3dcc829c54"
   },
   "outputs": [
    {
     "data": {
      "text/plain": [
       "fixed acidity           0.793077\n",
       "volatile acidity        0.385444\n",
       "citric acid             0.304663\n",
       "chlorides               2.270552\n",
       "free sulfur dioxide     0.850137\n",
       "total sulfur dioxide    1.156051\n",
       "density                 0.043847\n",
       "sulphates               0.903161\n",
       "alcohol                 0.753694\n",
       "quality                 2.114961\n",
       "dtype: float64"
      ]
     },
     "execution_count": 24,
     "metadata": {
      "tags": []
     },
     "output_type": "execute_result"
    }
   ],
   "source": [
    "dfnew.skew()"
   ]
  },
  {
   "cell_type": "code",
   "execution_count": 25,
   "metadata": {
    "executionInfo": {
     "elapsed": 600,
     "status": "ok",
     "timestamp": 1621641450549,
     "user": {
      "displayName": "Yunus Surty",
      "photoUrl": "",
      "userId": "12841903714310226526"
     },
     "user_tz": -330
    },
    "id": "IzO-ZI8Hcmru"
   },
   "outputs": [],
   "source": [
    "from scipy.stats import boxcox"
   ]
  },
  {
   "cell_type": "markdown",
   "metadata": {
    "id": "dSSMikZGeA9P"
   },
   "source": [
    "We will be removing skew using boxcox and cuberoot method"
   ]
  },
  {
   "cell_type": "code",
   "execution_count": 26,
   "metadata": {
    "executionInfo": {
     "elapsed": 3,
     "status": "ok",
     "timestamp": 1621641450975,
     "user": {
      "displayName": "Yunus Surty",
      "photoUrl": "",
      "userId": "12841903714310226526"
     },
     "user_tz": -330
    },
    "id": "tSm2kS4Ocmrv"
   },
   "outputs": [],
   "source": [
    "ds=dfnew"
   ]
  },
  {
   "cell_type": "code",
   "execution_count": 27,
   "metadata": {
    "executionInfo": {
     "elapsed": 5,
     "status": "ok",
     "timestamp": 1621641451479,
     "user": {
      "displayName": "Yunus Surty",
      "photoUrl": "",
      "userId": "12841903714310226526"
     },
     "user_tz": -330
    },
    "id": "sJx26wJccmrv"
   },
   "outputs": [],
   "source": [
    "bc, var=boxcox(ds['chlorides'])"
   ]
  },
  {
   "cell_type": "markdown",
   "metadata": {
    "id": "iiDEpoKkeIlD"
   },
   "source": [
    "Applying boxcox on chlorides"
   ]
  },
  {
   "cell_type": "code",
   "execution_count": 28,
   "metadata": {
    "executionInfo": {
     "elapsed": 6,
     "status": "ok",
     "timestamp": 1621641452901,
     "user": {
      "displayName": "Yunus Surty",
      "photoUrl": "",
      "userId": "12841903714310226526"
     },
     "user_tz": -330
    },
    "id": "rmvu-XMrcmrv"
   },
   "outputs": [],
   "source": [
    "dfnew['chlorides'],var=boxcox(ds['chlorides'])"
   ]
  },
  {
   "cell_type": "code",
   "execution_count": 29,
   "metadata": {
    "colab": {
     "base_uri": "https://localhost:8080/"
    },
    "executionInfo": {
     "elapsed": 7,
     "status": "ok",
     "timestamp": 1621641453321,
     "user": {
      "displayName": "Yunus Surty",
      "photoUrl": "",
      "userId": "12841903714310226526"
     },
     "user_tz": -330
    },
    "id": "XXTDt6ascmrv",
    "outputId": "cd304ade-6fab-4929-e939-371eac12158c"
   },
   "outputs": [
    {
     "data": {
      "text/plain": [
       "-0.056486101824036086"
      ]
     },
     "execution_count": 29,
     "metadata": {
      "tags": []
     },
     "output_type": "execute_result"
    }
   ],
   "source": [
    "dfnew['chlorides'].skew()"
   ]
  },
  {
   "cell_type": "code",
   "execution_count": 30,
   "metadata": {
    "colab": {
     "base_uri": "https://localhost:8080/"
    },
    "executionInfo": {
     "elapsed": 6,
     "status": "ok",
     "timestamp": 1621641456330,
     "user": {
      "displayName": "Yunus Surty",
      "photoUrl": "",
      "userId": "12841903714310226526"
     },
     "user_tz": -330
    },
    "id": "YFYWIyBNcmrw",
    "outputId": "54aeb9be-c738-40f6-822a-05489bf90f1a"
   },
   "outputs": [
    {
     "data": {
      "text/plain": [
       "fixed acidity           0.793077\n",
       "volatile acidity        0.385444\n",
       "citric acid             0.304663\n",
       "chlorides              -0.056486\n",
       "free sulfur dioxide     0.850137\n",
       "total sulfur dioxide    1.156051\n",
       "density                 0.043847\n",
       "sulphates               0.903161\n",
       "alcohol                 0.753694\n",
       "quality                 2.114961\n",
       "dtype: float64"
      ]
     },
     "execution_count": 30,
     "metadata": {
      "tags": []
     },
     "output_type": "execute_result"
    }
   ],
   "source": [
    "dfnew.skew()"
   ]
  },
  {
   "cell_type": "code",
   "execution_count": 31,
   "metadata": {
    "executionInfo": {
     "elapsed": 569,
     "status": "ok",
     "timestamp": 1621641459237,
     "user": {
      "displayName": "Yunus Surty",
      "photoUrl": "",
      "userId": "12841903714310226526"
     },
     "user_tz": -330
    },
    "id": "f3p6JjY1cmrw"
   },
   "outputs": [],
   "source": [
    "bc, var=boxcox(ds['total sulfur dioxide'])"
   ]
  },
  {
   "cell_type": "markdown",
   "metadata": {
    "id": "SE2z_jymeP9k"
   },
   "source": [
    "Applying boxcox on total sulfur dioxide"
   ]
  },
  {
   "cell_type": "code",
   "execution_count": 32,
   "metadata": {
    "colab": {
     "base_uri": "https://localhost:8080/",
     "height": 261
    },
    "executionInfo": {
     "elapsed": 15,
     "status": "ok",
     "timestamp": 1621641459696,
     "user": {
      "displayName": "Yunus Surty",
      "photoUrl": "",
      "userId": "12841903714310226526"
     },
     "user_tz": -330
    },
    "id": "Yy30ofAocmrw",
    "outputId": "2b572448-b69f-4bc5-fc4c-69ae817cbd06"
   },
   "outputs": [
    {
     "data": {
      "text/plain": [
       "<matplotlib.axes._subplots.AxesSubplot at 0x7f6b2f811110>"
      ]
     },
     "execution_count": 32,
     "metadata": {
      "tags": []
     },
     "output_type": "execute_result"
    },
    {
     "data": {
      "image/png": "[encoded data removed]",
      "text/plain": [
       "<Figure size 432x288 with 1 Axes>"
      ]
     },
     "metadata": {
      "needs_background": "light",
      "tags": []
     },
     "output_type": "display_data"
    }
   ],
   "source": [
    "sns.distplot(bc)"
   ]
  },
  {
   "cell_type": "markdown",
   "metadata": {
    "id": "gIdKrcU2ecvn"
   },
   "source": [
    " We can see now that the data looks normally dustributed"
   ]
  },
  {
   "cell_type": "code",
   "execution_count": 33,
   "metadata": {
    "executionInfo": {
     "elapsed": 545,
     "status": "ok",
     "timestamp": 1621641461997,
     "user": {
      "displayName": "Yunus Surty",
      "photoUrl": "",
      "userId": "12841903714310226526"
     },
     "user_tz": -330
    },
    "id": "WMQjYcHXcmrw"
   },
   "outputs": [],
   "source": [
    "dfnew['total sulfur dioxide'],var=boxcox(ds['total sulfur dioxide'])"
   ]
  },
  {
   "cell_type": "code",
   "execution_count": 34,
   "metadata": {
    "colab": {
     "base_uri": "https://localhost:8080/"
    },
    "executionInfo": {
     "elapsed": 20,
     "status": "ok",
     "timestamp": 1621641462390,
     "user": {
      "displayName": "Yunus Surty",
      "photoUrl": "",
      "userId": "12841903714310226526"
     },
     "user_tz": -330
    },
    "id": "NElnTjnZcmrx",
    "outputId": "efbee8a6-28f1-4411-db23-19fe2edfbe6e"
   },
   "outputs": [
    {
     "data": {
      "text/plain": [
       "fixed acidity           0.793077\n",
       "volatile acidity        0.385444\n",
       "citric acid             0.304663\n",
       "chlorides              -0.056486\n",
       "free sulfur dioxide     0.850137\n",
       "total sulfur dioxide   -0.011942\n",
       "density                 0.043847\n",
       "sulphates               0.903161\n",
       "alcohol                 0.753694\n",
       "quality                 2.114961\n",
       "dtype: float64"
      ]
     },
     "execution_count": 34,
     "metadata": {
      "tags": []
     },
     "output_type": "execute_result"
    }
   ],
   "source": [
    "dfnew.skew()"
   ]
  },
  {
   "cell_type": "markdown",
   "metadata": {
    "id": "umWoIcZQcmrx"
   },
   "source": [
    "Will apply the cuberoot method to remove skewness from other features"
   ]
  },
  {
   "cell_type": "code",
   "execution_count": 35,
   "metadata": {
    "executionInfo": {
     "elapsed": 7,
     "status": "ok",
     "timestamp": 1621641464787,
     "user": {
      "displayName": "Yunus Surty",
      "photoUrl": "",
      "userId": "12841903714310226526"
     },
     "user_tz": -330
    },
    "id": "JB7ewOkdcmrx"
   },
   "outputs": [],
   "source": [
    "ds=dfnew"
   ]
  },
  {
   "cell_type": "code",
   "execution_count": 36,
   "metadata": {
    "colab": {
     "base_uri": "https://localhost:8080/"
    },
    "executionInfo": {
     "elapsed": 6,
     "status": "ok",
     "timestamp": 1621641464788,
     "user": {
      "displayName": "Yunus Surty",
      "photoUrl": "",
      "userId": "12841903714310226526"
     },
     "user_tz": -330
    },
    "id": "MI_l_onfcmrx",
    "outputId": "3a54ed42-4228-460d-9d98-e410993dba0b"
   },
   "outputs": [
    {
     "data": {
      "text/plain": [
       "fixed acidity           0.793077\n",
       "volatile acidity        0.385444\n",
       "citric acid             0.304663\n",
       "chlorides              -0.056486\n",
       "free sulfur dioxide     0.850137\n",
       "total sulfur dioxide   -0.011942\n",
       "density                 0.043847\n",
       "sulphates               0.903161\n",
       "alcohol                 0.753694\n",
       "quality                 2.114961\n",
       "dtype: float64"
      ]
     },
     "execution_count": 36,
     "metadata": {
      "tags": []
     },
     "output_type": "execute_result"
    }
   ],
   "source": [
    "ds.skew()"
   ]
  },
  {
   "cell_type": "code",
   "execution_count": 37,
   "metadata": {
    "executionInfo": {
     "elapsed": 672,
     "status": "ok",
     "timestamp": 1621641468885,
     "user": {
      "displayName": "Yunus Surty",
      "photoUrl": "",
      "userId": "12841903714310226526"
     },
     "user_tz": -330
    },
    "id": "fKzVhTcPcmrx"
   },
   "outputs": [],
   "source": [
    "columns=['fixed acidity','free sulfur dioxide','sulphates','alcohol']\n",
    " \n",
    "for i in columns:\n",
    "    ds[i]=np.cbrt(ds[i])"
   ]
  },
  {
   "cell_type": "code",
   "execution_count": 38,
   "metadata": {
    "colab": {
     "base_uri": "https://localhost:8080/"
    },
    "executionInfo": {
     "elapsed": 370,
     "status": "ok",
     "timestamp": 1621641475763,
     "user": {
      "displayName": "Yunus Surty",
      "photoUrl": "",
      "userId": "12841903714310226526"
     },
     "user_tz": -330
    },
    "id": "WdCAwWAVcmry",
    "outputId": "0c215d7d-95fd-43e6-b820-0d146fc1a4d8"
   },
   "outputs": [
    {
     "data": {
      "text/plain": [
       "fixed acidity           0.483249\n",
       "volatile acidity        0.385444\n",
       "citric acid             0.304663\n",
       "chlorides              -0.056486\n",
       "free sulfur dioxide     0.115106\n",
       "total sulfur dioxide   -0.011942\n",
       "density                 0.043847\n",
       "sulphates               0.535850\n",
       "alcohol                 0.641651\n",
       "quality                 2.114961\n",
       "dtype: float64"
      ]
     },
     "execution_count": 38,
     "metadata": {
      "tags": []
     },
     "output_type": "execute_result"
    }
   ],
   "source": [
    "ds.skew()"
   ]
  },
  {
   "cell_type": "code",
   "execution_count": null,
   "metadata": {},
   "outputs": [],
   "source": []
  },
  {
   "cell_type": "markdown",
   "metadata": {},
   "source": [
    "Splitting the data into input and output variable"
   ]
  },
  {
   "cell_type": "code",
   "execution_count": 39,
   "metadata": {
    "executionInfo": {
     "elapsed": 367,
     "status": "ok",
     "timestamp": 1621641479947,
     "user": {
      "displayName": "Yunus Surty",
      "photoUrl": "",
      "userId": "12841903714310226526"
     },
     "user_tz": -330
    },
    "id": "saGLo3b5elMv"
   },
   "outputs": [],
   "source": [
    "x=ds.drop(columns='quality')\n",
    "y=ds['quality']"
   ]
  },
  {
   "cell_type": "markdown",
   "metadata": {},
   "source": [
    "Checking both the variable"
   ]
  },
  {
   "cell_type": "code",
   "execution_count": 40,
   "metadata": {
    "colab": {
     "base_uri": "https://localhost:8080/",
     "height": 471
    },
    "executionInfo": {
     "elapsed": 438,
     "status": "ok",
     "timestamp": 1621641483255,
     "user": {
      "displayName": "Yunus Surty",
      "photoUrl": "",
      "userId": "12841903714310226526"
     },
     "user_tz": -330
    },
    "id": "bJ-Z5SmXlyWI",
    "outputId": "d7a7e761-ab5f-4703-9bc5-9608e48d2958"
   },
   "outputs": [
    {
     "data": {
      "text/html": [
       "<div>\n",
       "<style scoped>\n",
       "    .dataframe tbody tr th:only-of-type {\n",
       "        vertical-align: middle;\n",
       "    }\n",
       "\n",
       "    .dataframe tbody tr th {\n",
       "        vertical-align: top;\n",
       "    }\n",
       "\n",
       "    .dataframe thead th {\n",
       "        text-align: right;\n",
       "    }\n",
       "</style>\n",
       "<table border=\"1\" class=\"dataframe\">\n",
       "  <thead>\n",
       "    <tr style=\"text-align: right;\">\n",
       "      <th></th>\n",
       "      <th>fixed acidity</th>\n",
       "      <th>volatile acidity</th>\n",
       "      <th>citric acid</th>\n",
       "      <th>chlorides</th>\n",
       "      <th>free sulfur dioxide</th>\n",
       "      <th>total sulfur dioxide</th>\n",
       "      <th>density</th>\n",
       "      <th>sulphates</th>\n",
       "      <th>alcohol</th>\n",
       "    </tr>\n",
       "  </thead>\n",
       "  <tbody>\n",
       "    <tr>\n",
       "      <th>0</th>\n",
       "      <td>1.948695</td>\n",
       "      <td>0.700</td>\n",
       "      <td>0.00</td>\n",
       "      <td>-4.225805</td>\n",
       "      <td>2.223980</td>\n",
       "      <td>4.021228</td>\n",
       "      <td>0.99780</td>\n",
       "      <td>0.824257</td>\n",
       "      <td>2.110454</td>\n",
       "    </tr>\n",
       "    <tr>\n",
       "      <th>1</th>\n",
       "      <td>1.983192</td>\n",
       "      <td>0.880</td>\n",
       "      <td>0.00</td>\n",
       "      <td>-3.616401</td>\n",
       "      <td>2.924018</td>\n",
       "      <td>4.920517</td>\n",
       "      <td>0.99680</td>\n",
       "      <td>0.879366</td>\n",
       "      <td>2.139975</td>\n",
       "    </tr>\n",
       "    <tr>\n",
       "      <th>2</th>\n",
       "      <td>1.983192</td>\n",
       "      <td>0.760</td>\n",
       "      <td>0.04</td>\n",
       "      <td>-3.762722</td>\n",
       "      <td>2.466212</td>\n",
       "      <td>4.629707</td>\n",
       "      <td>0.99700</td>\n",
       "      <td>0.866239</td>\n",
       "      <td>2.139975</td>\n",
       "    </tr>\n",
       "    <tr>\n",
       "      <th>3</th>\n",
       "      <td>2.237378</td>\n",
       "      <td>0.280</td>\n",
       "      <td>0.56</td>\n",
       "      <td>-4.259094</td>\n",
       "      <td>2.571282</td>\n",
       "      <td>4.771179</td>\n",
       "      <td>0.99800</td>\n",
       "      <td>0.833955</td>\n",
       "      <td>2.139975</td>\n",
       "    </tr>\n",
       "    <tr>\n",
       "      <th>4</th>\n",
       "      <td>1.948695</td>\n",
       "      <td>0.700</td>\n",
       "      <td>0.00</td>\n",
       "      <td>-4.225805</td>\n",
       "      <td>2.223980</td>\n",
       "      <td>4.021228</td>\n",
       "      <td>0.99780</td>\n",
       "      <td>0.824257</td>\n",
       "      <td>2.110454</td>\n",
       "    </tr>\n",
       "    <tr>\n",
       "      <th>...</th>\n",
       "      <td>...</td>\n",
       "      <td>...</td>\n",
       "      <td>...</td>\n",
       "      <td>...</td>\n",
       "      <td>...</td>\n",
       "      <td>...</td>\n",
       "      <td>...</td>\n",
       "      <td>...</td>\n",
       "      <td>...</td>\n",
       "    </tr>\n",
       "    <tr>\n",
       "      <th>1594</th>\n",
       "      <td>1.837091</td>\n",
       "      <td>0.600</td>\n",
       "      <td>0.08</td>\n",
       "      <td>-3.814402</td>\n",
       "      <td>3.174802</td>\n",
       "      <td>4.357811</td>\n",
       "      <td>0.99490</td>\n",
       "      <td>0.833955</td>\n",
       "      <td>2.189760</td>\n",
       "    </tr>\n",
       "    <tr>\n",
       "      <th>1595</th>\n",
       "      <td>1.806969</td>\n",
       "      <td>0.550</td>\n",
       "      <td>0.10</td>\n",
       "      <td>-4.755292</td>\n",
       "      <td>3.391211</td>\n",
       "      <td>4.553411</td>\n",
       "      <td>0.99512</td>\n",
       "      <td>0.912581</td>\n",
       "      <td>2.237378</td>\n",
       "    </tr>\n",
       "    <tr>\n",
       "      <th>1596</th>\n",
       "      <td>1.846915</td>\n",
       "      <td>0.510</td>\n",
       "      <td>0.13</td>\n",
       "      <td>-4.225805</td>\n",
       "      <td>3.072317</td>\n",
       "      <td>4.232651</td>\n",
       "      <td>0.99574</td>\n",
       "      <td>0.908560</td>\n",
       "      <td>2.223980</td>\n",
       "    </tr>\n",
       "    <tr>\n",
       "      <th>1597</th>\n",
       "      <td>1.806969</td>\n",
       "      <td>0.645</td>\n",
       "      <td>0.12</td>\n",
       "      <td>-4.259094</td>\n",
       "      <td>3.174802</td>\n",
       "      <td>4.357811</td>\n",
       "      <td>0.99547</td>\n",
       "      <td>0.892112</td>\n",
       "      <td>2.168703</td>\n",
       "    </tr>\n",
       "    <tr>\n",
       "      <th>1598</th>\n",
       "      <td>1.817121</td>\n",
       "      <td>0.310</td>\n",
       "      <td>0.47</td>\n",
       "      <td>-4.549044</td>\n",
       "      <td>2.620741</td>\n",
       "      <td>4.296613</td>\n",
       "      <td>0.99549</td>\n",
       "      <td>0.870659</td>\n",
       "      <td>2.223980</td>\n",
       "    </tr>\n",
       "  </tbody>\n",
       "</table>\n",
       "<p>1483 rows × 9 columns</p>\n",
       "</div>"
      ],
      "text/plain": [
       "      fixed acidity  volatile acidity  ...  sulphates   alcohol\n",
       "0          1.948695             0.700  ...   0.824257  2.110454\n",
       "1          1.983192             0.880  ...   0.879366  2.139975\n",
       "2          1.983192             0.760  ...   0.866239  2.139975\n",
       "3          2.237378             0.280  ...   0.833955  2.139975\n",
       "4          1.948695             0.700  ...   0.824257  2.110454\n",
       "...             ...               ...  ...        ...       ...\n",
       "1594       1.837091             0.600  ...   0.833955  2.189760\n",
       "1595       1.806969             0.550  ...   0.912581  2.237378\n",
       "1596       1.846915             0.510  ...   0.908560  2.223980\n",
       "1597       1.806969             0.645  ...   0.892112  2.168703\n",
       "1598       1.817121             0.310  ...   0.870659  2.223980\n",
       "\n",
       "[1483 rows x 9 columns]"
      ]
     },
     "execution_count": 40,
     "metadata": {
      "tags": []
     },
     "output_type": "execute_result"
    }
   ],
   "source": [
    "x"
   ]
  },
  {
   "cell_type": "code",
   "execution_count": 42,
   "metadata": {
    "colab": {
     "base_uri": "https://localhost:8080/"
    },
    "executionInfo": {
     "elapsed": 640,
     "status": "ok",
     "timestamp": 1621641486373,
     "user": {
      "displayName": "Yunus Surty",
      "photoUrl": "",
      "userId": "12841903714310226526"
     },
     "user_tz": -330
    },
    "id": "unBJ7iyMpWLd",
    "outputId": "136e10b6-acea-4a13-a535-b9a9f1667ed5"
   },
   "outputs": [
    {
     "data": {
      "text/plain": [
       "0       0\n",
       "1       0\n",
       "2       0\n",
       "3       0\n",
       "4       0\n",
       "       ..\n",
       "1594    0\n",
       "1595    0\n",
       "1596    0\n",
       "1597    0\n",
       "1598    0\n",
       "Name: quality, Length: 1483, dtype: int64"
      ]
     },
     "execution_count": 42,
     "metadata": {
      "tags": []
     },
     "output_type": "execute_result"
    }
   ],
   "source": [
    "y"
   ]
  },
  {
   "cell_type": "code",
   "execution_count": 43,
   "metadata": {
    "colab": {
     "base_uri": "https://localhost:8080/"
    },
    "executionInfo": {
     "elapsed": 9,
     "status": "ok",
     "timestamp": 1621641488579,
     "user": {
      "displayName": "Yunus Surty",
      "photoUrl": "",
      "userId": "12841903714310226526"
     },
     "user_tz": -330
    },
    "id": "vXDplcjRpm1O",
    "outputId": "4b148d2d-1e3e-4230-90b6-266f7fccb826"
   },
   "outputs": [
    {
     "data": {
      "text/plain": [
       "0    1280\n",
       "1     203\n",
       "Name: quality, dtype: int64"
      ]
     },
     "execution_count": 43,
     "metadata": {
      "tags": []
     },
     "output_type": "execute_result"
    }
   ],
   "source": [
    "y.value_counts()"
   ]
  },
  {
   "cell_type": "markdown",
   "metadata": {},
   "source": [
    "From above we can see that the dataset is imbalance. We need to treat the same."
   ]
  },
  {
   "cell_type": "markdown",
   "metadata": {},
   "source": [
    "We will use oversampling technique to balance our data.\n",
    "\n",
    "Importing SMOTE"
   ]
  },
  {
   "cell_type": "code",
   "execution_count": 44,
   "metadata": {
    "executionInfo": {
     "elapsed": 886,
     "status": "ok",
     "timestamp": 1621641492000,
     "user": {
      "displayName": "Yunus Surty",
      "photoUrl": "",
      "userId": "12841903714310226526"
     },
     "user_tz": -330
    },
    "id": "V2IbOR2KpnB1"
   },
   "outputs": [],
   "source": [
    "from imblearn.over_sampling import SMOTE"
   ]
  },
  {
   "cell_type": "code",
   "execution_count": 45,
   "metadata": {
    "executionInfo": {
     "elapsed": 3,
     "status": "ok",
     "timestamp": 1621641493894,
     "user": {
      "displayName": "Yunus Surty",
      "photoUrl": "",
      "userId": "12841903714310226526"
     },
     "user_tz": -330
    },
    "id": "emcCPOBkr7zJ"
   },
   "outputs": [],
   "source": [
    "SM=SMOTE()\n",
    "X,Y=SM.fit_resample(x,y)"
   ]
  },
  {
   "cell_type": "code",
   "execution_count": 46,
   "metadata": {
    "executionInfo": {
     "elapsed": 6,
     "status": "ok",
     "timestamp": 1621641494486,
     "user": {
      "displayName": "Yunus Surty",
      "photoUrl": "",
      "userId": "12841903714310226526"
     },
     "user_tz": -330
    },
    "id": "Ho0QXBUZsEh4"
   },
   "outputs": [],
   "source": [
    "y_new=pd.DataFrame(data=Y)"
   ]
  },
  {
   "cell_type": "code",
   "execution_count": 47,
   "metadata": {
    "colab": {
     "base_uri": "https://localhost:8080/"
    },
    "executionInfo": {
     "elapsed": 10,
     "status": "ok",
     "timestamp": 1621641495829,
     "user": {
      "displayName": "Yunus Surty",
      "photoUrl": "",
      "userId": "12841903714310226526"
     },
     "user_tz": -330
    },
    "id": "AQul8Xsassk3",
    "outputId": "736ada24-ba76-4352-d84b-b8d206286bc0"
   },
   "outputs": [
    {
     "data": {
      "text/plain": [
       "1    1280\n",
       "0    1280\n",
       "dtype: int64"
      ]
     },
     "execution_count": 47,
     "metadata": {
      "tags": []
     },
     "output_type": "execute_result"
    }
   ],
   "source": [
    "y_new.value_counts()"
   ]
  },
  {
   "cell_type": "markdown",
   "metadata": {},
   "source": [
    "We can see that the data is now evenly balanced.\n",
    "\n",
    "Lets check the input variable as well"
   ]
  },
  {
   "cell_type": "code",
   "execution_count": 48,
   "metadata": {
    "executionInfo": {
     "elapsed": 4,
     "status": "ok",
     "timestamp": 1621641499066,
     "user": {
      "displayName": "Yunus Surty",
      "photoUrl": "",
      "userId": "12841903714310226526"
     },
     "user_tz": -330
    },
    "id": "Wc42DGKEtE-O"
   },
   "outputs": [],
   "source": [
    "x_new=pd.DataFrame(data=X)"
   ]
  },
  {
   "cell_type": "code",
   "execution_count": 49,
   "metadata": {
    "colab": {
     "base_uri": "https://localhost:8080/",
     "height": 437
    },
    "executionInfo": {
     "elapsed": 601,
     "status": "ok",
     "timestamp": 1621641500275,
     "user": {
      "displayName": "Yunus Surty",
      "photoUrl": "",
      "userId": "12841903714310226526"
     },
     "user_tz": -330
    },
    "id": "d9dB86s9tdF9",
    "outputId": "bec0b5d4-a1cd-404e-83a8-bfcedf17975e"
   },
   "outputs": [
    {
     "data": {
      "text/html": [
       "<div>\n",
       "<style scoped>\n",
       "    .dataframe tbody tr th:only-of-type {\n",
       "        vertical-align: middle;\n",
       "    }\n",
       "\n",
       "    .dataframe tbody tr th {\n",
       "        vertical-align: top;\n",
       "    }\n",
       "\n",
       "    .dataframe thead th {\n",
       "        text-align: right;\n",
       "    }\n",
       "</style>\n",
       "<table border=\"1\" class=\"dataframe\">\n",
       "  <thead>\n",
       "    <tr style=\"text-align: right;\">\n",
       "      <th></th>\n",
       "      <th>0</th>\n",
       "      <th>1</th>\n",
       "      <th>2</th>\n",
       "      <th>3</th>\n",
       "      <th>4</th>\n",
       "      <th>5</th>\n",
       "      <th>6</th>\n",
       "      <th>7</th>\n",
       "      <th>8</th>\n",
       "    </tr>\n",
       "  </thead>\n",
       "  <tbody>\n",
       "    <tr>\n",
       "      <th>0</th>\n",
       "      <td>1.948695</td>\n",
       "      <td>0.700000</td>\n",
       "      <td>0.000000</td>\n",
       "      <td>-4.225805</td>\n",
       "      <td>2.223980</td>\n",
       "      <td>4.021228</td>\n",
       "      <td>0.997800</td>\n",
       "      <td>0.824257</td>\n",
       "      <td>2.110454</td>\n",
       "    </tr>\n",
       "    <tr>\n",
       "      <th>1</th>\n",
       "      <td>1.983192</td>\n",
       "      <td>0.880000</td>\n",
       "      <td>0.000000</td>\n",
       "      <td>-3.616401</td>\n",
       "      <td>2.924018</td>\n",
       "      <td>4.920517</td>\n",
       "      <td>0.996800</td>\n",
       "      <td>0.879366</td>\n",
       "      <td>2.139975</td>\n",
       "    </tr>\n",
       "    <tr>\n",
       "      <th>2</th>\n",
       "      <td>1.983192</td>\n",
       "      <td>0.760000</td>\n",
       "      <td>0.040000</td>\n",
       "      <td>-3.762722</td>\n",
       "      <td>2.466212</td>\n",
       "      <td>4.629707</td>\n",
       "      <td>0.997000</td>\n",
       "      <td>0.866239</td>\n",
       "      <td>2.139975</td>\n",
       "    </tr>\n",
       "    <tr>\n",
       "      <th>3</th>\n",
       "      <td>2.237378</td>\n",
       "      <td>0.280000</td>\n",
       "      <td>0.560000</td>\n",
       "      <td>-4.259094</td>\n",
       "      <td>2.571282</td>\n",
       "      <td>4.771179</td>\n",
       "      <td>0.998000</td>\n",
       "      <td>0.833955</td>\n",
       "      <td>2.139975</td>\n",
       "    </tr>\n",
       "    <tr>\n",
       "      <th>4</th>\n",
       "      <td>1.948695</td>\n",
       "      <td>0.700000</td>\n",
       "      <td>0.000000</td>\n",
       "      <td>-4.225805</td>\n",
       "      <td>2.223980</td>\n",
       "      <td>4.021228</td>\n",
       "      <td>0.997800</td>\n",
       "      <td>0.824257</td>\n",
       "      <td>2.110454</td>\n",
       "    </tr>\n",
       "    <tr>\n",
       "      <th>...</th>\n",
       "      <td>...</td>\n",
       "      <td>...</td>\n",
       "      <td>...</td>\n",
       "      <td>...</td>\n",
       "      <td>...</td>\n",
       "      <td>...</td>\n",
       "      <td>...</td>\n",
       "      <td>...</td>\n",
       "      <td>...</td>\n",
       "    </tr>\n",
       "    <tr>\n",
       "      <th>2555</th>\n",
       "      <td>2.072351</td>\n",
       "      <td>0.120000</td>\n",
       "      <td>0.450000</td>\n",
       "      <td>-4.259094</td>\n",
       "      <td>2.154435</td>\n",
       "      <td>3.408925</td>\n",
       "      <td>0.995520</td>\n",
       "      <td>0.912581</td>\n",
       "      <td>2.283051</td>\n",
       "    </tr>\n",
       "    <tr>\n",
       "      <th>2556</th>\n",
       "      <td>2.088347</td>\n",
       "      <td>0.405377</td>\n",
       "      <td>0.334340</td>\n",
       "      <td>-3.871221</td>\n",
       "      <td>2.189728</td>\n",
       "      <td>4.469021</td>\n",
       "      <td>0.998964</td>\n",
       "      <td>0.906744</td>\n",
       "      <td>2.183428</td>\n",
       "    </tr>\n",
       "    <tr>\n",
       "      <th>2557</th>\n",
       "      <td>2.030691</td>\n",
       "      <td>0.412821</td>\n",
       "      <td>0.274907</td>\n",
       "      <td>-4.086473</td>\n",
       "      <td>2.269134</td>\n",
       "      <td>3.855986</td>\n",
       "      <td>0.996310</td>\n",
       "      <td>0.916128</td>\n",
       "      <td>2.246625</td>\n",
       "    </tr>\n",
       "    <tr>\n",
       "      <th>2558</th>\n",
       "      <td>2.317592</td>\n",
       "      <td>0.339088</td>\n",
       "      <td>0.705255</td>\n",
       "      <td>-3.709473</td>\n",
       "      <td>2.171004</td>\n",
       "      <td>3.810212</td>\n",
       "      <td>0.999487</td>\n",
       "      <td>0.890809</td>\n",
       "      <td>2.210419</td>\n",
       "    </tr>\n",
       "    <tr>\n",
       "      <th>2559</th>\n",
       "      <td>2.161988</td>\n",
       "      <td>0.320856</td>\n",
       "      <td>0.482956</td>\n",
       "      <td>-4.931463</td>\n",
       "      <td>1.442250</td>\n",
       "      <td>2.462250</td>\n",
       "      <td>0.996321</td>\n",
       "      <td>0.914766</td>\n",
       "      <td>2.234041</td>\n",
       "    </tr>\n",
       "  </tbody>\n",
       "</table>\n",
       "<p>2560 rows × 9 columns</p>\n",
       "</div>"
      ],
      "text/plain": [
       "             0         1         2  ...         6         7         8\n",
       "0     1.948695  0.700000  0.000000  ...  0.997800  0.824257  2.110454\n",
       "1     1.983192  0.880000  0.000000  ...  0.996800  0.879366  2.139975\n",
       "2     1.983192  0.760000  0.040000  ...  0.997000  0.866239  2.139975\n",
       "3     2.237378  0.280000  0.560000  ...  0.998000  0.833955  2.139975\n",
       "4     1.948695  0.700000  0.000000  ...  0.997800  0.824257  2.110454\n",
       "...        ...       ...       ...  ...       ...       ...       ...\n",
       "2555  2.072351  0.120000  0.450000  ...  0.995520  0.912581  2.283051\n",
       "2556  2.088347  0.405377  0.334340  ...  0.998964  0.906744  2.183428\n",
       "2557  2.030691  0.412821  0.274907  ...  0.996310  0.916128  2.246625\n",
       "2558  2.317592  0.339088  0.705255  ...  0.999487  0.890809  2.210419\n",
       "2559  2.161988  0.320856  0.482956  ...  0.996321  0.914766  2.234041\n",
       "\n",
       "[2560 rows x 9 columns]"
      ]
     },
     "execution_count": 49,
     "metadata": {
      "tags": []
     },
     "output_type": "execute_result"
    }
   ],
   "source": [
    "x_new"
   ]
  },
  {
   "cell_type": "markdown",
   "metadata": {},
   "source": [
    "\n",
    "\n",
    "We will now Standardize our dataset using StandardScaler"
   ]
  },
  {
   "cell_type": "code",
   "execution_count": 50,
   "metadata": {
    "executionInfo": {
     "elapsed": 355,
     "status": "ok",
     "timestamp": 1621641504547,
     "user": {
      "displayName": "Yunus Surty",
      "photoUrl": "",
      "userId": "12841903714310226526"
     },
     "user_tz": -330
    },
    "id": "zDFcTqo0s44A"
   },
   "outputs": [],
   "source": [
    "from sklearn.preprocessing import StandardScaler"
   ]
  },
  {
   "cell_type": "code",
   "execution_count": 51,
   "metadata": {
    "executionInfo": {
     "elapsed": 772,
     "status": "ok",
     "timestamp": 1621641505775,
     "user": {
      "displayName": "Yunus Surty",
      "photoUrl": "",
      "userId": "12841903714310226526"
     },
     "user_tz": -330
    },
    "id": "CNiFeI1VtkHW"
   },
   "outputs": [],
   "source": [
    "sc=StandardScaler()"
   ]
  },
  {
   "cell_type": "code",
   "execution_count": 52,
   "metadata": {
    "executionInfo": {
     "elapsed": 4,
     "status": "ok",
     "timestamp": 1621641505776,
     "user": {
      "displayName": "Yunus Surty",
      "photoUrl": "",
      "userId": "12841903714310226526"
     },
     "user_tz": -330
    },
    "id": "LtAoW68itnVc"
   },
   "outputs": [],
   "source": [
    "sc_x=sc.fit_transform(x_new)"
   ]
  },
  {
   "cell_type": "code",
   "execution_count": 53,
   "metadata": {
    "colab": {
     "base_uri": "https://localhost:8080/"
    },
    "executionInfo": {
     "elapsed": 6,
     "status": "ok",
     "timestamp": 1621641506336,
     "user": {
      "displayName": "Yunus Surty",
      "photoUrl": "",
      "userId": "12841903714310226526"
     },
     "user_tz": -330
    },
    "id": "LRBnwiant0YU",
    "outputId": "f113cbbf-53dd-412f-b0ae-e97376ba1f46"
   },
   "outputs": [
    {
     "data": {
      "text/plain": [
       "array([[-0.6458913 ,  1.40475447, -1.64669194, ...,  0.76641391,\n",
       "        -0.96802446, -1.39654845],\n",
       "       [-0.38608463,  2.51402209, -1.64669194, ...,  0.20265228,\n",
       "         0.02061585, -0.99717534],\n",
       "       [-0.38608463,  1.77451034, -1.43763185, ...,  0.31540461,\n",
       "        -0.21487639, -0.99717534],\n",
       "       ...,\n",
       "       [-0.02835947, -0.36501663, -0.20988946, ..., -0.07384504,\n",
       "         0.68011379,  0.44564647],\n",
       "       [ 2.13234764, -0.81940205,  2.03932626, ...,  1.71740189,\n",
       "         0.2259102 , -0.04416792],\n",
       "       [ 0.96046602, -0.93175518,  0.87747695, ..., -0.0675474 ,\n",
       "         0.65568853,  0.27540821]])"
      ]
     },
     "execution_count": 53,
     "metadata": {
      "tags": []
     },
     "output_type": "execute_result"
    }
   ],
   "source": [
    "sc_x"
   ]
  },
  {
   "cell_type": "markdown",
   "metadata": {},
   "source": [
    "We have done the data pre-processing. Lets move forward for building the model"
   ]
  },
  {
   "cell_type": "code",
   "execution_count": null,
   "metadata": {},
   "outputs": [],
   "source": []
  },
  {
   "cell_type": "markdown",
   "metadata": {},
   "source": [
    "### Model Building"
   ]
  },
  {
   "cell_type": "code",
   "execution_count": 54,
   "metadata": {
    "executionInfo": {
     "elapsed": 7,
     "status": "ok",
     "timestamp": 1621641510492,
     "user": {
      "displayName": "Yunus Surty",
      "photoUrl": "",
      "userId": "12841903714310226526"
     },
     "user_tz": -330
    },
    "id": "9Lsd5Fa9t6ME"
   },
   "outputs": [],
   "source": [
    "from sklearn.model_selection import train_test_split\n",
    "from sklearn.metrics import accuracy_score, confusion_matrix, classification_report\n",
    "from sklearn.linear_model import LogisticRegression\n",
    "from sklearn.ensemble import RandomForestClassifier\n",
    "from sklearn.tree import DecisionTreeClassifier\n",
    "from sklearn.svm import SVC\n",
    "from sklearn.neighbors import KNeighborsClassifier"
   ]
  },
  {
   "cell_type": "markdown",
   "metadata": {
    "id": "nDZV96uR4pJV"
   },
   "source": [
    "Importing the libraries for model fitting and checking the score"
   ]
  },
  {
   "cell_type": "markdown",
   "metadata": {
    "id": "1pylkJKi4pJW"
   },
   "source": [
    "We will check the best possible random state to train our model. Using KNeighborsClassiifer to check and then later will run with other models"
   ]
  },
  {
   "cell_type": "code",
   "execution_count": 55,
   "metadata": {
    "colab": {
     "base_uri": "https://localhost:8080/"
    },
    "executionInfo": {
     "elapsed": 7108,
     "status": "ok",
     "timestamp": 1621641525662,
     "user": {
      "displayName": "Yunus Surty",
      "photoUrl": "",
      "userId": "12841903714310226526"
     },
     "user_tz": -330
    },
    "id": "H2cP2cHbuGpV",
    "outputId": "ad9b30e5-79b3-475c-ea3a-4bb549b13b44"
   },
   "outputs": [
    {
     "name": "stdout",
     "output_type": "stream",
     "text": [
      "Best Accuracy is 0.91796875  on Random state 164\n"
     ]
    }
   ],
   "source": [
    "maxAccu=0\n",
    "maxRS=0\n",
    "for i in range(1,200):\n",
    "    x_train,x_test,y_train,y_test=train_test_split(sc_x,y_new,test_size=.30,random_state=i)\n",
    "    mod=KNeighborsClassifier(n_neighbors=5)\n",
    "    mod.fit(x_train,y_train)\n",
    "    pred=mod.predict(x_test)\n",
    "    acc=accuracy_score(y_test,pred)\n",
    "    if acc>maxAccu:\n",
    "        maxAccu=acc\n",
    "        maxRS=i\n",
    "print('Best Accuracy is',maxAccu,' on Random state',maxRS)"
   ]
  },
  {
   "cell_type": "markdown",
   "metadata": {
    "id": "XOgwqoga4pJW"
   },
   "source": [
    "We can see that the best random state is 164. We will split the data with this random state"
   ]
  },
  {
   "cell_type": "code",
   "execution_count": 56,
   "metadata": {
    "executionInfo": {
     "elapsed": 526,
     "status": "ok",
     "timestamp": 1621641550810,
     "user": {
      "displayName": "Yunus Surty",
      "photoUrl": "",
      "userId": "12841903714310226526"
     },
     "user_tz": -330
    },
    "id": "ccW-ifxMyjKU"
   },
   "outputs": [],
   "source": [
    "x_train,x_test,y_train,y_test=train_test_split(x,y,test_size=.30,random_state=164)"
   ]
  },
  {
   "cell_type": "markdown",
   "metadata": {
    "id": "RrgcBbeL4pJX"
   },
   "source": [
    "We will train and test the data using different classification Model"
   ]
  },
  {
   "cell_type": "markdown",
   "metadata": {},
   "source": [
    "Creating instance for the model"
   ]
  },
  {
   "cell_type": "code",
   "execution_count": 57,
   "metadata": {
    "executionInfo": {
     "elapsed": 462,
     "status": "ok",
     "timestamp": 1621641555034,
     "user": {
      "displayName": "Yunus Surty",
      "photoUrl": "",
      "userId": "12841903714310226526"
     },
     "user_tz": -330
    },
    "id": "t1b7Y2HXuh0u"
   },
   "outputs": [],
   "source": [
    "lg=LogisticRegression()\n",
    "rfc=RandomForestClassifier(n_estimators=100)\n",
    "dt=DecisionTreeClassifier()\n",
    "sv=SVC(probability=True)\n",
    "knn=KNeighborsClassifier(n_neighbors=5)"
   ]
  },
  {
   "cell_type": "markdown",
   "metadata": {},
   "source": [
    "Running the for loop to check all the model accuracy"
   ]
  },
  {
   "cell_type": "code",
   "execution_count": 58,
   "metadata": {
    "colab": {
     "base_uri": "https://localhost:8080/"
    },
    "executionInfo": {
     "elapsed": 1055,
     "status": "ok",
     "timestamp": 1621641566134,
     "user": {
      "displayName": "Yunus Surty",
      "photoUrl": "",
      "userId": "12841903714310226526"
     },
     "user_tz": -330
    },
    "id": "yEMj_ugmujwh",
    "outputId": "17df4cb3-72ff-4cf8-91e0-c190f8783cd9",
    "scrolled": false
   },
   "outputs": [
    {
     "name": "stdout",
     "output_type": "stream",
     "text": [
      "Accuracy score of LogisticRegression(C=1.0, class_weight=None, dual=False, fit_intercept=True,\n",
      "                   intercept_scaling=1, l1_ratio=None, max_iter=100,\n",
      "                   multi_class='auto', n_jobs=None, penalty='l2',\n",
      "                   random_state=None, solver='lbfgs', tol=0.0001, verbose=0,\n",
      "                   warm_start=False)\n",
      "0.8808988764044944\n",
      "[[386   6]\n",
      " [ 47   6]]\n",
      "              precision    recall  f1-score   support\n",
      "\n",
      "           0       0.89      0.98      0.94       392\n",
      "           1       0.50      0.11      0.18        53\n",
      "\n",
      "    accuracy                           0.88       445\n",
      "   macro avg       0.70      0.55      0.56       445\n",
      "weighted avg       0.84      0.88      0.85       445\n",
      "\n",
      "Accuracy score of RandomForestClassifier(bootstrap=True, ccp_alpha=0.0, class_weight=None,\n",
      "                       criterion='gini', max_depth=None, max_features='auto',\n",
      "                       max_leaf_nodes=None, max_samples=None,\n",
      "                       min_impurity_decrease=0.0, min_impurity_split=None,\n",
      "                       min_samples_leaf=1, min_samples_split=2,\n",
      "                       min_weight_fraction_leaf=0.0, n_estimators=100,\n",
      "                       n_jobs=None, oob_score=False, random_state=None,\n",
      "                       verbose=0, warm_start=False)\n",
      "0.9280898876404494\n",
      "[[380  12]\n",
      " [ 20  33]]\n",
      "              precision    recall  f1-score   support\n",
      "\n",
      "           0       0.95      0.97      0.96       392\n",
      "           1       0.73      0.62      0.67        53\n",
      "\n",
      "    accuracy                           0.93       445\n",
      "   macro avg       0.84      0.80      0.82       445\n",
      "weighted avg       0.92      0.93      0.93       445\n",
      "\n",
      "Accuracy score of DecisionTreeClassifier(ccp_alpha=0.0, class_weight=None, criterion='gini',\n",
      "                       max_depth=None, max_features=None, max_leaf_nodes=None,\n",
      "                       min_impurity_decrease=0.0, min_impurity_split=None,\n",
      "                       min_samples_leaf=1, min_samples_split=2,\n",
      "                       min_weight_fraction_leaf=0.0, presort='deprecated',\n",
      "                       random_state=None, splitter='best')\n",
      "0.8561797752808988\n",
      "[[355  37]\n",
      " [ 27  26]]\n",
      "              precision    recall  f1-score   support\n",
      "\n",
      "           0       0.93      0.91      0.92       392\n",
      "           1       0.41      0.49      0.45        53\n",
      "\n",
      "    accuracy                           0.86       445\n",
      "   macro avg       0.67      0.70      0.68       445\n",
      "weighted avg       0.87      0.86      0.86       445\n",
      "\n",
      "Accuracy score of SVC(C=1.0, break_ties=False, cache_size=200, class_weight=None, coef0=0.0,\n",
      "    decision_function_shape='ovr', degree=3, gamma='scale', kernel='rbf',\n",
      "    max_iter=-1, probability=True, random_state=None, shrinking=True, tol=0.001,\n",
      "    verbose=False)\n",
      "0.8808988764044944\n",
      "[[392   0]\n",
      " [ 53   0]]\n",
      "              precision    recall  f1-score   support\n",
      "\n",
      "           0       0.88      1.00      0.94       392\n",
      "           1       0.00      0.00      0.00        53\n",
      "\n",
      "    accuracy                           0.88       445\n",
      "   macro avg       0.44      0.50      0.47       445\n",
      "weighted avg       0.78      0.88      0.83       445\n",
      "\n",
      "Accuracy score of KNeighborsClassifier(algorithm='auto', leaf_size=30, metric='minkowski',\n",
      "                     metric_params=None, n_jobs=None, n_neighbors=5, p=2,\n",
      "                     weights='uniform')\n",
      "0.8561797752808988\n",
      "[[363  29]\n",
      " [ 35  18]]\n",
      "              precision    recall  f1-score   support\n",
      "\n",
      "           0       0.91      0.93      0.92       392\n",
      "           1       0.38      0.34      0.36        53\n",
      "\n",
      "    accuracy                           0.86       445\n",
      "   macro avg       0.65      0.63      0.64       445\n",
      "weighted avg       0.85      0.86      0.85       445\n",
      "\n"
     ]
    }
   ],
   "source": [
    "model=(lg,rfc,dt,sv,knn)\n",
    "for m in model:\n",
    "    m.fit(x_train,y_train)\n",
    "    pred=m.predict(x_test)\n",
    "    print('Accuracy score of',m)\n",
    "    print(accuracy_score(y_test,pred))\n",
    "    print(confusion_matrix(y_test,pred))\n",
    "    print(classification_report(y_test,pred))"
   ]
  },
  {
   "cell_type": "markdown",
   "metadata": {},
   "source": [
    "Best accuracy has been given by RandomForestClassifier(RFC) model - Accuracy:92%"
   ]
  },
  {
   "cell_type": "markdown",
   "metadata": {},
   "source": [
    "We have to verify if the our model is overfitting or underfitting.\n",
    "For that we have to use Crosss validation.\n",
    "\n",
    "Importing the libraries for cross validation"
   ]
  },
  {
   "cell_type": "code",
   "execution_count": 59,
   "metadata": {
    "executionInfo": {
     "elapsed": 574,
     "status": "ok",
     "timestamp": 1621641600119,
     "user": {
      "displayName": "Yunus Surty",
      "photoUrl": "",
      "userId": "12841903714310226526"
     },
     "user_tz": -330
    },
    "id": "qH8_XKuPu4aM"
   },
   "outputs": [],
   "source": [
    "from sklearn.model_selection import cross_val_score"
   ]
  },
  {
   "cell_type": "code",
   "execution_count": 60,
   "metadata": {
    "colab": {
     "base_uri": "https://localhost:8080/"
    },
    "executionInfo": {
     "elapsed": 2743,
     "status": "ok",
     "timestamp": 1621641604602,
     "user": {
      "displayName": "Yunus Surty",
      "photoUrl": "",
      "userId": "12841903714310226526"
     },
     "user_tz": -330
    },
    "id": "qRTN6NrZu89K",
    "outputId": "4e48e8c8-00af-4962-c911-8c4633e0c5dc"
   },
   "outputs": [
    {
     "name": "stdout",
     "output_type": "stream",
     "text": [
      "Mean Accuracy of LogisticRegression(C=1.0, class_weight=None, dual=False, fit_intercept=True,\n",
      "                   intercept_scaling=1, l1_ratio=None, max_iter=100,\n",
      "                   multi_class='auto', n_jobs=None, penalty='l2',\n",
      "                   random_state=None, solver='lbfgs', tol=0.0001, verbose=0,\n",
      "                   warm_start=False)\n",
      "0.8691828191828191\n",
      "\n",
      "\n",
      "Mean Accuracy of RandomForestClassifier(bootstrap=True, ccp_alpha=0.0, class_weight=None,\n",
      "                       criterion='gini', max_depth=None, max_features='auto',\n",
      "                       max_leaf_nodes=None, max_samples=None,\n",
      "                       min_impurity_decrease=0.0, min_impurity_split=None,\n",
      "                       min_samples_leaf=1, min_samples_split=2,\n",
      "                       min_weight_fraction_leaf=0.0, n_estimators=100,\n",
      "                       n_jobs=None, oob_score=False, random_state=None,\n",
      "                       verbose=0, warm_start=False)\n",
      "0.8786104286104287\n",
      "\n",
      "\n",
      "Mean Accuracy of DecisionTreeClassifier(ccp_alpha=0.0, class_weight=None, criterion='gini',\n",
      "                       max_depth=None, max_features=None, max_leaf_nodes=None,\n",
      "                       min_impurity_decrease=0.0, min_impurity_split=None,\n",
      "                       min_samples_leaf=1, min_samples_split=2,\n",
      "                       min_weight_fraction_leaf=0.0, presort='deprecated',\n",
      "                       random_state=None, splitter='best')\n",
      "0.8192214942214943\n",
      "\n",
      "\n",
      "Mean Accuracy of SVC(C=1.0, break_ties=False, cache_size=200, class_weight=None, coef0=0.0,\n",
      "    decision_function_shape='ovr', degree=3, gamma='scale', kernel='rbf',\n",
      "    max_iter=-1, probability=True, random_state=None, shrinking=True, tol=0.001,\n",
      "    verbose=False)\n",
      "0.8631176631176631\n",
      "\n",
      "\n",
      "Mean Accuracy of KNeighborsClassifier(algorithm='auto', leaf_size=30, metric='minkowski',\n",
      "                     metric_params=None, n_jobs=None, n_neighbors=5, p=2,\n",
      "                     weights='uniform')\n",
      "0.8368277368277368\n",
      "\n",
      "\n"
     ]
    }
   ],
   "source": [
    "model=(lg,rfc,dt,sv,knn)\n",
    "for m in model:\n",
    "    score=cross_val_score(m,x,y,cv=5)\n",
    "    print('Mean Accuracy of', m)\n",
    "    print(score.mean())\n",
    "    print('\\n')"
   ]
  },
  {
   "cell_type": "markdown",
   "metadata": {},
   "source": [
    "Again on cross validation RFC model gave best result of 87.86% accuracy"
   ]
  },
  {
   "cell_type": "markdown",
   "metadata": {},
   "source": [
    "Lets check or all the model performance on Test accuracy and cross validation"
   ]
  },
  {
   "cell_type": "code",
   "execution_count": 1,
   "metadata": {
    "id": "PtEe0eMtVniB"
   },
   "outputs": [],
   "source": [
    "Report={'Model':['LogisticR','RFC','DTC','SVC','KNN'],\n",
    "        'Acc_test':[0.88,0.92,0.85,0.88,0.85],\n",
    "        'Acc_cross':[0.86,0.87,0.81,0.86,0.83],\n",
    "        'Difference':[0.88-0.86,0.92-0.87,0.85-0.81,0.88-0.86,0.85-0.83],}"
   ]
  },
  {
   "cell_type": "code",
   "execution_count": 4,
   "metadata": {
    "id": "Q6ep4w8cXX9R"
   },
   "outputs": [],
   "source": [
    "Accuracy=pd.DataFrame(data=Report)"
   ]
  },
  {
   "cell_type": "code",
   "execution_count": 5,
   "metadata": {
    "colab": {
     "base_uri": "https://localhost:8080/",
     "height": 204
    },
    "executionInfo": {
     "elapsed": 9,
     "status": "ok",
     "timestamp": 1621548201628,
     "user": {
      "displayName": "Yunus Surty",
      "photoUrl": "",
      "userId": "12841903714310226526"
     },
     "user_tz": -330
    },
    "id": "sowG7LmMYlvq",
    "outputId": "d1e7b25c-a44c-4be9-87f6-6e13dcb83fae"
   },
   "outputs": [
    {
     "data": {
      "text/html": [
       "<div>\n",
       "<style scoped>\n",
       "    .dataframe tbody tr th:only-of-type {\n",
       "        vertical-align: middle;\n",
       "    }\n",
       "\n",
       "    .dataframe tbody tr th {\n",
       "        vertical-align: top;\n",
       "    }\n",
       "\n",
       "    .dataframe thead th {\n",
       "        text-align: right;\n",
       "    }\n",
       "</style>\n",
       "<table border=\"1\" class=\"dataframe\">\n",
       "  <thead>\n",
       "    <tr style=\"text-align: right;\">\n",
       "      <th></th>\n",
       "      <th>Model</th>\n",
       "      <th>Acc_test</th>\n",
       "      <th>Acc_cross</th>\n",
       "      <th>Difference</th>\n",
       "    </tr>\n",
       "  </thead>\n",
       "  <tbody>\n",
       "    <tr>\n",
       "      <th>0</th>\n",
       "      <td>LogisticR</td>\n",
       "      <td>0.88</td>\n",
       "      <td>0.86</td>\n",
       "      <td>0.02</td>\n",
       "    </tr>\n",
       "    <tr>\n",
       "      <th>1</th>\n",
       "      <td>RFC</td>\n",
       "      <td>0.92</td>\n",
       "      <td>0.87</td>\n",
       "      <td>0.05</td>\n",
       "    </tr>\n",
       "    <tr>\n",
       "      <th>2</th>\n",
       "      <td>DTC</td>\n",
       "      <td>0.85</td>\n",
       "      <td>0.81</td>\n",
       "      <td>0.04</td>\n",
       "    </tr>\n",
       "    <tr>\n",
       "      <th>3</th>\n",
       "      <td>SVC</td>\n",
       "      <td>0.88</td>\n",
       "      <td>0.86</td>\n",
       "      <td>0.02</td>\n",
       "    </tr>\n",
       "    <tr>\n",
       "      <th>4</th>\n",
       "      <td>KNN</td>\n",
       "      <td>0.85</td>\n",
       "      <td>0.83</td>\n",
       "      <td>0.02</td>\n",
       "    </tr>\n",
       "  </tbody>\n",
       "</table>\n",
       "</div>"
      ],
      "text/plain": [
       "       Model  Acc_test  Acc_cross  Difference\n",
       "0  LogisticR      0.88       0.86        0.02\n",
       "1        RFC      0.92       0.87        0.05\n",
       "2        DTC      0.85       0.81        0.04\n",
       "3        SVC      0.88       0.86        0.02\n",
       "4        KNN      0.85       0.83        0.02"
      ]
     },
     "execution_count": 5,
     "metadata": {},
     "output_type": "execute_result"
    }
   ],
   "source": [
    "Accuracy"
   ]
  },
  {
   "cell_type": "markdown",
   "metadata": {},
   "source": [
    "\n",
    "\n",
    "### ROC_AUC"
   ]
  },
  {
   "cell_type": "markdown",
   "metadata": {},
   "source": [
    "We will check the performance of all our model through ROC_AUC curve"
   ]
  },
  {
   "cell_type": "code",
   "execution_count": 61,
   "metadata": {
    "executionInfo": {
     "elapsed": 983,
     "status": "ok",
     "timestamp": 1621641642368,
     "user": {
      "displayName": "Yunus Surty",
      "photoUrl": "",
      "userId": "12841903714310226526"
     },
     "user_tz": -330
    },
    "id": "AKVI_tlFWUdc"
   },
   "outputs": [],
   "source": [
    "from sklearn.metrics import roc_curve\n",
    "import matplotlib.pyplot as plt\n",
    " \n",
    "from sklearn.metrics import roc_auc_score"
   ]
  },
  {
   "cell_type": "markdown",
   "metadata": {},
   "source": [
    "Lets check the AUC_score of each model"
   ]
  },
  {
   "cell_type": "code",
   "execution_count": 62,
   "metadata": {
    "colab": {
     "base_uri": "https://localhost:8080/"
    },
    "executionInfo": {
     "elapsed": 550,
     "status": "ok",
     "timestamp": 1621641652690,
     "user": {
      "displayName": "Yunus Surty",
      "photoUrl": "",
      "userId": "12841903714310226526"
     },
     "user_tz": -330
    },
    "id": "3W2iComZWUdc",
    "outputId": "6156897e-98e3-4937-b59a-18f8f86cff3e"
   },
   "outputs": [
    {
     "name": "stdout",
     "output_type": "stream",
     "text": [
      "AUC Score of LogisticRegression(C=1.0, class_weight=None, dual=False, fit_intercept=True,\n",
      "                   intercept_scaling=1, l1_ratio=None, max_iter=100,\n",
      "                   multi_class='auto', n_jobs=None, penalty='l2',\n",
      "                   random_state=None, solver='lbfgs', tol=0.0001, verbose=0,\n",
      "                   warm_start=False)\n",
      "0.5489507123604158\n",
      "\n",
      "\n",
      "AUC Score of RandomForestClassifier(bootstrap=True, ccp_alpha=0.0, class_weight=None,\n",
      "                       criterion='gini', max_depth=None, max_features='auto',\n",
      "                       max_leaf_nodes=None, max_samples=None,\n",
      "                       min_impurity_decrease=0.0, min_impurity_split=None,\n",
      "                       min_samples_leaf=1, min_samples_split=2,\n",
      "                       min_weight_fraction_leaf=0.0, n_estimators=100,\n",
      "                       n_jobs=None, oob_score=False, random_state=None,\n",
      "                       verbose=0, warm_start=False)\n",
      "0.7960146322680015\n",
      "\n",
      "\n",
      "AUC Score of DecisionTreeClassifier(ccp_alpha=0.0, class_weight=None, criterion='gini',\n",
      "                       max_depth=None, max_features=None, max_leaf_nodes=None,\n",
      "                       min_impurity_decrease=0.0, min_impurity_split=None,\n",
      "                       min_samples_leaf=1, min_samples_split=2,\n",
      "                       min_weight_fraction_leaf=0.0, presort='deprecated',\n",
      "                       random_state=None, splitter='best')\n",
      "0.698089141316904\n",
      "\n",
      "\n",
      "AUC Score of SVC(C=1.0, break_ties=False, cache_size=200, class_weight=None, coef0=0.0,\n",
      "    decision_function_shape='ovr', degree=3, gamma='scale', kernel='rbf',\n",
      "    max_iter=-1, probability=True, random_state=None, shrinking=True, tol=0.001,\n",
      "    verbose=False)\n",
      "0.5\n",
      "\n",
      "\n",
      "AUC Score of KNeighborsClassifier(algorithm='auto', leaf_size=30, metric='minkowski',\n",
      "                     metric_params=None, n_jobs=None, n_neighbors=5, p=2,\n",
      "                     weights='uniform')\n",
      "0.6328215248363496\n",
      "\n",
      "\n"
     ]
    }
   ],
   "source": [
    "model=(lg,rfc,dt,sv,knn)\n",
    "for m in model:\n",
    "    y_pred_prob=m.predict_proba(x_test)[:,1]    \n",
    "    fpr,tpr,thresholds=roc_curve(y_test,y_pred_prob)\n",
    "    auc_score=roc_auc_score(y_test,m.predict(x_test))\n",
    "    print('AUC Score of', m)\n",
    "    print(auc_score)\n",
    "    print('\\n')"
   ]
  },
  {
   "cell_type": "markdown",
   "metadata": {},
   "source": [
    "RFC has shown the best performance with AUC score of 79%"
   ]
  },
  {
   "cell_type": "markdown",
   "metadata": {},
   "source": [
    "Plotting the ROC_AUC curve with the help of True positive rate(tpr) and False positive rate(fpr)"
   ]
  },
  {
   "cell_type": "code",
   "execution_count": 63,
   "metadata": {
    "colab": {
     "base_uri": "https://localhost:8080/",
     "height": 249
    },
    "executionInfo": {
     "elapsed": 6957,
     "status": "ok",
     "timestamp": 1621641681298,
     "user": {
      "displayName": "Yunus Surty",
      "photoUrl": "",
      "userId": "12841903714310226526"
     },
     "user_tz": -330
    },
    "id": "U87PiFjxWUdd",
    "outputId": "e3704ff9-60b5-44fe-b856-a79feb28904d"
   },
   "outputs": [
    {
     "data": {
      "image/png": "[encoded data removed]",
      "text/plain": [
       "<Figure size 432x288 with 1 Axes>"
      ]
     },
     "metadata": {
      "needs_background": "light",
      "tags": []
     },
     "output_type": "display_data"
    }
   ],
   "source": [
    "plt.plot([0,1],[0,1],'k--')\n",
    "plt.plot(fpr,tpr,label='Random Forest Classiifer')\n",
    "plt.xlabel('False Positive rate')\n",
    "plt.ylabel('True Positive rate')\n",
    "plt.title('RandonForest Classfier')\n",
    "plt.show()"
   ]
  },
  {
   "cell_type": "markdown",
   "metadata": {
    "id": "4M0uRJYyWUdd"
   },
   "source": [
    "### HyperTuning of the model (RFC)"
   ]
  },
  {
   "cell_type": "markdown",
   "metadata": {},
   "source": [
    "Importing GridSearchCV which we use for hypertuning"
   ]
  },
  {
   "cell_type": "code",
   "execution_count": 64,
   "metadata": {
    "executionInfo": {
     "elapsed": 521,
     "status": "ok",
     "timestamp": 1621641688053,
     "user": {
      "displayName": "Yunus Surty",
      "photoUrl": "",
      "userId": "12841903714310226526"
     },
     "user_tz": -330
    },
    "id": "JniOwkEfZ3nI"
   },
   "outputs": [],
   "source": [
    "from sklearn.model_selection import GridSearchCV"
   ]
  },
  {
   "cell_type": "markdown",
   "metadata": {},
   "source": [
    "We will use below parameters for tuning our model"
   ]
  },
  {
   "cell_type": "code",
   "execution_count": 71,
   "metadata": {
    "executionInfo": {
     "elapsed": 371,
     "status": "ok",
     "timestamp": 1621641989059,
     "user": {
      "displayName": "Yunus Surty",
      "photoUrl": "",
      "userId": "12841903714310226526"
     },
     "user_tz": -330
    },
    "id": "McpS69_qaBtI"
   },
   "outputs": [],
   "source": [
    "parameters={'n_estimators':[100,250,500],'criterion':['gini','entropy'],'max_depth':np.arange(2,10)}"
   ]
  },
  {
   "cell_type": "code",
   "execution_count": 72,
   "metadata": {
    "executionInfo": {
     "elapsed": 11,
     "status": "ok",
     "timestamp": 1621641992696,
     "user": {
      "displayName": "Yunus Surty",
      "photoUrl": "",
      "userId": "12841903714310226526"
     },
     "user_tz": -330
    },
    "id": "8_sFFnPTbThe"
   },
   "outputs": [],
   "source": [
    "GCV=GridSearchCV(RandomForestClassifier(),parameters,cv=3)"
   ]
  },
  {
   "cell_type": "markdown",
   "metadata": {},
   "source": [
    "Training the model to find the best parameters"
   ]
  },
  {
   "cell_type": "code",
   "execution_count": 73,
   "metadata": {
    "colab": {
     "base_uri": "https://localhost:8080/"
    },
    "executionInfo": {
     "elapsed": 80517,
     "status": "ok",
     "timestamp": 1621642077137,
     "user": {
      "displayName": "Yunus Surty",
      "photoUrl": "",
      "userId": "12841903714310226526"
     },
     "user_tz": -330
    },
    "id": "lkpmobGfdC5d",
    "outputId": "3d58b58a-e5a7-454a-8b3c-d1d893c828bf"
   },
   "outputs": [
    {
     "data": {
      "text/plain": [
       "GridSearchCV(cv=3, error_score=nan,\n",
       "             estimator=RandomForestClassifier(bootstrap=True, ccp_alpha=0.0,\n",
       "                                              class_weight=None,\n",
       "                                              criterion='gini', max_depth=None,\n",
       "                                              max_features='auto',\n",
       "                                              max_leaf_nodes=None,\n",
       "                                              max_samples=None,\n",
       "                                              min_impurity_decrease=0.0,\n",
       "                                              min_impurity_split=None,\n",
       "                                              min_samples_leaf=1,\n",
       "                                              min_samples_split=2,\n",
       "                                              min_weight_fraction_leaf=0.0,\n",
       "                                              n_estimators=100, n_jobs=None,\n",
       "                                              oob_score=False,\n",
       "                                              random_state=None, verbose=0,\n",
       "                                              warm_start=False),\n",
       "             iid='deprecated', n_jobs=None,\n",
       "             param_grid={'criterion': ['gini', 'entropy'],\n",
       "                         'max_depth': array([2, 3, 4, 5, 6, 7, 8, 9]),\n",
       "                         'n_estimators': [100, 250, 500]},\n",
       "             pre_dispatch='2*n_jobs', refit=True, return_train_score=False,\n",
       "             scoring=None, verbose=0)"
      ]
     },
     "execution_count": 73,
     "metadata": {
      "tags": []
     },
     "output_type": "execute_result"
    }
   ],
   "source": [
    "GCV.fit(x_train,y_train)"
   ]
  },
  {
   "cell_type": "code",
   "execution_count": 74,
   "metadata": {
    "colab": {
     "base_uri": "https://localhost:8080/"
    },
    "executionInfo": {
     "elapsed": 1601,
     "status": "ok",
     "timestamp": 1621642272169,
     "user": {
      "displayName": "Yunus Surty",
      "photoUrl": "",
      "userId": "12841903714310226526"
     },
     "user_tz": -330
    },
    "id": "S0To04FHhIlr",
    "outputId": "fd38a575-7127-4bfb-9440-a75fbd3a19b3"
   },
   "outputs": [
    {
     "data": {
      "text/plain": [
       "{'criterion': 'gini', 'max_depth': 9, 'n_estimators': 250}"
      ]
     },
     "execution_count": 74,
     "metadata": {
      "tags": []
     },
     "output_type": "execute_result"
    }
   ],
   "source": [
    "GCV.best_params_"
   ]
  },
  {
   "cell_type": "markdown",
   "metadata": {},
   "source": [
    "Above are the best parameters we have got from GCV"
   ]
  },
  {
   "cell_type": "code",
   "execution_count": null,
   "metadata": {},
   "outputs": [],
   "source": []
  },
  {
   "cell_type": "markdown",
   "metadata": {},
   "source": [
    "Mow lets train our model with this parameters"
   ]
  },
  {
   "cell_type": "code",
   "execution_count": 76,
   "metadata": {
    "colab": {
     "base_uri": "https://localhost:8080/"
    },
    "executionInfo": {
     "elapsed": 1063,
     "status": "ok",
     "timestamp": 1621642453258,
     "user": {
      "displayName": "Yunus Surty",
      "photoUrl": "",
      "userId": "12841903714310226526"
     },
     "user_tz": -330
    },
    "id": "op7Kg_cQl_gh",
    "outputId": "3736e28d-606b-4f29-ee0f-583423fe1a00"
   },
   "outputs": [
    {
     "name": "stdout",
     "output_type": "stream",
     "text": [
      "91.91011235955057\n"
     ]
    }
   ],
   "source": [
    "Finalmod=RandomForestClassifier(n_estimators=250, max_depth=9, criterion='gini')\n",
    "Finalmod.fit(x_train,y_train)\n",
    "pred=Finalmod.predict(x_test)\n",
    "acc=accuracy_score(y_test,pred)\n",
    "print(acc*100)"
   ]
  },
  {
   "cell_type": "markdown",
   "metadata": {
    "id": "CKwvq82pojo5"
   },
   "source": [
    "The model has given us the 92% accuracy\n",
    "\n",
    "Lets check the AUC score with this model"
   ]
  },
  {
   "cell_type": "code",
   "execution_count": 78,
   "metadata": {
    "colab": {
     "base_uri": "https://localhost:8080/"
    },
    "executionInfo": {
     "elapsed": 622,
     "status": "ok",
     "timestamp": 1621642878874,
     "user": {
      "displayName": "Yunus Surty",
      "photoUrl": "",
      "userId": "12841903714310226526"
     },
     "user_tz": -330
    },
    "id": "ZBks-gIcbULk",
    "outputId": "54603c3f-b790-4b02-e576-a56c661b3249"
   },
   "outputs": [
    {
     "name": "stdout",
     "output_type": "stream",
     "text": [
      "AUC Score of RandomForestClassifier(bootstrap=True, ccp_alpha=0.0, class_weight=None,\n",
      "                       criterion='gini', max_depth=9, max_features='auto',\n",
      "                       max_leaf_nodes=None, max_samples=None,\n",
      "                       min_impurity_decrease=0.0, min_impurity_split=None,\n",
      "                       min_samples_leaf=1, min_samples_split=2,\n",
      "                       min_weight_fraction_leaf=0.0, n_estimators=250,\n",
      "                       n_jobs=None, oob_score=False, random_state=None,\n",
      "                       verbose=0, warm_start=False)\n",
      "0.766437235271467\n"
     ]
    }
   ],
   "source": [
    "y_pred_prob=Finalmod.predict_proba(x_test)[:,1]    \n",
    "fpr,tpr,thresholds=roc_curve(y_test,y_pred_prob)\n",
    "auc_score=roc_auc_score(y_test,Finalmod.predict(x_test))\n",
    "print('AUC Score of', Finalmod)\n",
    "print(auc_score)"
   ]
  },
  {
   "cell_type": "code",
   "execution_count": 80,
   "metadata": {
    "colab": {
     "base_uri": "https://localhost:8080/",
     "height": 249
    },
    "executionInfo": {
     "elapsed": 901,
     "status": "ok",
     "timestamp": 1621642984572,
     "user": {
      "displayName": "Yunus Surty",
      "photoUrl": "",
      "userId": "12841903714310226526"
     },
     "user_tz": -330
    },
    "id": "rs-z-hx6cQ1t",
    "outputId": "22d7e3a4-1aaf-4446-a832-80375ba6cf30"
   },
   "outputs": [
    {
     "data": {
      "image/png": "[encoded data removed]",
      "text/plain": [
       "<Figure size 432x288 with 1 Axes>"
      ]
     },
     "metadata": {
      "needs_background": "light",
      "tags": []
     },
     "output_type": "display_data"
    }
   ],
   "source": [
    "plt.plot([0,1],[0,1],'k--')\n",
    "plt.plot(fpr,tpr,label='Random Forest Classiifer')\n",
    "plt.xlabel('False Positive rate')\n",
    "plt.ylabel('True Positive rate')\n",
    "plt.title('RandonForest Classfier')\n",
    "plt.show()"
   ]
  },
  {
   "cell_type": "markdown",
   "metadata": {},
   "source": [
    "## Conclusion"
   ]
  },
  {
   "cell_type": "markdown",
   "metadata": {},
   "source": [
    "RFC model has given us the accuracy of 92% with ROC_AUC score of 76%.\n",
    "\n",
    "We will save this project now"
   ]
  },
  {
   "cell_type": "code",
   "execution_count": null,
   "metadata": {
    "colab": {
     "base_uri": "https://localhost:8080/"
    },
    "executionInfo": {
     "elapsed": 569,
     "status": "ok",
     "timestamp": 1621551297893,
     "user": {
      "displayName": "Yunus Surty",
      "photoUrl": "",
      "userId": "12841903714310226526"
     },
     "user_tz": -330
    },
    "id": "KU2vCxmworUg",
    "outputId": "f069db65-e8bf-4781-f7bc-f4b40abbefc6"
   },
   "outputs": [
    {
     "data": {
      "text/plain": [
       "['Red_wine_quality.obj']"
      ]
     },
     "execution_count": 157,
     "metadata": {
      "tags": []
     },
     "output_type": "execute_result"
    }
   ],
   "source": [
    "import joblib\n",
    "joblib.dump(Finalmod,'Red_wine_quality.obj')"
   ]
  }
 ],
 "metadata": {
  "colab": {
   "collapsed_sections": [],
   "name": "Red Wine Quality Project Final.ipynb",
   "provenance": []
  },
  "kernelspec": {
   "display_name": "Python 3",
   "language": "python",
   "name": "python3"
  },
  "language_info": {
   "codemirror_mode": {
    "name": "ipython",
    "version": 3
   },
   "file_extension": ".py",
   "mimetype": "text/x-python",
   "name": "python",
   "nbconvert_exporter": "python",
   "pygments_lexer": "ipython3",
   "version": "3.8.5"
  }
 },
 "nbformat": 4,
 "nbformat_minor": 1
}
